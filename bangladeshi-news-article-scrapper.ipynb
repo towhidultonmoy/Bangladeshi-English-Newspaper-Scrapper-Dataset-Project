{
 "cells": [
  {
   "cell_type": "code",
   "execution_count": 1,
   "id": "80a9c46a",
   "metadata": {
    "_cell_guid": "b1076dfc-b9ad-4769-8c92-a6c4dae69d19",
    "_uuid": "8f2839f25d086af736a60e9eeb907d3b93b6e0e5",
    "execution": {
     "iopub.execute_input": "2022-06-06T05:37:31.605299Z",
     "iopub.status.busy": "2022-06-06T05:37:31.604581Z",
     "iopub.status.idle": "2022-06-06T05:37:31.616971Z",
     "shell.execute_reply": "2022-06-06T05:37:31.615779Z"
    },
    "papermill": {
     "duration": 0.022922,
     "end_time": "2022-06-06T05:37:31.619422",
     "exception": false,
     "start_time": "2022-06-06T05:37:31.596500",
     "status": "completed"
    },
    "tags": []
   },
   "outputs": [],
   "source": [
    "# This Python 3 environment comes with many helpful analytics libraries installed\n",
    "# It is defined by the kaggle/python Docker image: https://github.com/kaggle/docker-python\n",
    "# For example, here's several helpful packages to load\n",
    "\n",
    "import numpy as np # linear algebra\n",
    "import pandas as pd # data processing, CSV file I/O (e.g. pd.read_csv)\n",
    "\n",
    "# Input data files are available in the read-only \"../input/\" directory\n",
    "# For example, running this (by clicking run or pressing Shift+Enter) will list all files under the input directory\n",
    "\n",
    "import os\n",
    "for dirname, _, filenames in os.walk('/kaggle/input'):\n",
    "    for filename in filenames:\n",
    "        print(os.path.join(dirname, filename))\n",
    "\n",
    "# You can write up to 20GB to the current directory (/kaggle/working/) that gets preserved as output when you create a version using \"Save & Run All\" \n",
    "# You can also write temporary files to /kaggle/temp/, but they won't be saved outside of the current session"
   ]
  },
  {
   "cell_type": "code",
   "execution_count": 2,
   "id": "8069dd5e",
   "metadata": {
    "execution": {
     "iopub.execute_input": "2022-06-06T05:37:31.635466Z",
     "iopub.status.busy": "2022-06-06T05:37:31.634687Z",
     "iopub.status.idle": "2022-06-06T05:37:56.478939Z",
     "shell.execute_reply": "2022-06-06T05:37:56.477612Z"
    },
    "papermill": {
     "duration": 24.854089,
     "end_time": "2022-06-06T05:37:56.481407",
     "exception": false,
     "start_time": "2022-06-06T05:37:31.627318",
     "status": "completed"
    },
    "tags": []
   },
   "outputs": [],
   "source": [
    "%%capture\n",
    "!pip3 install newspaper3k"
   ]
  },
  {
   "cell_type": "code",
   "execution_count": 3,
   "id": "613cf00f",
   "metadata": {
    "execution": {
     "iopub.execute_input": "2022-06-06T05:37:56.493385Z",
     "iopub.status.busy": "2022-06-06T05:37:56.492976Z",
     "iopub.status.idle": "2022-06-06T05:37:56.779292Z",
     "shell.execute_reply": "2022-06-06T05:37:56.778318Z"
    },
    "papermill": {
     "duration": 0.29508,
     "end_time": "2022-06-06T05:37:56.781600",
     "exception": false,
     "start_time": "2022-06-06T05:37:56.486520",
     "status": "completed"
    },
    "tags": []
   },
   "outputs": [],
   "source": [
    "import newspaper\n",
    "from tqdm import tqdm\n",
    "from datetime import datetime, timedelta, timezone"
   ]
  },
  {
   "cell_type": "code",
   "execution_count": 4,
   "id": "e63ecee6",
   "metadata": {
    "execution": {
     "iopub.execute_input": "2022-06-06T05:37:56.793207Z",
     "iopub.status.busy": "2022-06-06T05:37:56.792827Z",
     "iopub.status.idle": "2022-06-06T05:38:22.243255Z",
     "shell.execute_reply": "2022-06-06T05:38:22.242448Z"
    },
    "papermill": {
     "duration": 25.458996,
     "end_time": "2022-06-06T05:38:22.245587",
     "exception": false,
     "start_time": "2022-06-06T05:37:56.786591",
     "status": "completed"
    },
    "tags": []
   },
   "outputs": [],
   "source": [
    "startup_paper1 = newspaper.build('https://www.thedailystar.net/')\n",
    "startup_paper2 = newspaper.build('https://thefinancialexpress.com.bd/')\n",
    "startup_paper3 = newspaper.build('https://www.newagebd.net/')\n",
    "startup_paper4 = newspaper.build('https://www.dhakatribune.com/')\n",
    "startup_paper5 = newspaper.build('https://www.daily-sun.com/')\n",
    "startup_paper6 = newspaper.build('https://m.theindependentbd.com/')"
   ]
  },
  {
   "cell_type": "code",
   "execution_count": 5,
   "id": "6a41eb88",
   "metadata": {
    "execution": {
     "iopub.execute_input": "2022-06-06T05:38:22.257580Z",
     "iopub.status.busy": "2022-06-06T05:38:22.257193Z",
     "iopub.status.idle": "2022-06-06T05:38:22.266178Z",
     "shell.execute_reply": "2022-06-06T05:38:22.265256Z"
    },
    "papermill": {
     "duration": 0.018917,
     "end_time": "2022-06-06T05:38:22.269497",
     "exception": false,
     "start_time": "2022-06-06T05:38:22.250580",
     "status": "completed"
    },
    "tags": []
   },
   "outputs": [
    {
     "data": {
      "text/plain": [
       "5980"
      ]
     },
     "execution_count": 5,
     "metadata": {},
     "output_type": "execute_result"
    }
   ],
   "source": [
    "len(startup_paper1.articles+startup_paper2.articles+startup_paper3.articles+startup_paper4.articles+startup_paper5.articles+startup_paper6.articles)"
   ]
  },
  {
   "cell_type": "code",
   "execution_count": 6,
   "id": "f9de3dba",
   "metadata": {
    "execution": {
     "iopub.execute_input": "2022-06-06T05:38:22.281361Z",
     "iopub.status.busy": "2022-06-06T05:38:22.280967Z",
     "iopub.status.idle": "2022-06-06T05:57:27.916987Z",
     "shell.execute_reply": "2022-06-06T05:57:27.915201Z"
    },
    "papermill": {
     "duration": 1145.644555,
     "end_time": "2022-06-06T05:57:27.919132",
     "exception": false,
     "start_time": "2022-06-06T05:38:22.274577",
     "status": "completed"
    },
    "tags": []
   },
   "outputs": [
    {
     "name": "stderr",
     "output_type": "stream",
     "text": [
      "  3%|▎         | 21/709 [00:05<06:16,  1.83it/s]"
     ]
    },
    {
     "name": "stdout",
     "output_type": "stream",
     "text": [
      "Article `download()` failed with 404 Client Error: Not Found for url: https://www.thedailystar.net/%E0%A6%B8%E0%A6%82%E0%A6%AC%E0%A6%BE%E0%A6%A6/%E0%A6%AC%E0%A6%BE%E0%A6%82%E0%A6%B2%E0%A6%BE%E0%A6%A6%E0%A7%87%E0%A6%B6/%E0%A6%A6%E0%A7%81%E0%A6%B0%E0%A7%8D%E0%A6%98%E0%A6%9F%E0%A6%A8%E0%A6%BE-%E0%A6%85%E0%A6%97%E0%A7%8D%E0%A6%A8%E0%A6%BF%E0%A6%95%E0%A6%BE%E0%A6%A3%E0%A7%8D%E0%A6%A1/%E0%A7%A9-%E0%A6%AE%E0%A6%BE%E0%A6%B8%E0%A7%87%E0%A6%B0-%E0%A6%B6%E0%A6%BF%E0%A6%B6%E0%A7%81-%E0%A6%95%E0%A7%8B%E0%A6%B2%E0%A7%87-%E0%A6%A8%E0%A6%BF%E0%A7%9F%E0%A7%87-%E0%A6%B8%E0%A7%8D%E0%A6%AC%E0%A6%BE%E0%A6%AE%E0%A7%80%E0%A6%B0-%E0%A6%85%E0%A6%AA%E0%A7%87%E0%A6%95%E0%A7%8D%E0%A6%B7%E0%A6%BE%E0%A7%9F-%E0%A6%B0%E0%A7%87%E0%A6%B6%E0%A6%AE%E0%A7%80-356321 on URL https://www.thedailystar.net/%E0%A6%B8%E0%A6%82%E0%A6%AC%E0%A6%BE%E0%A6%A6/%E0%A6%AC%E0%A6%BE%E0%A6%82%E0%A6%B2%E0%A6%BE%E0%A6%A6%E0%A7%87%E0%A6%B6/%E0%A6%A6%E0%A7%81%E0%A6%B0%E0%A7%8D%E0%A6%98%E0%A6%9F%E0%A6%A8%E0%A6%BE-%E0%A6%85%E0%A6%97%E0%A7%8D%E0%A6%A8%E0%A6%BF%E0%A6%95%E0%A6%BE%E0%A6%A3%E0%A7%8D%E0%A6%A1/%E0%A7%A9-%E0%A6%AE%E0%A6%BE%E0%A6%B8%E0%A7%87%E0%A6%B0-%E0%A6%B6%E0%A6%BF%E0%A6%B6%E0%A7%81-%E0%A6%95%E0%A7%8B%E0%A6%B2%E0%A7%87-%E0%A6%A8%E0%A6%BF%E0%A7%9F%E0%A7%87-%E0%A6%B8%E0%A7%8D%E0%A6%AC%E0%A6%BE%E0%A6%AE%E0%A7%80%E0%A6%B0-%E0%A6%85%E0%A6%AA%E0%A7%87%E0%A6%95%E0%A7%8D%E0%A6%B7%E0%A6%BE%E0%A7%9F-%E0%A6%B0%E0%A7%87%E0%A6%B6%E0%A6%AE%E0%A7%80-356321\n"
     ]
    },
    {
     "name": "stderr",
     "output_type": "stream",
     "text": [
      "  3%|▎         | 24/709 [00:06<04:20,  2.63it/s]"
     ]
    },
    {
     "name": "stdout",
     "output_type": "stream",
     "text": [
      "Article `download()` failed with 404 Client Error: Not Found for url: https://www.thedailystar.net/%E0%A6%B8%E0%A6%82%E0%A6%AC%E0%A6%BE%E0%A6%A6/%E0%A6%AC%E0%A6%BE%E0%A6%82%E0%A6%B2%E0%A6%BE%E0%A6%A6%E0%A7%87%E0%A6%B6/%E0%A6%A6%E0%A7%81%E0%A6%B0%E0%A7%8D%E0%A6%98%E0%A6%9F%E0%A6%A8%E0%A6%BE-%E0%A6%85%E0%A6%97%E0%A7%8D%E0%A6%A8%E0%A6%BF%E0%A6%95%E0%A6%BE%E0%A6%A3%E0%A7%8D%E0%A6%A1/%E0%A6%AA%E0%A6%B0%E0%A6%AE%E0%A6%BE%E0%A6%A3%E0%A7%81-%E0%A6%95%E0%A6%AE%E0%A6%BF%E0%A6%B6%E0%A6%A8%E0%A7%87%E0%A6%B0-%E0%A7%A9-%E0%A6%95%E0%A6%B0%E0%A7%8D%E0%A6%AE%E0%A6%95%E0%A6%B0%E0%A7%8D%E0%A6%A4%E0%A6%BE-%E0%A6%A8%E0%A6%BF%E0%A6%B9%E0%A6%A4-%E0%A6%B8%E0%A7%87%E0%A6%87-%E0%A6%AC%E0%A6%BE%E0%A6%B8%E0%A6%9A%E0%A6%BE%E0%A6%B2%E0%A6%95%E0%A7%87%E0%A6%B0-%E0%A6%AC%E0%A6%BF%E0%A6%B0%E0%A7%81%E0%A6%A6%E0%A7%8D%E0%A6%A7%E0%A7%87-%E0%A6%AE%E0%A6%BE%E0%A6%AE%E0%A6%B2%E0%A6%BE on URL https://www.thedailystar.net/%E0%A6%B8%E0%A6%82%E0%A6%AC%E0%A6%BE%E0%A6%A6/%E0%A6%AC%E0%A6%BE%E0%A6%82%E0%A6%B2%E0%A6%BE%E0%A6%A6%E0%A7%87%E0%A6%B6/%E0%A6%A6%E0%A7%81%E0%A6%B0%E0%A7%8D%E0%A6%98%E0%A6%9F%E0%A6%A8%E0%A6%BE-%E0%A6%85%E0%A6%97%E0%A7%8D%E0%A6%A8%E0%A6%BF%E0%A6%95%E0%A6%BE%E0%A6%A3%E0%A7%8D%E0%A6%A1/%E0%A6%AA%E0%A6%B0%E0%A6%AE%E0%A6%BE%E0%A6%A3%E0%A7%81-%E0%A6%95%E0%A6%AE%E0%A6%BF%E0%A6%B6%E0%A6%A8%E0%A7%87%E0%A6%B0-%E0%A7%A9-%E0%A6%95%E0%A6%B0%E0%A7%8D%E0%A6%AE%E0%A6%95%E0%A6%B0%E0%A7%8D%E0%A6%A4%E0%A6%BE-%E0%A6%A8%E0%A6%BF%E0%A6%B9%E0%A6%A4-%E0%A6%B8%E0%A7%87%E0%A6%87-%E0%A6%AC%E0%A6%BE%E0%A6%B8%E0%A6%9A%E0%A6%BE%E0%A6%B2%E0%A6%95%E0%A7%87%E0%A6%B0-%E0%A6%AC%E0%A6%BF%E0%A6%B0%E0%A7%81%E0%A6%A6%E0%A7%8D%E0%A6%A7%E0%A7%87-%E0%A6%AE%E0%A6%BE%E0%A6%AE%E0%A6%B2%E0%A6%BE\n",
      "Article `download()` failed with 404 Client Error: Not Found for url: https://www.thedailystar.net/%E0%A6%B8%E0%A6%82%E0%A6%AC%E0%A6%BE%E0%A6%A6/%E0%A6%AC%E0%A6%BE%E0%A6%82%E0%A6%B2%E0%A6%BE%E0%A6%A6%E0%A7%87%E0%A6%B6/%E0%A6%A6%E0%A7%81%E0%A6%B0%E0%A7%8D%E0%A6%98%E0%A6%9F%E0%A6%A8%E0%A6%BE-%E0%A6%85%E0%A6%97%E0%A7%8D%E0%A6%A8%E0%A6%BF%E0%A6%95%E0%A6%BE%E0%A6%A3%E0%A7%8D%E0%A6%A1/%E0%A7%A9%E0%A7%AD-%E0%A6%98%E0%A6%A3%E0%A7%8D%E0%A6%9F%E0%A6%BE-%E0%A6%AA%E0%A6%B0%E0%A6%93-%E0%A6%9C%E0%A7%8D%E0%A6%AC%E0%A6%B2%E0%A6%9B%E0%A7%87-%E0%A6%86%E0%A6%97%E0%A7%81%E0%A6%A8-%E0%A6%95%E0%A7%8B%E0%A6%A8%E0%A7%8B-%E0%A6%AE%E0%A6%BE%E0%A6%AE%E0%A6%B2%E0%A6%BE-%E0%A6%B9%E0%A6%AF%E0%A6%BC%E0%A6%A8%E0%A6%BF-356311 on URL https://www.thedailystar.net/%E0%A6%B8%E0%A6%82%E0%A6%AC%E0%A6%BE%E0%A6%A6/%E0%A6%AC%E0%A6%BE%E0%A6%82%E0%A6%B2%E0%A6%BE%E0%A6%A6%E0%A7%87%E0%A6%B6/%E0%A6%A6%E0%A7%81%E0%A6%B0%E0%A7%8D%E0%A6%98%E0%A6%9F%E0%A6%A8%E0%A6%BE-%E0%A6%85%E0%A6%97%E0%A7%8D%E0%A6%A8%E0%A6%BF%E0%A6%95%E0%A6%BE%E0%A6%A3%E0%A7%8D%E0%A6%A1/%E0%A7%A9%E0%A7%AD-%E0%A6%98%E0%A6%A3%E0%A7%8D%E0%A6%9F%E0%A6%BE-%E0%A6%AA%E0%A6%B0%E0%A6%93-%E0%A6%9C%E0%A7%8D%E0%A6%AC%E0%A6%B2%E0%A6%9B%E0%A7%87-%E0%A6%86%E0%A6%97%E0%A7%81%E0%A6%A8-%E0%A6%95%E0%A7%8B%E0%A6%A8%E0%A7%8B-%E0%A6%AE%E0%A6%BE%E0%A6%AE%E0%A6%B2%E0%A6%BE-%E0%A6%B9%E0%A6%AF%E0%A6%BC%E0%A6%A8%E0%A6%BF-356311\n",
      "Article `download()` failed with 404 Client Error: Not Found for url: https://www.thedailystar.net/%E0%A6%85%E0%A6%AD%E0%A6%BF%E0%A6%AE%E0%A6%A4/%E0%A6%B8%E0%A6%AE%E0%A7%8D%E0%A6%AA%E0%A6%BE%E0%A6%A6%E0%A6%95%E0%A7%80%E0%A7%9F/%E0%A6%86%E0%A6%AE%E0%A6%BE%E0%A6%A6%E0%A7%87%E0%A6%B0-%E0%A6%B6%E0%A6%BF%E0%A6%B2%E0%A7%8D%E0%A6%AA-%E0%A6%A8%E0%A6%BF%E0%A6%B0%E0%A6%BE%E0%A6%AA%E0%A6%A4%E0%A7%8D%E0%A6%A4%E0%A6%BE%E0%A6%B0-%E0%A6%A6%E0%A7%81%E0%A6%B0%E0%A7%8D%E0%A6%AC%E0%A6%B2%E0%A6%A4%E0%A6%BE-%E0%A6%93-%E0%A6%B8%E0%A7%80%E0%A6%A4%E0%A6%BE%E0%A6%95%E0%A7%81%E0%A6%A3%E0%A7%8D%E0%A6%A1%E0%A7%87%E0%A6%B0-%E0%A6%A6%E0%A7%81%E0%A6%83%E0%A6%B8%E0%A7%8D%E0%A6%AC%E0%A6%AA%E0%A7%8D%E0%A6%A8-356306 on URL https://www.thedailystar.net/%E0%A6%85%E0%A6%AD%E0%A6%BF%E0%A6%AE%E0%A6%A4/%E0%A6%B8%E0%A6%AE%E0%A7%8D%E0%A6%AA%E0%A6%BE%E0%A6%A6%E0%A6%95%E0%A7%80%E0%A7%9F/%E0%A6%86%E0%A6%AE%E0%A6%BE%E0%A6%A6%E0%A7%87%E0%A6%B0-%E0%A6%B6%E0%A6%BF%E0%A6%B2%E0%A7%8D%E0%A6%AA-%E0%A6%A8%E0%A6%BF%E0%A6%B0%E0%A6%BE%E0%A6%AA%E0%A6%A4%E0%A7%8D%E0%A6%A4%E0%A6%BE%E0%A6%B0-%E0%A6%A6%E0%A7%81%E0%A6%B0%E0%A7%8D%E0%A6%AC%E0%A6%B2%E0%A6%A4%E0%A6%BE-%E0%A6%93-%E0%A6%B8%E0%A7%80%E0%A6%A4%E0%A6%BE%E0%A6%95%E0%A7%81%E0%A6%A3%E0%A7%8D%E0%A6%A1%E0%A7%87%E0%A6%B0-%E0%A6%A6%E0%A7%81%E0%A6%83%E0%A6%B8%E0%A7%8D%E0%A6%AC%E0%A6%AA%E0%A7%8D%E0%A6%A8-356306\n",
      "Article `download()` failed with 404 Client Error: Not Found for url: https://www.thedailystar.net/%E0%A6%B8%E0%A6%82%E0%A6%AC%E0%A6%BE%E0%A6%A6/%E0%A6%AC%E0%A6%BE%E0%A6%82%E0%A6%B2%E0%A6%BE%E0%A6%A6%E0%A7%87%E0%A6%B6/%E0%A6%A6%E0%A7%81%E0%A6%B0%E0%A7%8D%E0%A6%98%E0%A6%9F%E0%A6%A8%E0%A6%BE-%E0%A6%85%E0%A6%97%E0%A7%8D%E0%A6%A8%E0%A6%BF%E0%A6%95%E0%A6%BE%E0%A6%A3%E0%A7%8D%E0%A6%A1/%E0%A6%B8%E0%A6%BF%E0%A6%B2%E0%A7%87%E0%A6%9F%E0%A7%87%E0%A6%B0-%E0%A6%9C%E0%A7%88%E0%A6%A8%E0%A7%8D%E0%A6%A4%E0%A6%BE%E0%A6%AA%E0%A7%81%E0%A6%B0%E0%A7%87-%E0%A6%9F%E0%A6%BF%E0%A6%B2%E0%A6%BE-%E0%A6%A7%E0%A6%B8%E0%A7%87-%E0%A6%8F%E0%A6%95%E0%A6%87-%E0%A6%AA%E0%A6%B0%E0%A6%BF%E0%A6%AC%E0%A6%BE%E0%A6%B0%E0%A7%87-%E0%A6%A8%E0%A6%BF%E0%A6%B9%E0%A6%A4-%E0%A7%AA-356326 on URL https://www.thedailystar.net/%E0%A6%B8%E0%A6%82%E0%A6%AC%E0%A6%BE%E0%A6%A6/%E0%A6%AC%E0%A6%BE%E0%A6%82%E0%A6%B2%E0%A6%BE%E0%A6%A6%E0%A7%87%E0%A6%B6/%E0%A6%A6%E0%A7%81%E0%A6%B0%E0%A7%8D%E0%A6%98%E0%A6%9F%E0%A6%A8%E0%A6%BE-%E0%A6%85%E0%A6%97%E0%A7%8D%E0%A6%A8%E0%A6%BF%E0%A6%95%E0%A6%BE%E0%A6%A3%E0%A7%8D%E0%A6%A1/%E0%A6%B8%E0%A6%BF%E0%A6%B2%E0%A7%87%E0%A6%9F%E0%A7%87%E0%A6%B0-%E0%A6%9C%E0%A7%88%E0%A6%A8%E0%A7%8D%E0%A6%A4%E0%A6%BE%E0%A6%AA%E0%A7%81%E0%A6%B0%E0%A7%87-%E0%A6%9F%E0%A6%BF%E0%A6%B2%E0%A6%BE-%E0%A6%A7%E0%A6%B8%E0%A7%87-%E0%A6%8F%E0%A6%95%E0%A6%87-%E0%A6%AA%E0%A6%B0%E0%A6%BF%E0%A6%AC%E0%A6%BE%E0%A6%B0%E0%A7%87-%E0%A6%A8%E0%A6%BF%E0%A6%B9%E0%A6%A4-%E0%A7%AA-356326\n"
     ]
    },
    {
     "name": "stderr",
     "output_type": "stream",
     "text": [
      "  4%|▍         | 28/709 [00:07<02:05,  5.44it/s]"
     ]
    },
    {
     "name": "stdout",
     "output_type": "stream",
     "text": [
      "Article `download()` failed with 404 Client Error: Not Found for url: https://www.thedailystar.net/%E0%A6%B8%E0%A6%82%E0%A6%AC%E0%A6%BE%E0%A6%A6/%E0%A6%AC%E0%A6%BE%E0%A6%82%E0%A6%B2%E0%A6%BE%E0%A6%A6%E0%A7%87%E0%A6%B6/%E0%A6%A6%E0%A7%81%E0%A6%B0%E0%A7%8D%E0%A6%98%E0%A6%9F%E0%A6%A8%E0%A6%BE-%E0%A6%85%E0%A6%97%E0%A7%8D%E0%A6%A8%E0%A6%BF%E0%A6%95%E0%A6%BE%E0%A6%A3%E0%A7%8D%E0%A6%A1/%E0%A6%A6%E0%A6%97%E0%A7%8D%E0%A6%A7-%E0%A6%93%E0%A6%AE%E0%A6%B0-%E0%A6%AB%E0%A6%BE%E0%A6%B0%E0%A7%81%E0%A6%95%E0%A7%87%E0%A6%B0-%E0%A6%A6%E0%A6%BF%E0%A6%95%E0%A7%87-%E0%A6%A4%E0%A6%BE%E0%A6%95%E0%A6%BE%E0%A6%A4%E0%A7%87-%E0%A6%AA%E0%A6%BE%E0%A6%B0%E0%A6%9B%E0%A7%87%E0%A6%A8-%E0%A6%A8%E0%A6%BE-%E0%A6%AE%E0%A6%BE-%E0%A6%A8%E0%A7%81%E0%A6%B0%E0%A7%81%E0%A6%A8%E0%A7%8D%E0%A6%A8%E0%A6%BE%E0%A6%B9%E0%A6%BE%E0%A6%B0-356296 on URL https://www.thedailystar.net/%E0%A6%B8%E0%A6%82%E0%A6%AC%E0%A6%BE%E0%A6%A6/%E0%A6%AC%E0%A6%BE%E0%A6%82%E0%A6%B2%E0%A6%BE%E0%A6%A6%E0%A7%87%E0%A6%B6/%E0%A6%A6%E0%A7%81%E0%A6%B0%E0%A7%8D%E0%A6%98%E0%A6%9F%E0%A6%A8%E0%A6%BE-%E0%A6%85%E0%A6%97%E0%A7%8D%E0%A6%A8%E0%A6%BF%E0%A6%95%E0%A6%BE%E0%A6%A3%E0%A7%8D%E0%A6%A1/%E0%A6%A6%E0%A6%97%E0%A7%8D%E0%A6%A7-%E0%A6%93%E0%A6%AE%E0%A6%B0-%E0%A6%AB%E0%A6%BE%E0%A6%B0%E0%A7%81%E0%A6%95%E0%A7%87%E0%A6%B0-%E0%A6%A6%E0%A6%BF%E0%A6%95%E0%A7%87-%E0%A6%A4%E0%A6%BE%E0%A6%95%E0%A6%BE%E0%A6%A4%E0%A7%87-%E0%A6%AA%E0%A6%BE%E0%A6%B0%E0%A6%9B%E0%A7%87%E0%A6%A8-%E0%A6%A8%E0%A6%BE-%E0%A6%AE%E0%A6%BE-%E0%A6%A8%E0%A7%81%E0%A6%B0%E0%A7%81%E0%A6%A8%E0%A7%8D%E0%A6%A8%E0%A6%BE%E0%A6%B9%E0%A6%BE%E0%A6%B0-356296\n",
      "Article `download()` failed with 404 Client Error: Not Found for url: https://www.thedailystar.net/%E0%A6%B8%E0%A7%8D%E0%A6%9F%E0%A6%BE%E0%A6%B0-%E0%A6%AE%E0%A6%BE%E0%A6%B2%E0%A7%8D%E0%A6%9F%E0%A6%BF%E0%A6%AE%E0%A6%BF%E0%A6%A1%E0%A6%BF%E0%A7%9F%E0%A6%BE/%E0%A6%AF%E0%A7%87%E0%A6%AD%E0%A6%BE%E0%A6%AC%E0%A7%87-%E0%A6%9C%E0%A6%BE%E0%A6%A4%E0%A7%80%E0%A7%9F-%E0%A6%AC%E0%A6%BE%E0%A6%9C%E0%A7%87%E0%A6%9F-%E0%A6%A4%E0%A7%88%E0%A6%B0%E0%A6%BF-%E0%A6%B9%E0%A7%9F-356301 on URL https://www.thedailystar.net/%E0%A6%B8%E0%A7%8D%E0%A6%9F%E0%A6%BE%E0%A6%B0-%E0%A6%AE%E0%A6%BE%E0%A6%B2%E0%A7%8D%E0%A6%9F%E0%A6%BF%E0%A6%AE%E0%A6%BF%E0%A6%A1%E0%A6%BF%E0%A7%9F%E0%A6%BE/%E0%A6%AF%E0%A7%87%E0%A6%AD%E0%A6%BE%E0%A6%AC%E0%A7%87-%E0%A6%9C%E0%A6%BE%E0%A6%A4%E0%A7%80%E0%A7%9F-%E0%A6%AC%E0%A6%BE%E0%A6%9C%E0%A7%87%E0%A6%9F-%E0%A6%A4%E0%A7%88%E0%A6%B0%E0%A6%BF-%E0%A6%B9%E0%A7%9F-356301\n",
      "Article `download()` failed with 404 Client Error: Not Found for url: https://www.thedailystar.net/%E0%A6%B8%E0%A6%82%E0%A6%AC%E0%A6%BE%E0%A6%A6/%E0%A6%AC%E0%A6%BE%E0%A6%82%E0%A6%B2%E0%A6%BE%E0%A6%A6%E0%A7%87%E0%A6%B6/%E0%A6%A6%E0%A7%81%E0%A6%B0%E0%A7%8D%E0%A6%98%E0%A6%9F%E0%A6%A8%E0%A6%BE-%E0%A6%85%E0%A6%97%E0%A7%8D%E0%A6%A8%E0%A6%BF%E0%A6%95%E0%A6%BE%E0%A6%A3%E0%A7%8D%E0%A6%A1/%E0%A6%B9%E0%A6%BE%E0%A6%A4-%E0%A6%95%E0%A7%87%E0%A6%9F%E0%A7%87-%E0%A6%AB%E0%A7%87%E0%A6%B2%E0%A6%B2%E0%A7%87%E0%A6%93-%E0%A6%86%E0%A6%AE%E0%A6%BE%E0%A6%B0-%E0%A6%B8%E0%A7%8D%E0%A6%AC%E0%A6%BE%E0%A6%AE%E0%A7%80-%E0%A6%A4%E0%A7%8B-%E0%A6%85%E0%A6%A8%E0%A7%8D%E0%A6%A4%E0%A6%A4-%E0%A6%AC%E0%A7%87%E0%A6%81%E0%A6%9A%E0%A7%87-%E0%A6%86%E0%A6%9B%E0%A7%87%E0%A6%A8-356271 on URL https://www.thedailystar.net/%E0%A6%B8%E0%A6%82%E0%A6%AC%E0%A6%BE%E0%A6%A6/%E0%A6%AC%E0%A6%BE%E0%A6%82%E0%A6%B2%E0%A6%BE%E0%A6%A6%E0%A7%87%E0%A6%B6/%E0%A6%A6%E0%A7%81%E0%A6%B0%E0%A7%8D%E0%A6%98%E0%A6%9F%E0%A6%A8%E0%A6%BE-%E0%A6%85%E0%A6%97%E0%A7%8D%E0%A6%A8%E0%A6%BF%E0%A6%95%E0%A6%BE%E0%A6%A3%E0%A7%8D%E0%A6%A1/%E0%A6%B9%E0%A6%BE%E0%A6%A4-%E0%A6%95%E0%A7%87%E0%A6%9F%E0%A7%87-%E0%A6%AB%E0%A7%87%E0%A6%B2%E0%A6%B2%E0%A7%87%E0%A6%93-%E0%A6%86%E0%A6%AE%E0%A6%BE%E0%A6%B0-%E0%A6%B8%E0%A7%8D%E0%A6%AC%E0%A6%BE%E0%A6%AE%E0%A7%80-%E0%A6%A4%E0%A7%8B-%E0%A6%85%E0%A6%A8%E0%A7%8D%E0%A6%A4%E0%A6%A4-%E0%A6%AC%E0%A7%87%E0%A6%81%E0%A6%9A%E0%A7%87-%E0%A6%86%E0%A6%9B%E0%A7%87%E0%A6%A8-356271\n"
     ]
    },
    {
     "name": "stderr",
     "output_type": "stream",
     "text": [
      " 50%|████▉     | 353/709 [08:49<06:52,  1.16s/it]"
     ]
    },
    {
     "name": "stdout",
     "output_type": "stream",
     "text": [
      "Article `download()` failed with 404 Client Error: Not Found for url: https://www.thedailystar.net/%E0%A6%B8%E0%A6%82%E0%A6%AC%E0%A6%BE%E0%A6%A6/%E0%A6%AC%E0%A6%BE%E0%A6%82%E0%A6%B2%E0%A6%BE%E0%A6%A6%E0%A7%87%E0%A6%B6/%E0%A6%A6%E0%A7%81%E0%A6%B0%E0%A7%8D%E0%A6%98%E0%A6%9F%E0%A6%A8%E0%A6%BE-%E0%A6%85%E0%A6%97%E0%A7%8D%E0%A6%A8%E0%A6%BF%E0%A6%95%E0%A6%BE%E0%A6%A3%E0%A7%8D%E0%A6%A1/%E0%A6%A8%E0%A6%BF%E0%A6%B9%E0%A6%A4%E0%A6%A6%E0%A7%87%E0%A6%B0-%E0%A6%AA%E0%A6%B0%E0%A6%BF%E0%A6%9A%E0%A7%9F-%E0%A6%B6%E0%A6%A8%E0%A6%BE%E0%A6%95%E0%A7%8D%E0%A6%A4%E0%A7%87-%E0%A6%A1%E0%A6%BF%E0%A6%8F%E0%A6%A8%E0%A6%8F-%E0%A6%A8%E0%A6%AE%E0%A7%81%E0%A6%A8%E0%A6%BE-%E0%A6%B8%E0%A6%82%E0%A6%97%E0%A7%8D%E0%A6%B0%E0%A6%B9-%E0%A6%95%E0%A6%B0%E0%A6%9B%E0%A7%87-%E0%A6%B8%E0%A6%BF%E0%A6%86%E0%A6%87%E0%A6%A1%E0%A6%BF-356346 on URL https://www.thedailystar.net/%E0%A6%B8%E0%A6%82%E0%A6%AC%E0%A6%BE%E0%A6%A6/%E0%A6%AC%E0%A6%BE%E0%A6%82%E0%A6%B2%E0%A6%BE%E0%A6%A6%E0%A7%87%E0%A6%B6/%E0%A6%A6%E0%A7%81%E0%A6%B0%E0%A7%8D%E0%A6%98%E0%A6%9F%E0%A6%A8%E0%A6%BE-%E0%A6%85%E0%A6%97%E0%A7%8D%E0%A6%A8%E0%A6%BF%E0%A6%95%E0%A6%BE%E0%A6%A3%E0%A7%8D%E0%A6%A1/%E0%A6%A8%E0%A6%BF%E0%A6%B9%E0%A6%A4%E0%A6%A6%E0%A7%87%E0%A6%B0-%E0%A6%AA%E0%A6%B0%E0%A6%BF%E0%A6%9A%E0%A7%9F-%E0%A6%B6%E0%A6%A8%E0%A6%BE%E0%A6%95%E0%A7%8D%E0%A6%A4%E0%A7%87-%E0%A6%A1%E0%A6%BF%E0%A6%8F%E0%A6%A8%E0%A6%8F-%E0%A6%A8%E0%A6%AE%E0%A7%81%E0%A6%A8%E0%A6%BE-%E0%A6%B8%E0%A6%82%E0%A6%97%E0%A7%8D%E0%A6%B0%E0%A6%B9-%E0%A6%95%E0%A6%B0%E0%A6%9B%E0%A7%87-%E0%A6%B8%E0%A6%BF%E0%A6%86%E0%A6%87%E0%A6%A1%E0%A6%BF-356346\n",
      "Article `download()` failed with 404 Client Error: Not Found for url: https://www.thedailystar.net/%E0%A6%B8%E0%A6%82%E0%A6%AC%E0%A6%BE%E0%A6%A6/%E0%A6%AC%E0%A6%BE%E0%A6%82%E0%A6%B2%E0%A6%BE%E0%A6%A6%E0%A7%87%E0%A6%B6/%E0%A6%A6%E0%A7%81%E0%A6%B0%E0%A7%8D%E0%A6%98%E0%A6%9F%E0%A6%A8%E0%A6%BE-%E0%A6%85%E0%A6%97%E0%A7%8D%E0%A6%A8%E0%A6%BF%E0%A6%95%E0%A6%BE%E0%A6%A3%E0%A7%8D%E0%A6%A1/%E0%A6%AD%E0%A6%BF%E0%A6%A1%E0%A6%BF%E0%A6%93-%E0%A6%A6%E0%A7%87%E0%A6%96%E0%A7%87-%E0%A6%9B%E0%A7%87%E0%A6%B2%E0%A7%87%E0%A6%95%E0%A7%87-%E0%A6%9A%E0%A6%BF%E0%A6%A8%E0%A7%87%E0%A6%9B%E0%A7%87%E0%A6%A8-%E0%A6%9F%E0%A6%BE%E0%A6%95%E0%A6%BE%E0%A6%B0-%E0%A6%85%E0%A6%AD%E0%A6%BE%E0%A6%AC%E0%A7%87-%E0%A6%AF%E0%A7%87%E0%A6%A4%E0%A7%87-%E0%A6%AA%E0%A6%BE%E0%A6%B0%E0%A6%9B%E0%A7%87%E0%A6%A8-%E0%A6%A8%E0%A6%BE-%E0%A6%9A%E0%A6%9F%E0%A7%8D%E0%A6%9F%E0%A6%97%E0%A7%8D%E0%A6%B0%E0%A6%BE%E0%A6%AE on URL https://www.thedailystar.net/%E0%A6%B8%E0%A6%82%E0%A6%AC%E0%A6%BE%E0%A6%A6/%E0%A6%AC%E0%A6%BE%E0%A6%82%E0%A6%B2%E0%A6%BE%E0%A6%A6%E0%A7%87%E0%A6%B6/%E0%A6%A6%E0%A7%81%E0%A6%B0%E0%A7%8D%E0%A6%98%E0%A6%9F%E0%A6%A8%E0%A6%BE-%E0%A6%85%E0%A6%97%E0%A7%8D%E0%A6%A8%E0%A6%BF%E0%A6%95%E0%A6%BE%E0%A6%A3%E0%A7%8D%E0%A6%A1/%E0%A6%AD%E0%A6%BF%E0%A6%A1%E0%A6%BF%E0%A6%93-%E0%A6%A6%E0%A7%87%E0%A6%96%E0%A7%87-%E0%A6%9B%E0%A7%87%E0%A6%B2%E0%A7%87%E0%A6%95%E0%A7%87-%E0%A6%9A%E0%A6%BF%E0%A6%A8%E0%A7%87%E0%A6%9B%E0%A7%87%E0%A6%A8-%E0%A6%9F%E0%A6%BE%E0%A6%95%E0%A6%BE%E0%A6%B0-%E0%A6%85%E0%A6%AD%E0%A6%BE%E0%A6%AC%E0%A7%87-%E0%A6%AF%E0%A7%87%E0%A6%A4%E0%A7%87-%E0%A6%AA%E0%A6%BE%E0%A6%B0%E0%A6%9B%E0%A7%87%E0%A6%A8-%E0%A6%A8%E0%A6%BE-%E0%A6%9A%E0%A6%9F%E0%A7%8D%E0%A6%9F%E0%A6%97%E0%A7%8D%E0%A6%B0%E0%A6%BE%E0%A6%AE\n"
     ]
    },
    {
     "name": "stderr",
     "output_type": "stream",
     "text": [
      " 50%|████▉     | 354/709 [08:50<05:54,  1.00it/s]"
     ]
    },
    {
     "name": "stdout",
     "output_type": "stream",
     "text": [
      "Article `download()` failed with 404 Client Error: Not Found for url: https://www.thedailystar.net/%E0%A6%96%E0%A7%87%E0%A6%B2%E0%A6%BE/%E0%A6%AB%E0%A7%81%E0%A6%9F%E0%A6%AC%E0%A6%B2/%E0%A6%86%E0%A6%AE%E0%A6%BF-%E0%A6%86%E0%A6%AC%E0%A6%BE%E0%A6%B0%E0%A6%93-%E0%A6%AC%E0%A6%B2%E0%A6%AC-%E0%A6%B0%E0%A7%8B%E0%A6%A8%E0%A6%BE%E0%A6%B2%E0%A6%A6%E0%A7%8B-%E0%A6%AC%E0%A6%BF%E0%A6%B6%E0%A7%8D%E0%A6%AC%E0%A7%87%E0%A6%B0-%E0%A6%B8%E0%A7%87%E0%A6%B0%E0%A6%BE-%E0%A6%96%E0%A7%87%E0%A6%B2%E0%A7%8B%E0%A7%9F%E0%A6%BE%E0%A7%9C-%E0%A6%B8%E0%A6%BE%E0%A6%A8%E0%A7%8D%E0%A6%A4%E0%A7%8B%E0%A6%B8-356341 on URL https://www.thedailystar.net/%E0%A6%96%E0%A7%87%E0%A6%B2%E0%A6%BE/%E0%A6%AB%E0%A7%81%E0%A6%9F%E0%A6%AC%E0%A6%B2/%E0%A6%86%E0%A6%AE%E0%A6%BF-%E0%A6%86%E0%A6%AC%E0%A6%BE%E0%A6%B0%E0%A6%93-%E0%A6%AC%E0%A6%B2%E0%A6%AC-%E0%A6%B0%E0%A7%8B%E0%A6%A8%E0%A6%BE%E0%A6%B2%E0%A6%A6%E0%A7%8B-%E0%A6%AC%E0%A6%BF%E0%A6%B6%E0%A7%8D%E0%A6%AC%E0%A7%87%E0%A6%B0-%E0%A6%B8%E0%A7%87%E0%A6%B0%E0%A6%BE-%E0%A6%96%E0%A7%87%E0%A6%B2%E0%A7%8B%E0%A7%9F%E0%A6%BE%E0%A7%9C-%E0%A6%B8%E0%A6%BE%E0%A6%A8%E0%A7%8D%E0%A6%A4%E0%A7%8B%E0%A6%B8-356341\n"
     ]
    },
    {
     "name": "stderr",
     "output_type": "stream",
     "text": [
      " 50%|█████     | 355/709 [08:51<05:43,  1.03it/s]"
     ]
    },
    {
     "name": "stdout",
     "output_type": "stream",
     "text": [
      "Article `download()` failed with 404 Client Error: Not Found for url: https://www.thedailystar.net/%E0%A6%B8%E0%A6%82%E0%A6%AC%E0%A6%BE%E0%A6%A6/%E0%A6%AC%E0%A6%BE%E0%A6%82%E0%A6%B2%E0%A6%BE%E0%A6%A6%E0%A7%87%E0%A6%B6/%E0%A6%A6%E0%A7%81%E0%A6%B0%E0%A7%8D%E0%A6%98%E0%A6%9F%E0%A6%A8%E0%A6%BE-%E0%A6%85%E0%A6%97%E0%A7%8D%E0%A6%A8%E0%A6%BF%E0%A6%95%E0%A6%BE%E0%A6%A3%E0%A7%8D%E0%A6%A1/%E0%A6%AA%E0%A6%B0%E0%A6%AE%E0%A6%BE%E0%A6%A3%E0%A7%81-%E0%A6%95%E0%A6%AE%E0%A6%BF%E0%A6%B6%E0%A6%A8%E0%A7%87%E0%A6%B0-%E0%A7%A9-%E0%A6%95%E0%A6%B0%E0%A7%8D%E0%A6%AE%E0%A6%95%E0%A6%B0%E0%A7%8D%E0%A6%A4%E0%A6%BE-%E0%A6%A8%E0%A6%BF%E0%A6%B9%E0%A6%A4-%E0%A6%A7%E0%A6%BE%E0%A6%95%E0%A7%8D%E0%A6%95%E0%A6%BE-%E0%A6%A6%E0%A7%87%E0%A6%93%E0%A7%9F%E0%A6%BE-%E0%A6%AC%E0%A6%BE%E0%A6%B8%E0%A6%9F%E0%A6%BF%E0%A6%B0-%E0%A6%9B%E0%A6%BF%E0%A6%B2-%E0%A6%A8%E0%A6%BE-%E0%A6%AB%E0%A6%BF%E0%A6%9F%E0%A6%A8%E0%A7%87%E0%A6%B8 on URL https://www.thedailystar.net/%E0%A6%B8%E0%A6%82%E0%A6%AC%E0%A6%BE%E0%A6%A6/%E0%A6%AC%E0%A6%BE%E0%A6%82%E0%A6%B2%E0%A6%BE%E0%A6%A6%E0%A7%87%E0%A6%B6/%E0%A6%A6%E0%A7%81%E0%A6%B0%E0%A7%8D%E0%A6%98%E0%A6%9F%E0%A6%A8%E0%A6%BE-%E0%A6%85%E0%A6%97%E0%A7%8D%E0%A6%A8%E0%A6%BF%E0%A6%95%E0%A6%BE%E0%A6%A3%E0%A7%8D%E0%A6%A1/%E0%A6%AA%E0%A6%B0%E0%A6%AE%E0%A6%BE%E0%A6%A3%E0%A7%81-%E0%A6%95%E0%A6%AE%E0%A6%BF%E0%A6%B6%E0%A6%A8%E0%A7%87%E0%A6%B0-%E0%A7%A9-%E0%A6%95%E0%A6%B0%E0%A7%8D%E0%A6%AE%E0%A6%95%E0%A6%B0%E0%A7%8D%E0%A6%A4%E0%A6%BE-%E0%A6%A8%E0%A6%BF%E0%A6%B9%E0%A6%A4-%E0%A6%A7%E0%A6%BE%E0%A6%95%E0%A7%8D%E0%A6%95%E0%A6%BE-%E0%A6%A6%E0%A7%87%E0%A6%93%E0%A7%9F%E0%A6%BE-%E0%A6%AC%E0%A6%BE%E0%A6%B8%E0%A6%9F%E0%A6%BF%E0%A6%B0-%E0%A6%9B%E0%A6%BF%E0%A6%B2-%E0%A6%A8%E0%A6%BE-%E0%A6%AB%E0%A6%BF%E0%A6%9F%E0%A6%A8%E0%A7%87%E0%A6%B8\n",
      "Article `download()` failed with 404 Client Error: Not Found for url: https://www.thedailystar.net/%E0%A6%B8%E0%A6%82%E0%A6%AC%E0%A6%BE%E0%A6%A6/%E0%A6%AC%E0%A6%BE%E0%A6%82%E0%A6%B2%E0%A6%BE%E0%A6%A6%E0%A7%87%E0%A6%B6/%E0%A6%A6%E0%A7%81%E0%A6%B0%E0%A7%8D%E0%A6%98%E0%A6%9F%E0%A6%A8%E0%A6%BE-%E0%A6%85%E0%A6%97%E0%A7%8D%E0%A6%A8%E0%A6%BF%E0%A6%95%E0%A6%BE%E0%A6%A3%E0%A7%8D%E0%A6%A1/%E0%A6%95%E0%A6%A8%E0%A6%9F%E0%A7%87%E0%A6%87%E0%A6%A8%E0%A6%BE%E0%A6%B0-%E0%A6%A1%E0%A6%BF%E0%A6%AA%E0%A7%8B-%E0%A6%8F%E0%A6%B2%E0%A6%BE%E0%A6%95%E0%A6%BE%E0%A6%B0-%E0%A6%AC%E0%A6%BE%E0%A6%A4%E0%A6%BE%E0%A6%B8%E0%A7%87-%E0%A6%B0%E0%A6%BE%E0%A6%B8%E0%A6%BE%E0%A7%9F%E0%A6%A8%E0%A6%BF%E0%A6%95%E0%A7%87%E0%A6%B0-%E0%A6%9D%E0%A6%BE%E0%A6%81%E0%A6%9D%E0%A6%BE%E0%A6%B2%E0%A7%8B-%E0%A6%97%E0%A6%A8%E0%A7%8D%E0%A6%A7-356221 on URL https://www.thedailystar.net/%E0%A6%B8%E0%A6%82%E0%A6%AC%E0%A6%BE%E0%A6%A6/%E0%A6%AC%E0%A6%BE%E0%A6%82%E0%A6%B2%E0%A6%BE%E0%A6%A6%E0%A7%87%E0%A6%B6/%E0%A6%A6%E0%A7%81%E0%A6%B0%E0%A7%8D%E0%A6%98%E0%A6%9F%E0%A6%A8%E0%A6%BE-%E0%A6%85%E0%A6%97%E0%A7%8D%E0%A6%A8%E0%A6%BF%E0%A6%95%E0%A6%BE%E0%A6%A3%E0%A7%8D%E0%A6%A1/%E0%A6%95%E0%A6%A8%E0%A6%9F%E0%A7%87%E0%A6%87%E0%A6%A8%E0%A6%BE%E0%A6%B0-%E0%A6%A1%E0%A6%BF%E0%A6%AA%E0%A7%8B-%E0%A6%8F%E0%A6%B2%E0%A6%BE%E0%A6%95%E0%A6%BE%E0%A6%B0-%E0%A6%AC%E0%A6%BE%E0%A6%A4%E0%A6%BE%E0%A6%B8%E0%A7%87-%E0%A6%B0%E0%A6%BE%E0%A6%B8%E0%A6%BE%E0%A7%9F%E0%A6%A8%E0%A6%BF%E0%A6%95%E0%A7%87%E0%A6%B0-%E0%A6%9D%E0%A6%BE%E0%A6%81%E0%A6%9D%E0%A6%BE%E0%A6%B2%E0%A7%8B-%E0%A6%97%E0%A6%A8%E0%A7%8D%E0%A6%A7-356221\n"
     ]
    },
    {
     "name": "stderr",
     "output_type": "stream",
     "text": [
      " 50%|█████     | 357/709 [08:52<04:27,  1.31it/s]"
     ]
    },
    {
     "name": "stdout",
     "output_type": "stream",
     "text": [
      "Article `download()` failed with 404 Client Error: Not Found for url: https://www.thedailystar.net/%E0%A6%A4%E0%A6%BE%E0%A6%B0%E0%A7%81%E0%A6%A3%E0%A7%8D%E0%A6%AF/%E0%A6%B6%E0%A6%BF%E0%A6%95%E0%A7%8D%E0%A6%B7%E0%A6%BE/%E0%A6%95%E0%A7%8D%E0%A6%AF%E0%A6%BE%E0%A6%AE%E0%A7%8D%E0%A6%AA%E0%A6%BE%E0%A6%B8/%E0%A6%AD%E0%A6%B0%E0%A7%8D%E0%A6%A4%E0%A6%BF-%E0%A6%9C%E0%A6%BE%E0%A6%B2%E0%A6%BF%E0%A7%9F%E0%A6%BE%E0%A6%A4%E0%A6%BF%E0%A6%B0-%E0%A6%A6%E0%A6%BE%E0%A7%9F%E0%A7%87-%E0%A6%AC%E0%A6%B9%E0%A6%BF%E0%A6%B7%E0%A7%8D%E0%A6%95%E0%A7%83%E0%A6%A4-%E0%A6%A2%E0%A6%BE%E0%A6%AC%E0%A6%BF-%E0%A6%B6%E0%A6%BF%E0%A6%95%E0%A7%8D%E0%A6%B7%E0%A6%BE%E0%A6%B0%E0%A7%8D%E0%A6%A5%E0%A7%80-%E0%A6%B9%E0%A6%B2%E0%A7%87-%E0%A6%95%E0%A6%95%E0%A7%8D%E0%A6%B7-%E0%A6%A6%E0%A6%96%E0%A6%B2-%E0%A6%A8%E0%A6%BF%E0%A7%9F%E0%A7%87-%E0%A6%89%E0%A6%A4%E0%A7%8D%E0%A6%A4%E0%A7%87%E0%A6%9C%E0%A6%A8%E0%A6%BE on URL https://www.thedailystar.net/%E0%A6%A4%E0%A6%BE%E0%A6%B0%E0%A7%81%E0%A6%A3%E0%A7%8D%E0%A6%AF/%E0%A6%B6%E0%A6%BF%E0%A6%95%E0%A7%8D%E0%A6%B7%E0%A6%BE/%E0%A6%95%E0%A7%8D%E0%A6%AF%E0%A6%BE%E0%A6%AE%E0%A7%8D%E0%A6%AA%E0%A6%BE%E0%A6%B8/%E0%A6%AD%E0%A6%B0%E0%A7%8D%E0%A6%A4%E0%A6%BF-%E0%A6%9C%E0%A6%BE%E0%A6%B2%E0%A6%BF%E0%A7%9F%E0%A6%BE%E0%A6%A4%E0%A6%BF%E0%A6%B0-%E0%A6%A6%E0%A6%BE%E0%A7%9F%E0%A7%87-%E0%A6%AC%E0%A6%B9%E0%A6%BF%E0%A6%B7%E0%A7%8D%E0%A6%95%E0%A7%83%E0%A6%A4-%E0%A6%A2%E0%A6%BE%E0%A6%AC%E0%A6%BF-%E0%A6%B6%E0%A6%BF%E0%A6%95%E0%A7%8D%E0%A6%B7%E0%A6%BE%E0%A6%B0%E0%A7%8D%E0%A6%A5%E0%A7%80-%E0%A6%B9%E0%A6%B2%E0%A7%87-%E0%A6%95%E0%A6%95%E0%A7%8D%E0%A6%B7-%E0%A6%A6%E0%A6%96%E0%A6%B2-%E0%A6%A8%E0%A6%BF%E0%A7%9F%E0%A7%87-%E0%A6%89%E0%A6%A4%E0%A7%8D%E0%A6%A4%E0%A7%87%E0%A6%9C%E0%A6%A8%E0%A6%BE\n",
      "Article `download()` failed with 404 Client Error: Not Found for url: https://www.thedailystar.net/%E0%A6%96%E0%A7%87%E0%A6%B2%E0%A6%BE/%E0%A6%AB%E0%A7%81%E0%A6%9F%E0%A6%AC%E0%A6%B2/%E0%A6%86%E0%A6%AE%E0%A6%BF-%E0%A6%9C%E0%A6%BE%E0%A6%A8%E0%A6%BF-%E0%A6%A8%E0%A6%BE-%E0%A6%AE%E0%A7%87%E0%A6%B8%E0%A6%BF%E0%A6%B0-%E0%A6%B8%E0%A6%AE%E0%A7%8D%E0%A6%AA%E0%A6%B0%E0%A7%8D%E0%A6%95%E0%A7%87-%E0%A6%86%E0%A6%B0-%E0%A6%95%E0%A7%80-%E0%A6%AC%E0%A6%B2%E0%A6%BE%E0%A6%B0-%E0%A6%86%E0%A6%9B%E0%A7%87-%E0%A6%B8%E0%A7%8D%E0%A6%95%E0%A6%BE%E0%A6%B2%E0%A7%8B%E0%A6%A8%E0%A6%BF-356291 on URL https://www.thedailystar.net/%E0%A6%96%E0%A7%87%E0%A6%B2%E0%A6%BE/%E0%A6%AB%E0%A7%81%E0%A6%9F%E0%A6%AC%E0%A6%B2/%E0%A6%86%E0%A6%AE%E0%A6%BF-%E0%A6%9C%E0%A6%BE%E0%A6%A8%E0%A6%BF-%E0%A6%A8%E0%A6%BE-%E0%A6%AE%E0%A7%87%E0%A6%B8%E0%A6%BF%E0%A6%B0-%E0%A6%B8%E0%A6%AE%E0%A7%8D%E0%A6%AA%E0%A6%B0%E0%A7%8D%E0%A6%95%E0%A7%87-%E0%A6%86%E0%A6%B0-%E0%A6%95%E0%A7%80-%E0%A6%AC%E0%A6%B2%E0%A6%BE%E0%A6%B0-%E0%A6%86%E0%A6%9B%E0%A7%87-%E0%A6%B8%E0%A7%8D%E0%A6%95%E0%A6%BE%E0%A6%B2%E0%A7%8B%E0%A6%A8%E0%A6%BF-356291\n"
     ]
    },
    {
     "name": "stderr",
     "output_type": "stream",
     "text": [
      " 51%|█████     | 359/709 [08:53<04:07,  1.41it/s]"
     ]
    },
    {
     "name": "stdout",
     "output_type": "stream",
     "text": [
      "Article `download()` failed with 404 Client Error: Not Found for url: https://www.thedailystar.net/%E0%A6%B8%E0%A6%82%E0%A6%AC%E0%A6%BE%E0%A6%A6/%E0%A6%AC%E0%A6%BE%E0%A6%82%E0%A6%B2%E0%A6%BE%E0%A6%A6%E0%A7%87%E0%A6%B6/%E0%A6%A6%E0%A7%81%E0%A6%B0%E0%A7%8D%E0%A6%98%E0%A6%9F%E0%A6%A8%E0%A6%BE-%E0%A6%85%E0%A6%97%E0%A7%8D%E0%A6%A8%E0%A6%BF%E0%A6%95%E0%A6%BE%E0%A6%A3%E0%A7%8D%E0%A6%A1/%E0%A6%B8%E0%A7%80%E0%A6%A4%E0%A6%BE%E0%A6%95%E0%A7%81%E0%A6%A3%E0%A7%8D%E0%A6%A1%E0%A7%87-%E0%A6%85%E0%A6%97%E0%A7%8D%E0%A6%A8%E0%A6%BF%E0%A6%95%E0%A6%BE%E0%A6%A3%E0%A7%8D%E0%A6%A1-%E0%A6%8F%E0%A6%96%E0%A6%A8-%E0%A6%AA%E0%A6%B0%E0%A7%8D%E0%A6%AF%E0%A6%A8%E0%A7%8D%E0%A6%A4-%E0%A7%A9%E0%A7%A6-%E0%A6%AE%E0%A6%B0%E0%A6%A6%E0%A7%87%E0%A6%B9-%E0%A6%8F%E0%A6%B8%E0%A7%87%E0%A6%9B%E0%A7%87-%E0%A6%B9%E0%A6%BE%E0%A6%B8%E0%A6%AA%E0%A6%BE%E0%A6%A4%E0%A6%BE%E0%A6%B2%E0%A7%87-355896 on URL https://www.thedailystar.net/%E0%A6%B8%E0%A6%82%E0%A6%AC%E0%A6%BE%E0%A6%A6/%E0%A6%AC%E0%A6%BE%E0%A6%82%E0%A6%B2%E0%A6%BE%E0%A6%A6%E0%A7%87%E0%A6%B6/%E0%A6%A6%E0%A7%81%E0%A6%B0%E0%A7%8D%E0%A6%98%E0%A6%9F%E0%A6%A8%E0%A6%BE-%E0%A6%85%E0%A6%97%E0%A7%8D%E0%A6%A8%E0%A6%BF%E0%A6%95%E0%A6%BE%E0%A6%A3%E0%A7%8D%E0%A6%A1/%E0%A6%B8%E0%A7%80%E0%A6%A4%E0%A6%BE%E0%A6%95%E0%A7%81%E0%A6%A3%E0%A7%8D%E0%A6%A1%E0%A7%87-%E0%A6%85%E0%A6%97%E0%A7%8D%E0%A6%A8%E0%A6%BF%E0%A6%95%E0%A6%BE%E0%A6%A3%E0%A7%8D%E0%A6%A1-%E0%A6%8F%E0%A6%96%E0%A6%A8-%E0%A6%AA%E0%A6%B0%E0%A7%8D%E0%A6%AF%E0%A6%A8%E0%A7%8D%E0%A6%A4-%E0%A7%A9%E0%A7%A6-%E0%A6%AE%E0%A6%B0%E0%A6%A6%E0%A7%87%E0%A6%B9-%E0%A6%8F%E0%A6%B8%E0%A7%87%E0%A6%9B%E0%A7%87-%E0%A6%B9%E0%A6%BE%E0%A6%B8%E0%A6%AA%E0%A6%BE%E0%A6%A4%E0%A6%BE%E0%A6%B2%E0%A7%87-355896\n"
     ]
    },
    {
     "name": "stderr",
     "output_type": "stream",
     "text": [
      " 51%|█████     | 360/709 [08:53<03:41,  1.57it/s]"
     ]
    },
    {
     "name": "stdout",
     "output_type": "stream",
     "text": [
      "Article `download()` failed with 404 Client Error: Not Found for url: https://www.thedailystar.net/%E0%A6%B8%E0%A6%82%E0%A6%AC%E0%A6%BE%E0%A6%A6/%E0%A6%AC%E0%A6%BE%E0%A6%82%E0%A6%B2%E0%A6%BE%E0%A6%A6%E0%A7%87%E0%A6%B6/%E0%A6%A6%E0%A7%81%E0%A6%B0%E0%A7%8D%E0%A6%98%E0%A6%9F%E0%A6%A8%E0%A6%BE-%E0%A6%85%E0%A6%97%E0%A7%8D%E0%A6%A8%E0%A6%BF%E0%A6%95%E0%A6%BE%E0%A6%A3%E0%A7%8D%E0%A6%A1/%E0%A6%AA%E0%A6%BE%E0%A6%AC%E0%A6%A8%E0%A6%BE%E0%A7%9F-%E0%A6%9A%E0%A6%BE%E0%A6%B0%E0%A6%95%E0%A7%8B%E0%A6%B2-%E0%A6%95%E0%A6%BE%E0%A6%B0%E0%A6%96%E0%A6%BE%E0%A6%A8%E0%A6%BE%E0%A6%B0-%E0%A6%86%E0%A6%97%E0%A7%81%E0%A6%A8-%E0%A6%A8%E0%A6%BF%E0%A7%9F%E0%A6%A8%E0%A7%8D%E0%A6%A4%E0%A7%8D%E0%A6%B0%E0%A6%A3%E0%A7%87-356276 on URL https://www.thedailystar.net/%E0%A6%B8%E0%A6%82%E0%A6%AC%E0%A6%BE%E0%A6%A6/%E0%A6%AC%E0%A6%BE%E0%A6%82%E0%A6%B2%E0%A6%BE%E0%A6%A6%E0%A7%87%E0%A6%B6/%E0%A6%A6%E0%A7%81%E0%A6%B0%E0%A7%8D%E0%A6%98%E0%A6%9F%E0%A6%A8%E0%A6%BE-%E0%A6%85%E0%A6%97%E0%A7%8D%E0%A6%A8%E0%A6%BF%E0%A6%95%E0%A6%BE%E0%A6%A3%E0%A7%8D%E0%A6%A1/%E0%A6%AA%E0%A6%BE%E0%A6%AC%E0%A6%A8%E0%A6%BE%E0%A7%9F-%E0%A6%9A%E0%A6%BE%E0%A6%B0%E0%A6%95%E0%A7%8B%E0%A6%B2-%E0%A6%95%E0%A6%BE%E0%A6%B0%E0%A6%96%E0%A6%BE%E0%A6%A8%E0%A6%BE%E0%A6%B0-%E0%A6%86%E0%A6%97%E0%A7%81%E0%A6%A8-%E0%A6%A8%E0%A6%BF%E0%A7%9F%E0%A6%A8%E0%A7%8D%E0%A6%A4%E0%A7%8D%E0%A6%B0%E0%A6%A3%E0%A7%87-356276\n"
     ]
    },
    {
     "name": "stderr",
     "output_type": "stream",
     "text": [
      " 51%|█████     | 361/709 [08:54<04:16,  1.36it/s]"
     ]
    },
    {
     "name": "stdout",
     "output_type": "stream",
     "text": [
      "Article `download()` failed with 404 Client Error: Not Found for url: https://www.thedailystar.net/%E0%A6%B8%E0%A6%82%E0%A6%AC%E0%A6%BE%E0%A6%A6/%E0%A6%AC%E0%A6%BE%E0%A6%82%E0%A6%B2%E0%A6%BE%E0%A6%A6%E0%A7%87%E0%A6%B6/%E0%A6%AA%E0%A6%BE%E0%A6%9A%E0%A6%BE%E0%A6%B0%E0%A6%95%E0%A7%83%E0%A6%A4-%E0%A6%85%E0%A6%B0%E0%A7%8D%E0%A6%A5-%E0%A6%A6%E0%A7%87%E0%A6%B6%E0%A7%87-%E0%A6%AB%E0%A7%87%E0%A6%B0%E0%A6%A4-%E0%A6%86%E0%A6%A8%E0%A6%A4%E0%A7%87-%E0%A6%97%E0%A6%A0%E0%A6%BF%E0%A6%A4-%E0%A6%9F%E0%A6%BE%E0%A6%B8%E0%A7%8D%E0%A6%95%E0%A6%AB%E0%A7%8B%E0%A6%B0%E0%A7%8D%E0%A6%B8-%E0%A6%AA%E0%A7%81%E0%A6%A8%E0%A6%B0%E0%A7%8D%E0%A6%97%E0%A6%A0%E0%A6%A8-356261 on URL https://www.thedailystar.net/%E0%A6%B8%E0%A6%82%E0%A6%AC%E0%A6%BE%E0%A6%A6/%E0%A6%AC%E0%A6%BE%E0%A6%82%E0%A6%B2%E0%A6%BE%E0%A6%A6%E0%A7%87%E0%A6%B6/%E0%A6%AA%E0%A6%BE%E0%A6%9A%E0%A6%BE%E0%A6%B0%E0%A6%95%E0%A7%83%E0%A6%A4-%E0%A6%85%E0%A6%B0%E0%A7%8D%E0%A6%A5-%E0%A6%A6%E0%A7%87%E0%A6%B6%E0%A7%87-%E0%A6%AB%E0%A7%87%E0%A6%B0%E0%A6%A4-%E0%A6%86%E0%A6%A8%E0%A6%A4%E0%A7%87-%E0%A6%97%E0%A6%A0%E0%A6%BF%E0%A6%A4-%E0%A6%9F%E0%A6%BE%E0%A6%B8%E0%A7%8D%E0%A6%95%E0%A6%AB%E0%A7%8B%E0%A6%B0%E0%A7%8D%E0%A6%B8-%E0%A6%AA%E0%A7%81%E0%A6%A8%E0%A6%B0%E0%A7%8D%E0%A6%97%E0%A6%A0%E0%A6%A8-356261\n"
     ]
    },
    {
     "name": "stderr",
     "output_type": "stream",
     "text": [
      " 51%|█████     | 362/709 [08:55<04:31,  1.28it/s]"
     ]
    },
    {
     "name": "stdout",
     "output_type": "stream",
     "text": [
      "Article `download()` failed with 404 Client Error: Not Found for url: https://www.thedailystar.net/%E0%A6%B8%E0%A6%82%E0%A6%AC%E0%A6%BE%E0%A6%A6/%E0%A6%AC%E0%A6%BE%E0%A6%82%E0%A6%B2%E0%A6%BE%E0%A6%A6%E0%A7%87%E0%A6%B6/%E0%A6%B8%E0%A7%80%E0%A6%A4%E0%A6%BE%E0%A6%95%E0%A7%81%E0%A6%A3%E0%A7%8D%E0%A6%A1%E0%A7%87%E0%A6%B0-%E0%A6%85%E0%A6%97%E0%A7%8D%E0%A6%A8%E0%A6%BF%E0%A6%95%E0%A6%BE%E0%A6%A3%E0%A7%8D%E0%A6%A1%E0%A7%87-%E0%A6%89%E0%A6%A6%E0%A7%8D%E0%A6%AC%E0%A7%87%E0%A6%97-%E0%A7%A7%E0%A7%AF%E0%A7%AF%E0%A7%A6-%E0%A6%8F%E0%A6%B0-%E0%A6%B8%E0%A7%8D%E0%A6%AC%E0%A7%88%E0%A6%B0%E0%A6%BE%E0%A6%9A%E0%A6%BE%E0%A6%B0%E0%A6%AC%E0%A6%BF%E0%A6%B0%E0%A7%8B%E0%A6%A7%E0%A7%80-%E0%A6%B8%E0%A6%B0%E0%A7%8D%E0%A6%AC%E0%A6%A6%E0%A6%B2%E0%A7%80%E0%A7%9F-%E0%A6%9B%E0%A6%BE%E0%A6%A4%E0%A7%8D%E0%A6%B0-%E0%A6%90%E0%A6%95%E0%A7%8D%E0%A6%AF%E0%A7%87%E0%A6%B0-356256 on URL https://www.thedailystar.net/%E0%A6%B8%E0%A6%82%E0%A6%AC%E0%A6%BE%E0%A6%A6/%E0%A6%AC%E0%A6%BE%E0%A6%82%E0%A6%B2%E0%A6%BE%E0%A6%A6%E0%A7%87%E0%A6%B6/%E0%A6%B8%E0%A7%80%E0%A6%A4%E0%A6%BE%E0%A6%95%E0%A7%81%E0%A6%A3%E0%A7%8D%E0%A6%A1%E0%A7%87%E0%A6%B0-%E0%A6%85%E0%A6%97%E0%A7%8D%E0%A6%A8%E0%A6%BF%E0%A6%95%E0%A6%BE%E0%A6%A3%E0%A7%8D%E0%A6%A1%E0%A7%87-%E0%A6%89%E0%A6%A6%E0%A7%8D%E0%A6%AC%E0%A7%87%E0%A6%97-%E0%A7%A7%E0%A7%AF%E0%A7%AF%E0%A7%A6-%E0%A6%8F%E0%A6%B0-%E0%A6%B8%E0%A7%8D%E0%A6%AC%E0%A7%88%E0%A6%B0%E0%A6%BE%E0%A6%9A%E0%A6%BE%E0%A6%B0%E0%A6%AC%E0%A6%BF%E0%A6%B0%E0%A7%8B%E0%A6%A7%E0%A7%80-%E0%A6%B8%E0%A6%B0%E0%A7%8D%E0%A6%AC%E0%A6%A6%E0%A6%B2%E0%A7%80%E0%A7%9F-%E0%A6%9B%E0%A6%BE%E0%A6%A4%E0%A7%8D%E0%A6%B0-%E0%A6%90%E0%A6%95%E0%A7%8D%E0%A6%AF%E0%A7%87%E0%A6%B0-356256\n"
     ]
    },
    {
     "name": "stderr",
     "output_type": "stream",
     "text": [
      " 51%|█████     | 363/709 [08:56<04:40,  1.23it/s]"
     ]
    },
    {
     "name": "stdout",
     "output_type": "stream",
     "text": [
      "Article `download()` failed with 404 Client Error: Not Found for url: https://www.thedailystar.net/%E0%A6%B8%E0%A6%82%E0%A6%AC%E0%A6%BE%E0%A6%A6/%E0%A6%AC%E0%A6%BE%E0%A6%82%E0%A6%B2%E0%A6%BE%E0%A6%A6%E0%A7%87%E0%A6%B6/%E0%A6%A6%E0%A7%81%E0%A6%B0%E0%A7%8D%E0%A6%98%E0%A6%9F%E0%A6%A8%E0%A6%BE-%E0%A6%85%E0%A6%97%E0%A7%8D%E0%A6%A8%E0%A6%BF%E0%A6%95%E0%A6%BE%E0%A6%A3%E0%A7%8D%E0%A6%A1/%E0%A6%A8%E0%A6%BF%E0%A6%B9%E0%A6%A4%E0%A6%A6%E0%A7%87%E0%A6%B0-%E0%A6%AA%E0%A6%B0%E0%A6%BF%E0%A6%AC%E0%A6%BE%E0%A6%B0%E0%A6%95%E0%A7%87-%E0%A7%A7%E0%A7%A6-%E0%A6%B2%E0%A6%BE%E0%A6%96-%E0%A6%9F%E0%A6%BE%E0%A6%95%E0%A6%BE-%E0%A6%95%E0%A6%B0%E0%A7%87-%E0%A6%A6%E0%A7%87%E0%A6%AC%E0%A7%87-%E0%A6%A1%E0%A6%BF%E0%A6%AA%E0%A7%8B-%E0%A6%95%E0%A6%B0%E0%A7%8D%E0%A6%A4%E0%A7%83%E0%A6%AA%E0%A6%95%E0%A7%8D%E0%A6%B7-356251 on URL https://www.thedailystar.net/%E0%A6%B8%E0%A6%82%E0%A6%AC%E0%A6%BE%E0%A6%A6/%E0%A6%AC%E0%A6%BE%E0%A6%82%E0%A6%B2%E0%A6%BE%E0%A6%A6%E0%A7%87%E0%A6%B6/%E0%A6%A6%E0%A7%81%E0%A6%B0%E0%A7%8D%E0%A6%98%E0%A6%9F%E0%A6%A8%E0%A6%BE-%E0%A6%85%E0%A6%97%E0%A7%8D%E0%A6%A8%E0%A6%BF%E0%A6%95%E0%A6%BE%E0%A6%A3%E0%A7%8D%E0%A6%A1/%E0%A6%A8%E0%A6%BF%E0%A6%B9%E0%A6%A4%E0%A6%A6%E0%A7%87%E0%A6%B0-%E0%A6%AA%E0%A6%B0%E0%A6%BF%E0%A6%AC%E0%A6%BE%E0%A6%B0%E0%A6%95%E0%A7%87-%E0%A7%A7%E0%A7%A6-%E0%A6%B2%E0%A6%BE%E0%A6%96-%E0%A6%9F%E0%A6%BE%E0%A6%95%E0%A6%BE-%E0%A6%95%E0%A6%B0%E0%A7%87-%E0%A6%A6%E0%A7%87%E0%A6%AC%E0%A7%87-%E0%A6%A1%E0%A6%BF%E0%A6%AA%E0%A7%8B-%E0%A6%95%E0%A6%B0%E0%A7%8D%E0%A6%A4%E0%A7%83%E0%A6%AA%E0%A6%95%E0%A7%8D%E0%A6%B7-356251\n"
     ]
    },
    {
     "name": "stderr",
     "output_type": "stream",
     "text": [
      " 51%|█████▏    | 364/709 [08:57<04:49,  1.19it/s]"
     ]
    },
    {
     "name": "stdout",
     "output_type": "stream",
     "text": [
      "Article `download()` failed with 404 Client Error: Not Found for url: https://www.thedailystar.net/%E0%A6%B8%E0%A6%82%E0%A6%AC%E0%A6%BE%E0%A6%A6/%E0%A6%AC%E0%A6%BE%E0%A6%82%E0%A6%B2%E0%A6%BE%E0%A6%A6%E0%A7%87%E0%A6%B6/%E0%A6%A6%E0%A7%81%E0%A6%B0%E0%A7%8D%E0%A6%98%E0%A6%9F%E0%A6%A8%E0%A6%BE-%E0%A6%85%E0%A6%97%E0%A7%8D%E0%A6%A8%E0%A6%BF%E0%A6%95%E0%A6%BE%E0%A6%A3%E0%A7%8D%E0%A6%A1/%E0%A6%86%E0%A6%AE%E0%A6%BE%E0%A6%B0-%E0%A6%9B%E0%A7%87%E0%A6%B2%E0%A7%87-%E0%A6%9C%E0%A7%80%E0%A6%AC%E0%A6%BF%E0%A6%A4-%E0%A6%AB%E0%A6%BF%E0%A6%B0%E0%A6%B2-%E0%A6%A8%E0%A6%BE-%E0%A6%AB%E0%A6%BF%E0%A6%B0%E0%A6%B2-%E0%A6%B2%E0%A6%BE%E0%A6%B6-%E0%A6%B9%E0%A7%9F%E0%A7%87-356246 on URL https://www.thedailystar.net/%E0%A6%B8%E0%A6%82%E0%A6%AC%E0%A6%BE%E0%A6%A6/%E0%A6%AC%E0%A6%BE%E0%A6%82%E0%A6%B2%E0%A6%BE%E0%A6%A6%E0%A7%87%E0%A6%B6/%E0%A6%A6%E0%A7%81%E0%A6%B0%E0%A7%8D%E0%A6%98%E0%A6%9F%E0%A6%A8%E0%A6%BE-%E0%A6%85%E0%A6%97%E0%A7%8D%E0%A6%A8%E0%A6%BF%E0%A6%95%E0%A6%BE%E0%A6%A3%E0%A7%8D%E0%A6%A1/%E0%A6%86%E0%A6%AE%E0%A6%BE%E0%A6%B0-%E0%A6%9B%E0%A7%87%E0%A6%B2%E0%A7%87-%E0%A6%9C%E0%A7%80%E0%A6%AC%E0%A6%BF%E0%A6%A4-%E0%A6%AB%E0%A6%BF%E0%A6%B0%E0%A6%B2-%E0%A6%A8%E0%A6%BE-%E0%A6%AB%E0%A6%BF%E0%A6%B0%E0%A6%B2-%E0%A6%B2%E0%A6%BE%E0%A6%B6-%E0%A6%B9%E0%A7%9F%E0%A7%87-356246\n"
     ]
    },
    {
     "name": "stderr",
     "output_type": "stream",
     "text": [
      " 51%|█████▏    | 365/709 [08:58<04:55,  1.16it/s]"
     ]
    },
    {
     "name": "stdout",
     "output_type": "stream",
     "text": [
      "Article `download()` failed with 404 Client Error: Not Found for url: https://www.thedailystar.net/%E0%A6%85%E0%A6%AD%E0%A6%BF%E0%A6%AE%E0%A6%A4/%E0%A6%AE%E0%A6%A4%E0%A6%BE%E0%A6%AE%E0%A6%A4/%E0%A6%86%E0%A6%B9%E0%A6%BE%E0%A6%B0%E0%A7%87-%E0%A6%B9%E0%A6%A4%E0%A6%AD%E0%A6%BE%E0%A6%97%E0%A7%8D%E0%A6%AF%E0%A6%B0%E0%A6%BE-%E0%A6%89%E0%A6%A8%E0%A7%8D%E0%A6%A8%E0%A7%9F%E0%A6%A8-%E0%A6%A6%E0%A7%87%E0%A6%96%E0%A7%87-%E0%A6%AF%E0%A7%87%E0%A6%A4%E0%A7%87-%E0%A6%AA%E0%A6%BE%E0%A6%B0%E0%A6%B2-%E0%A6%A8%E0%A6%BE-356146 on URL https://www.thedailystar.net/%E0%A6%85%E0%A6%AD%E0%A6%BF%E0%A6%AE%E0%A6%A4/%E0%A6%AE%E0%A6%A4%E0%A6%BE%E0%A6%AE%E0%A6%A4/%E0%A6%86%E0%A6%B9%E0%A6%BE%E0%A6%B0%E0%A7%87-%E0%A6%B9%E0%A6%A4%E0%A6%AD%E0%A6%BE%E0%A6%97%E0%A7%8D%E0%A6%AF%E0%A6%B0%E0%A6%BE-%E0%A6%89%E0%A6%A8%E0%A7%8D%E0%A6%A8%E0%A7%9F%E0%A6%A8-%E0%A6%A6%E0%A7%87%E0%A6%96%E0%A7%87-%E0%A6%AF%E0%A7%87%E0%A6%A4%E0%A7%87-%E0%A6%AA%E0%A6%BE%E0%A6%B0%E0%A6%B2-%E0%A6%A8%E0%A6%BE-356146\n"
     ]
    },
    {
     "name": "stderr",
     "output_type": "stream",
     "text": [
      " 52%|█████▏    | 366/709 [08:59<05:01,  1.14it/s]"
     ]
    },
    {
     "name": "stdout",
     "output_type": "stream",
     "text": [
      "Article `download()` failed with 404 Client Error: Not Found for url: https://www.thedailystar.net/%E0%A6%85%E0%A6%AD%E0%A6%BF%E0%A6%AE%E0%A6%A4/%E0%A6%AE%E0%A6%A4%E0%A6%BE%E0%A6%AE%E0%A6%A4/%E0%A6%AF%E0%A7%81%E0%A6%95%E0%A7%8D%E0%A6%A4%E0%A6%B0%E0%A6%BE%E0%A6%B7%E0%A7%8D%E0%A6%9F%E0%A7%8D%E0%A6%B0%E0%A7%87%E0%A6%B0-%E0%A6%B0%E0%A6%BE%E0%A6%B7%E0%A7%8D%E0%A6%9F%E0%A7%8D%E0%A6%B0%E0%A6%A6%E0%A7%82%E0%A6%A4%E0%A7%87%E0%A6%B0-%E0%A6%B8%E0%A6%BE%E0%A6%AE%E0%A7%8D%E0%A6%AA%E0%A7%8D%E0%A6%B0%E0%A6%A4%E0%A6%BF%E0%A6%95-%E0%A6%AC%E0%A6%95%E0%A7%8D%E0%A6%A4%E0%A6%AC%E0%A7%8D%E0%A6%AF%E0%A7%87%E0%A6%B0-%E0%A6%A4%E0%A6%BE%E0%A7%8E%E0%A6%AA%E0%A6%B0%E0%A7%8D%E0%A6%AF-355556 on URL https://www.thedailystar.net/%E0%A6%85%E0%A6%AD%E0%A6%BF%E0%A6%AE%E0%A6%A4/%E0%A6%AE%E0%A6%A4%E0%A6%BE%E0%A6%AE%E0%A6%A4/%E0%A6%AF%E0%A7%81%E0%A6%95%E0%A7%8D%E0%A6%A4%E0%A6%B0%E0%A6%BE%E0%A6%B7%E0%A7%8D%E0%A6%9F%E0%A7%8D%E0%A6%B0%E0%A7%87%E0%A6%B0-%E0%A6%B0%E0%A6%BE%E0%A6%B7%E0%A7%8D%E0%A6%9F%E0%A7%8D%E0%A6%B0%E0%A6%A6%E0%A7%82%E0%A6%A4%E0%A7%87%E0%A6%B0-%E0%A6%B8%E0%A6%BE%E0%A6%AE%E0%A7%8D%E0%A6%AA%E0%A7%8D%E0%A6%B0%E0%A6%A4%E0%A6%BF%E0%A6%95-%E0%A6%AC%E0%A6%95%E0%A7%8D%E0%A6%A4%E0%A6%AC%E0%A7%8D%E0%A6%AF%E0%A7%87%E0%A6%B0-%E0%A6%A4%E0%A6%BE%E0%A7%8E%E0%A6%AA%E0%A6%B0%E0%A7%8D%E0%A6%AF-355556\n"
     ]
    },
    {
     "name": "stderr",
     "output_type": "stream",
     "text": [
      " 52%|█████▏    | 367/709 [09:00<05:15,  1.08it/s]"
     ]
    },
    {
     "name": "stdout",
     "output_type": "stream",
     "text": [
      "Article `download()` failed with 404 Client Error: Not Found for url: https://www.thedailystar.net/%E0%A6%85%E0%A6%AD%E0%A6%BF%E0%A6%AE%E0%A6%A4/%E0%A6%AE%E0%A6%A4%E0%A6%BE%E0%A6%AE%E0%A6%A4/%E0%A6%B8%E0%A6%BE%E0%A6%95%E0%A7%8D%E0%A6%B7%E0%A6%BE%E0%A7%8E%E0%A6%95%E0%A6%BE%E0%A6%B0/%E0%A6%B8%E0%A6%B0%E0%A6%95%E0%A6%BE%E0%A6%B0-%E0%A6%AC%E0%A7%8D%E0%A6%AF%E0%A6%AC%E0%A6%B8%E0%A6%BE%E0%A7%9F%E0%A7%80%E0%A6%A6%E0%A7%87%E0%A6%B0-%E0%A6%AC%E0%A6%BF%E0%A6%B6%E0%A7%87%E0%A6%B7-%E0%A6%B8%E0%A7%81%E0%A6%AC%E0%A6%BF%E0%A6%A7%E0%A6%BE-%E0%A6%A6%E0%A6%BF%E0%A6%A4%E0%A7%87%E0%A6%87-%E0%A6%9A%E0%A6%BF%E0%A6%A8%E0%A6%BF%E0%A6%95%E0%A6%B2%E0%A6%97%E0%A7%81%E0%A6%B2%E0%A7%8B%E0%A6%95%E0%A7%87-%E0%A6%AA%E0%A7%8D%E0%A6%B0%E0%A6%BE%E0%A7%9F-%E0%A6%A7%E0%A7%8D%E0%A6%AC%E0%A6%82%E0%A6%B8-%E0%A6%95%E0%A6%B0%E0%A7%87-%E0%A6%A6%E0%A6%BF%E0%A7%9F%E0%A7%87%E0%A6%9B%E0%A7%87 on URL https://www.thedailystar.net/%E0%A6%85%E0%A6%AD%E0%A6%BF%E0%A6%AE%E0%A6%A4/%E0%A6%AE%E0%A6%A4%E0%A6%BE%E0%A6%AE%E0%A6%A4/%E0%A6%B8%E0%A6%BE%E0%A6%95%E0%A7%8D%E0%A6%B7%E0%A6%BE%E0%A7%8E%E0%A6%95%E0%A6%BE%E0%A6%B0/%E0%A6%B8%E0%A6%B0%E0%A6%95%E0%A6%BE%E0%A6%B0-%E0%A6%AC%E0%A7%8D%E0%A6%AF%E0%A6%AC%E0%A6%B8%E0%A6%BE%E0%A7%9F%E0%A7%80%E0%A6%A6%E0%A7%87%E0%A6%B0-%E0%A6%AC%E0%A6%BF%E0%A6%B6%E0%A7%87%E0%A6%B7-%E0%A6%B8%E0%A7%81%E0%A6%AC%E0%A6%BF%E0%A6%A7%E0%A6%BE-%E0%A6%A6%E0%A6%BF%E0%A6%A4%E0%A7%87%E0%A6%87-%E0%A6%9A%E0%A6%BF%E0%A6%A8%E0%A6%BF%E0%A6%95%E0%A6%B2%E0%A6%97%E0%A7%81%E0%A6%B2%E0%A7%8B%E0%A6%95%E0%A7%87-%E0%A6%AA%E0%A7%8D%E0%A6%B0%E0%A6%BE%E0%A7%9F-%E0%A6%A7%E0%A7%8D%E0%A6%AC%E0%A6%82%E0%A6%B8-%E0%A6%95%E0%A6%B0%E0%A7%87-%E0%A6%A6%E0%A6%BF%E0%A7%9F%E0%A7%87%E0%A6%9B%E0%A7%87\n"
     ]
    },
    {
     "name": "stderr",
     "output_type": "stream",
     "text": [
      " 52%|█████▏    | 368/709 [09:01<05:11,  1.09it/s]"
     ]
    },
    {
     "name": "stdout",
     "output_type": "stream",
     "text": [
      "Article `download()` failed with 404 Client Error: Not Found for url: https://www.thedailystar.net/%E0%A6%85%E0%A6%AD%E0%A6%BF%E0%A6%AE%E0%A6%A4/%E0%A6%AE%E0%A6%A4%E0%A6%BE%E0%A6%AE%E0%A6%A4/%E0%A6%86%E0%A6%AE%E0%A6%BE%E0%A6%A6%E0%A7%87%E0%A6%B0-%E0%A6%A8%E0%A7%87%E0%A6%A4%E0%A6%BE%E0%A6%B0%E0%A6%BE-%E0%A6%95%E0%A7%87%E0%A6%A8-%E0%A6%B8%E0%A7%8D%E0%A6%AC%E0%A7%80%E0%A7%9F-%E0%A6%9C%E0%A6%BF%E0%A6%B9%E0%A7%8D%E0%A6%AC%E0%A6%BE-%E0%A6%B6%E0%A6%BE%E0%A6%B8%E0%A6%A8%E0%A7%87-%E0%A6%B0%E0%A6%BE%E0%A6%96%E0%A6%A4%E0%A7%87-%E0%A6%AA%E0%A6%BE%E0%A6%B0%E0%A7%87%E0%A6%A8-%E0%A6%A8%E0%A6%BE-354876 on URL https://www.thedailystar.net/%E0%A6%85%E0%A6%AD%E0%A6%BF%E0%A6%AE%E0%A6%A4/%E0%A6%AE%E0%A6%A4%E0%A6%BE%E0%A6%AE%E0%A6%A4/%E0%A6%86%E0%A6%AE%E0%A6%BE%E0%A6%A6%E0%A7%87%E0%A6%B0-%E0%A6%A8%E0%A7%87%E0%A6%A4%E0%A6%BE%E0%A6%B0%E0%A6%BE-%E0%A6%95%E0%A7%87%E0%A6%A8-%E0%A6%B8%E0%A7%8D%E0%A6%AC%E0%A7%80%E0%A7%9F-%E0%A6%9C%E0%A6%BF%E0%A6%B9%E0%A7%8D%E0%A6%AC%E0%A6%BE-%E0%A6%B6%E0%A6%BE%E0%A6%B8%E0%A6%A8%E0%A7%87-%E0%A6%B0%E0%A6%BE%E0%A6%96%E0%A6%A4%E0%A7%87-%E0%A6%AA%E0%A6%BE%E0%A6%B0%E0%A7%87%E0%A6%A8-%E0%A6%A8%E0%A6%BE-354876\n"
     ]
    },
    {
     "name": "stderr",
     "output_type": "stream",
     "text": [
      " 52%|█████▏    | 369/709 [09:02<05:09,  1.10it/s]"
     ]
    },
    {
     "name": "stdout",
     "output_type": "stream",
     "text": [
      "Article `download()` failed with 404 Client Error: Not Found for url: https://www.thedailystar.net/%E0%A6%85%E0%A6%AD%E0%A6%BF%E0%A6%AE%E0%A6%A4/%E0%A6%9B%E0%A6%BE%E0%A6%A4%E0%A7%8D%E0%A6%B0%E0%A6%B2%E0%A7%80%E0%A6%97%E0%A7%87%E0%A6%B0-%E0%A6%AA%E0%A6%A6%E0%A6%A4%E0%A6%B2%E0%A7%87-%E0%A6%97%E0%A6%A3%E0%A6%A4%E0%A6%A8%E0%A7%8D%E0%A6%A4%E0%A7%8D%E0%A6%B0-%E0%A6%95%E0%A6%BF-%E0%A6%9A%E0%A6%BE%E0%A6%AA%E0%A6%BE-%E0%A6%AA%E0%A7%9C%E0%A7%87-%E0%A6%97%E0%A7%87%E0%A6%B2-354756 on URL https://www.thedailystar.net/%E0%A6%85%E0%A6%AD%E0%A6%BF%E0%A6%AE%E0%A6%A4/%E0%A6%9B%E0%A6%BE%E0%A6%A4%E0%A7%8D%E0%A6%B0%E0%A6%B2%E0%A7%80%E0%A6%97%E0%A7%87%E0%A6%B0-%E0%A6%AA%E0%A6%A6%E0%A6%A4%E0%A6%B2%E0%A7%87-%E0%A6%97%E0%A6%A3%E0%A6%A4%E0%A6%A8%E0%A7%8D%E0%A6%A4%E0%A7%8D%E0%A6%B0-%E0%A6%95%E0%A6%BF-%E0%A6%9A%E0%A6%BE%E0%A6%AA%E0%A6%BE-%E0%A6%AA%E0%A7%9C%E0%A7%87-%E0%A6%97%E0%A7%87%E0%A6%B2-354756\n"
     ]
    },
    {
     "name": "stderr",
     "output_type": "stream",
     "text": [
      " 52%|█████▏    | 370/709 [09:03<05:05,  1.11it/s]"
     ]
    },
    {
     "name": "stdout",
     "output_type": "stream",
     "text": [
      "Article `download()` failed with 404 Client Error: Not Found for url: https://www.thedailystar.net/%E0%A6%85%E0%A6%AD%E0%A6%BF%E0%A6%AE%E0%A6%A4/%E0%A6%AE%E0%A6%A4%E0%A6%BE%E0%A6%AE%E0%A6%A4/%E0%A6%8F%E0%A6%95%E0%A6%9F%E0%A6%BF-%E0%A6%B2%E0%A7%87%E0%A6%AC%E0%A7%81-%E0%A6%B8%E0%A6%BE%E0%A6%AC%E0%A6%BE%E0%A6%A8-%E0%A6%AD%E0%A7%8D%E0%A6%AF%E0%A6%BE%E0%A6%B8%E0%A6%B2%E0%A6%BF%E0%A6%A8-%E0%A6%93-%E0%A6%87%E0%A6%AD%E0%A6%BF%E0%A6%8F%E0%A6%AE%E0%A7%87%E0%A6%B0-%E0%A6%97%E0%A6%B2%E0%A7%8D%E0%A6%AA-354281 on URL https://www.thedailystar.net/%E0%A6%85%E0%A6%AD%E0%A6%BF%E0%A6%AE%E0%A6%A4/%E0%A6%AE%E0%A6%A4%E0%A6%BE%E0%A6%AE%E0%A6%A4/%E0%A6%8F%E0%A6%95%E0%A6%9F%E0%A6%BF-%E0%A6%B2%E0%A7%87%E0%A6%AC%E0%A7%81-%E0%A6%B8%E0%A6%BE%E0%A6%AC%E0%A6%BE%E0%A6%A8-%E0%A6%AD%E0%A7%8D%E0%A6%AF%E0%A6%BE%E0%A6%B8%E0%A6%B2%E0%A6%BF%E0%A6%A8-%E0%A6%93-%E0%A6%87%E0%A6%AD%E0%A6%BF%E0%A6%8F%E0%A6%AE%E0%A7%87%E0%A6%B0-%E0%A6%97%E0%A6%B2%E0%A7%8D%E0%A6%AA-354281\n"
     ]
    },
    {
     "name": "stderr",
     "output_type": "stream",
     "text": [
      " 52%|█████▏    | 371/709 [09:03<05:03,  1.11it/s]"
     ]
    },
    {
     "name": "stdout",
     "output_type": "stream",
     "text": [
      "Article `download()` failed with 404 Client Error: Not Found for url: https://www.thedailystar.net/%E0%A6%85%E0%A6%AD%E0%A6%BF%E0%A6%AE%E0%A6%A4/%E0%A6%AE%E0%A6%A4%E0%A6%BE%E0%A6%AE%E0%A6%A4/%E0%A6%A8%E0%A6%A4%E0%A7%81%E0%A6%A8-%E0%A6%AE%E0%A6%BE%E0%A6%B0%E0%A7%8D%E0%A6%95%E0%A6%BF%E0%A6%A8-%E0%A6%9C%E0%A7%8B%E0%A6%9F%E0%A7%87-%E0%A6%AF%E0%A7%8B%E0%A6%97%E0%A6%A6%E0%A6%BE%E0%A6%A8%E0%A7%87%E0%A6%B0-%E0%A6%86%E0%A6%B9%E0%A7%8D%E0%A6%AC%E0%A6%BE%E0%A6%A8-%E0%A6%95%E0%A7%9F%E0%A7%87%E0%A6%95%E0%A6%9F%E0%A6%BF-%E0%A6%AC%E0%A6%BF%E0%A6%AC%E0%A7%87%E0%A6%9A%E0%A6%A8%E0%A6%BE-353726 on URL https://www.thedailystar.net/%E0%A6%85%E0%A6%AD%E0%A6%BF%E0%A6%AE%E0%A6%A4/%E0%A6%AE%E0%A6%A4%E0%A6%BE%E0%A6%AE%E0%A6%A4/%E0%A6%A8%E0%A6%A4%E0%A7%81%E0%A6%A8-%E0%A6%AE%E0%A6%BE%E0%A6%B0%E0%A7%8D%E0%A6%95%E0%A6%BF%E0%A6%A8-%E0%A6%9C%E0%A7%8B%E0%A6%9F%E0%A7%87-%E0%A6%AF%E0%A7%8B%E0%A6%97%E0%A6%A6%E0%A6%BE%E0%A6%A8%E0%A7%87%E0%A6%B0-%E0%A6%86%E0%A6%B9%E0%A7%8D%E0%A6%AC%E0%A6%BE%E0%A6%A8-%E0%A6%95%E0%A7%9F%E0%A7%87%E0%A6%95%E0%A6%9F%E0%A6%BF-%E0%A6%AC%E0%A6%BF%E0%A6%AC%E0%A7%87%E0%A6%9A%E0%A6%A8%E0%A6%BE-353726\n"
     ]
    },
    {
     "name": "stderr",
     "output_type": "stream",
     "text": [
      " 52%|█████▏    | 372/709 [09:04<05:04,  1.11it/s]"
     ]
    },
    {
     "name": "stdout",
     "output_type": "stream",
     "text": [
      "Article `download()` failed with 404 Client Error: Not Found for url: https://www.thedailystar.net/%E0%A6%B8%E0%A6%82%E0%A6%AC%E0%A6%BE%E0%A6%A6/%E0%A6%AC%E0%A6%BE%E0%A6%82%E0%A6%B2%E0%A6%BE%E0%A6%A6%E0%A7%87%E0%A6%B6/%E0%A6%A8%E0%A6%BF%E0%A6%B0%E0%A7%8D%E0%A6%AC%E0%A6%BE%E0%A6%9A%E0%A6%A8/%E0%A6%87%E0%A6%AD%E0%A6%BF%E0%A6%8F%E0%A6%AE-%E0%A6%86%E0%A6%AE%E0%A6%B0%E0%A6%BE-%E0%A6%A8%E0%A6%BF%E0%A6%9C%E0%A7%87%E0%A6%B0%E0%A6%BE-%E0%A6%95%E0%A6%BF%E0%A6%A8%E0%A7%8D%E0%A6%A4%E0%A7%81-%E0%A6%AA%E0%A6%B0%E0%A7%80%E0%A6%95%E0%A7%8D%E0%A6%B7%E0%A6%BE-%E0%A6%95%E0%A6%B0%E0%A7%87-%E0%A6%A6%E0%A7%87%E0%A6%96%E0%A6%BF%E0%A6%A8%E0%A6%BF-%E0%A6%A1-%E0%A6%95%E0%A6%BE%E0%A7%9F%E0%A6%95%E0%A7%8B%E0%A6%AC%E0%A6%BE%E0%A6%A6-353371 on URL https://www.thedailystar.net/%E0%A6%B8%E0%A6%82%E0%A6%AC%E0%A6%BE%E0%A6%A6/%E0%A6%AC%E0%A6%BE%E0%A6%82%E0%A6%B2%E0%A6%BE%E0%A6%A6%E0%A7%87%E0%A6%B6/%E0%A6%A8%E0%A6%BF%E0%A6%B0%E0%A7%8D%E0%A6%AC%E0%A6%BE%E0%A6%9A%E0%A6%A8/%E0%A6%87%E0%A6%AD%E0%A6%BF%E0%A6%8F%E0%A6%AE-%E0%A6%86%E0%A6%AE%E0%A6%B0%E0%A6%BE-%E0%A6%A8%E0%A6%BF%E0%A6%9C%E0%A7%87%E0%A6%B0%E0%A6%BE-%E0%A6%95%E0%A6%BF%E0%A6%A8%E0%A7%8D%E0%A6%A4%E0%A7%81-%E0%A6%AA%E0%A6%B0%E0%A7%80%E0%A6%95%E0%A7%8D%E0%A6%B7%E0%A6%BE-%E0%A6%95%E0%A6%B0%E0%A7%87-%E0%A6%A6%E0%A7%87%E0%A6%96%E0%A6%BF%E0%A6%A8%E0%A6%BF-%E0%A6%A1-%E0%A6%95%E0%A6%BE%E0%A7%9F%E0%A6%95%E0%A7%8B%E0%A6%AC%E0%A6%BE%E0%A6%A6-353371\n"
     ]
    },
    {
     "name": "stderr",
     "output_type": "stream",
     "text": [
      " 53%|█████▎    | 373/709 [09:05<05:02,  1.11it/s]"
     ]
    },
    {
     "name": "stdout",
     "output_type": "stream",
     "text": [
      "Article `download()` failed with 404 Client Error: Not Found for url: https://www.thedailystar.net/%E0%A6%85%E0%A6%AD%E0%A6%BF%E0%A6%AE%E0%A6%A4/%E0%A6%AC%E0%A7%87%E0%A6%B8%E0%A6%B0%E0%A6%95%E0%A6%BE%E0%A6%B0%E0%A6%BF-%E0%A6%AC%E0%A6%BF%E0%A6%B6%E0%A7%8D%E0%A6%AC%E0%A6%AC%E0%A6%BF%E0%A6%A6%E0%A7%8D%E0%A6%AF%E0%A6%BE%E0%A6%B2%E0%A7%9F-%E0%A6%AE%E0%A6%B9%E0%A7%8E-%E0%A6%89%E0%A6%A6%E0%A7%8D%E0%A6%AF%E0%A7%8B%E0%A6%97%E0%A7%87%E0%A6%B0-%E0%A6%95%E0%A6%B0%E0%A7%81%E0%A6%A3-%E0%A6%AA%E0%A6%B0%E0%A6%BF%E0%A6%A3%E0%A6%A4%E0%A6%BF-353026 on URL https://www.thedailystar.net/%E0%A6%85%E0%A6%AD%E0%A6%BF%E0%A6%AE%E0%A6%A4/%E0%A6%AC%E0%A7%87%E0%A6%B8%E0%A6%B0%E0%A6%95%E0%A6%BE%E0%A6%B0%E0%A6%BF-%E0%A6%AC%E0%A6%BF%E0%A6%B6%E0%A7%8D%E0%A6%AC%E0%A6%AC%E0%A6%BF%E0%A6%A6%E0%A7%8D%E0%A6%AF%E0%A6%BE%E0%A6%B2%E0%A7%9F-%E0%A6%AE%E0%A6%B9%E0%A7%8E-%E0%A6%89%E0%A6%A6%E0%A7%8D%E0%A6%AF%E0%A7%8B%E0%A6%97%E0%A7%87%E0%A6%B0-%E0%A6%95%E0%A6%B0%E0%A7%81%E0%A6%A3-%E0%A6%AA%E0%A6%B0%E0%A6%BF%E0%A6%A3%E0%A6%A4%E0%A6%BF-353026\n"
     ]
    },
    {
     "name": "stderr",
     "output_type": "stream",
     "text": [
      " 53%|█████▎    | 374/709 [09:06<05:28,  1.02it/s]"
     ]
    },
    {
     "name": "stdout",
     "output_type": "stream",
     "text": [
      "Article `download()` failed with 404 Client Error: Not Found for url: https://www.thedailystar.net/%E0%A6%85%E0%A6%AD%E0%A6%BF%E0%A6%AE%E0%A6%A4/%E0%A6%AE%E0%A6%A4%E0%A6%BE%E0%A6%AE%E0%A6%A4/%E0%A6%87%E0%A6%AD%E0%A6%BF%E0%A6%8F%E0%A6%AE%E0%A7%87-%E0%A6%AD%E0%A7%8B%E0%A6%9F-%E0%A6%95%E0%A6%BE%E0%A6%B0%E0%A6%9A%E0%A7%81%E0%A6%AA%E0%A6%BF%E0%A6%B0-%E0%A6%B8%E0%A7%81%E0%A6%AF%E0%A7%8B%E0%A6%97-%E0%A6%A8%E0%A7%87%E0%A6%87-%E0%A6%95%E0%A6%A4%E0%A6%9F%E0%A6%BE-%E0%A6%B8%E0%A6%A0%E0%A6%BF%E0%A6%95-%E0%A6%8F-%E0%A6%AC%E0%A6%95%E0%A7%8D%E0%A6%A4%E0%A6%AC%E0%A7%8D%E0%A6%AF-353041 on URL https://www.thedailystar.net/%E0%A6%85%E0%A6%AD%E0%A6%BF%E0%A6%AE%E0%A6%A4/%E0%A6%AE%E0%A6%A4%E0%A6%BE%E0%A6%AE%E0%A6%A4/%E0%A6%87%E0%A6%AD%E0%A6%BF%E0%A6%8F%E0%A6%AE%E0%A7%87-%E0%A6%AD%E0%A7%8B%E0%A6%9F-%E0%A6%95%E0%A6%BE%E0%A6%B0%E0%A6%9A%E0%A7%81%E0%A6%AA%E0%A6%BF%E0%A6%B0-%E0%A6%B8%E0%A7%81%E0%A6%AF%E0%A7%8B%E0%A6%97-%E0%A6%A8%E0%A7%87%E0%A6%87-%E0%A6%95%E0%A6%A4%E0%A6%9F%E0%A6%BE-%E0%A6%B8%E0%A6%A0%E0%A6%BF%E0%A6%95-%E0%A6%8F-%E0%A6%AC%E0%A6%95%E0%A7%8D%E0%A6%A4%E0%A6%AC%E0%A7%8D%E0%A6%AF-353041\n"
     ]
    },
    {
     "name": "stderr",
     "output_type": "stream",
     "text": [
      " 53%|█████▎    | 375/709 [09:07<05:17,  1.05it/s]"
     ]
    },
    {
     "name": "stdout",
     "output_type": "stream",
     "text": [
      "Article `download()` failed with 404 Client Error: Not Found for url: https://www.thedailystar.net/%E0%A6%85%E0%A6%AD%E0%A6%BF%E0%A6%AE%E0%A6%A4/%E0%A6%AE%E0%A6%A4%E0%A6%BE%E0%A6%AE%E0%A6%A4/%E0%A6%AD%E0%A6%BE%E0%A6%B7%E0%A6%BE-%E0%A6%86%E0%A6%A8%E0%A7%8D%E0%A6%A6%E0%A7%8B%E0%A6%B2%E0%A6%A8%E0%A7%87%E0%A6%B0-%E0%A6%97%E0%A6%BE%E0%A6%A8-%E0%A6%AF%E0%A6%BE%E0%A6%95%E0%A7%87-%E0%A6%85%E0%A6%AE%E0%A6%B0%E0%A6%A4%E0%A7%8D%E0%A6%AC-%E0%A6%A6%E0%A6%BF%E0%A7%9F%E0%A7%87%E0%A6%9B%E0%A7%87-353146 on URL https://www.thedailystar.net/%E0%A6%85%E0%A6%AD%E0%A6%BF%E0%A6%AE%E0%A6%A4/%E0%A6%AE%E0%A6%A4%E0%A6%BE%E0%A6%AE%E0%A6%A4/%E0%A6%AD%E0%A6%BE%E0%A6%B7%E0%A6%BE-%E0%A6%86%E0%A6%A8%E0%A7%8D%E0%A6%A6%E0%A7%8B%E0%A6%B2%E0%A6%A8%E0%A7%87%E0%A6%B0-%E0%A6%97%E0%A6%BE%E0%A6%A8-%E0%A6%AF%E0%A6%BE%E0%A6%95%E0%A7%87-%E0%A6%85%E0%A6%AE%E0%A6%B0%E0%A6%A4%E0%A7%8D%E0%A6%AC-%E0%A6%A6%E0%A6%BF%E0%A7%9F%E0%A7%87%E0%A6%9B%E0%A7%87-353146\n"
     ]
    },
    {
     "name": "stderr",
     "output_type": "stream",
     "text": [
      " 53%|█████▎    | 376/709 [09:08<05:10,  1.07it/s]"
     ]
    },
    {
     "name": "stdout",
     "output_type": "stream",
     "text": [
      "Article `download()` failed with 404 Client Error: Not Found for url: https://www.thedailystar.net/%E0%A6%85%E0%A6%AD%E0%A6%BF%E0%A6%AE%E0%A6%A4/%E0%A6%AE%E0%A6%A4%E0%A6%BE%E0%A6%AE%E0%A6%A4/%E0%A6%AE%E0%A7%81%E0%A6%96%E0%A6%AA%E0%A6%BE%E0%A6%A3%E0%A7%8D%E0%A6%A1%E0%A6%BF%E0%A6%A4%E0%A7%8D%E0%A6%AF-%E0%A6%AB%E0%A7%8C%E0%A6%9C%E0%A6%A6%E0%A6%BE%E0%A6%B0%E0%A6%BF-%E0%A6%AE%E0%A6%B6%E0%A6%95%E0%A6%B0%E0%A6%BE-%E0%A6%B0%E0%A6%BE%E0%A6%9C%E0%A6%95%E0%A7%80%E0%A7%9F-%E0%A6%86%E0%A6%B6%E0%A6%95%E0%A6%BE%E0%A6%B0%E0%A6%BE-352196 on URL https://www.thedailystar.net/%E0%A6%85%E0%A6%AD%E0%A6%BF%E0%A6%AE%E0%A6%A4/%E0%A6%AE%E0%A6%A4%E0%A6%BE%E0%A6%AE%E0%A6%A4/%E0%A6%AE%E0%A7%81%E0%A6%96%E0%A6%AA%E0%A6%BE%E0%A6%A3%E0%A7%8D%E0%A6%A1%E0%A6%BF%E0%A6%A4%E0%A7%8D%E0%A6%AF-%E0%A6%AB%E0%A7%8C%E0%A6%9C%E0%A6%A6%E0%A6%BE%E0%A6%B0%E0%A6%BF-%E0%A6%AE%E0%A6%B6%E0%A6%95%E0%A6%B0%E0%A6%BE-%E0%A6%B0%E0%A6%BE%E0%A6%9C%E0%A6%95%E0%A7%80%E0%A7%9F-%E0%A6%86%E0%A6%B6%E0%A6%95%E0%A6%BE%E0%A6%B0%E0%A6%BE-352196\n"
     ]
    },
    {
     "name": "stderr",
     "output_type": "stream",
     "text": [
      " 53%|█████▎    | 377/709 [09:09<05:04,  1.09it/s]"
     ]
    },
    {
     "name": "stdout",
     "output_type": "stream",
     "text": [
      "Article `download()` failed with 404 Client Error: Not Found for url: https://www.thedailystar.net/%E0%A6%85%E0%A6%AD%E0%A6%BF%E0%A6%AE%E0%A6%A4/%E0%A6%AE%E0%A6%A4%E0%A6%BE%E0%A6%AE%E0%A6%A4/%E0%A6%86%E0%A6%AE%E0%A6%BE%E0%A6%B0-%E0%A6%AE%E0%A7%87%E0%A7%9F%E0%A7%87-%E0%A6%B8%E0%A7%8D%E0%A6%95%E0%A7%81%E0%A6%B2%E0%A7%87-%E0%A6%AF%E0%A7%87%E0%A6%A4%E0%A7%87-%E0%A6%9A%E0%A6%BE%E0%A7%9F-%E0%A6%A8%E0%A6%BE-351456 on URL https://www.thedailystar.net/%E0%A6%85%E0%A6%AD%E0%A6%BF%E0%A6%AE%E0%A6%A4/%E0%A6%AE%E0%A6%A4%E0%A6%BE%E0%A6%AE%E0%A6%A4/%E0%A6%86%E0%A6%AE%E0%A6%BE%E0%A6%B0-%E0%A6%AE%E0%A7%87%E0%A7%9F%E0%A7%87-%E0%A6%B8%E0%A7%8D%E0%A6%95%E0%A7%81%E0%A6%B2%E0%A7%87-%E0%A6%AF%E0%A7%87%E0%A6%A4%E0%A7%87-%E0%A6%9A%E0%A6%BE%E0%A7%9F-%E0%A6%A8%E0%A6%BE-351456\n"
     ]
    },
    {
     "name": "stderr",
     "output_type": "stream",
     "text": [
      " 53%|█████▎    | 378/709 [09:10<05:27,  1.01it/s]"
     ]
    },
    {
     "name": "stdout",
     "output_type": "stream",
     "text": [
      "Article `download()` failed with 404 Client Error: Not Found for url: https://www.thedailystar.net/%E0%A6%85%E0%A6%AD%E0%A6%BF%E0%A6%AE%E0%A6%A4/%E0%A6%AE%E0%A6%A4%E0%A6%BE%E0%A6%AE%E0%A6%A4/%E0%A6%95%E0%A7%82%E0%A6%9F%E0%A6%A8%E0%A7%80%E0%A6%A4%E0%A6%BF%E0%A6%95%E0%A7%87%E0%A6%B0-%E0%A6%AC%E0%A7%9C%E0%A6%A6%E0%A6%BF%E0%A6%A8%E0%A7%87%E0%A6%B0-%E0%A6%95%E0%A6%BE%E0%A6%B0%E0%A7%8D%E0%A6%A1-%E0%A6%AC%E0%A6%BF%E0%A6%A8%E0%A6%BF%E0%A6%AE%E0%A7%9F-%E0%A6%93-%E0%A6%AE%E0%A6%A8%E0%A7%8D%E0%A6%A4%E0%A7%8D%E0%A6%B0%E0%A7%80%E0%A6%A6%E0%A7%87%E0%A6%B0-%E0%A6%85%E0%A6%AE%E0%A7%83%E0%A6%A4%E0%A6%AC%E0%A6%9A%E0%A6%A8-350546 on URL https://www.thedailystar.net/%E0%A6%85%E0%A6%AD%E0%A6%BF%E0%A6%AE%E0%A6%A4/%E0%A6%AE%E0%A6%A4%E0%A6%BE%E0%A6%AE%E0%A6%A4/%E0%A6%95%E0%A7%82%E0%A6%9F%E0%A6%A8%E0%A7%80%E0%A6%A4%E0%A6%BF%E0%A6%95%E0%A7%87%E0%A6%B0-%E0%A6%AC%E0%A7%9C%E0%A6%A6%E0%A6%BF%E0%A6%A8%E0%A7%87%E0%A6%B0-%E0%A6%95%E0%A6%BE%E0%A6%B0%E0%A7%8D%E0%A6%A1-%E0%A6%AC%E0%A6%BF%E0%A6%A8%E0%A6%BF%E0%A6%AE%E0%A7%9F-%E0%A6%93-%E0%A6%AE%E0%A6%A8%E0%A7%8D%E0%A6%A4%E0%A7%8D%E0%A6%B0%E0%A7%80%E0%A6%A6%E0%A7%87%E0%A6%B0-%E0%A6%85%E0%A6%AE%E0%A7%83%E0%A6%A4%E0%A6%AC%E0%A6%9A%E0%A6%A8-350546\n"
     ]
    },
    {
     "name": "stderr",
     "output_type": "stream",
     "text": [
      " 53%|█████▎    | 379/709 [09:11<05:17,  1.04it/s]"
     ]
    },
    {
     "name": "stdout",
     "output_type": "stream",
     "text": [
      "Article `download()` failed with 404 Client Error: Not Found for url: https://www.thedailystar.net/%E0%A6%96%E0%A7%87%E0%A6%B2%E0%A6%BE/%E0%A6%AB%E0%A7%81%E0%A6%9F%E0%A6%AC%E0%A6%B2/%E0%A6%9F%E0%A7%8D%E0%A6%B0%E0%A6%BE%E0%A6%A8%E0%A7%8D%E0%A6%B8%E0%A6%AB%E0%A6%BE%E0%A6%B0-%E0%A6%B2%E0%A6%BE%E0%A6%87%E0%A6%AD-%E0%A6%A6%E0%A6%B2%E0%A6%AC%E0%A6%A6%E0%A6%B2%E0%A7%87%E0%A6%B0-%E0%A6%B8%E0%A6%95%E0%A6%B2-%E0%A6%B8%E0%A6%82%E0%A6%AC%E0%A6%BE%E0%A6%A6-%E0%A6%93-%E0%A6%97%E0%A7%81%E0%A6%9E%E0%A7%8D%E0%A6%9C%E0%A6%A8-356006 on URL https://www.thedailystar.net/%E0%A6%96%E0%A7%87%E0%A6%B2%E0%A6%BE/%E0%A6%AB%E0%A7%81%E0%A6%9F%E0%A6%AC%E0%A6%B2/%E0%A6%9F%E0%A7%8D%E0%A6%B0%E0%A6%BE%E0%A6%A8%E0%A7%8D%E0%A6%B8%E0%A6%AB%E0%A6%BE%E0%A6%B0-%E0%A6%B2%E0%A6%BE%E0%A6%87%E0%A6%AD-%E0%A6%A6%E0%A6%B2%E0%A6%AC%E0%A6%A6%E0%A6%B2%E0%A7%87%E0%A6%B0-%E0%A6%B8%E0%A6%95%E0%A6%B2-%E0%A6%B8%E0%A6%82%E0%A6%AC%E0%A6%BE%E0%A6%A6-%E0%A6%93-%E0%A6%97%E0%A7%81%E0%A6%9E%E0%A7%8D%E0%A6%9C%E0%A6%A8-356006\n"
     ]
    },
    {
     "name": "stderr",
     "output_type": "stream",
     "text": [
      " 54%|█████▎    | 380/709 [09:13<06:59,  1.27s/it]"
     ]
    },
    {
     "name": "stdout",
     "output_type": "stream",
     "text": [
      "Article `download()` failed with 404 Client Error: Not Found for url: https://www.thedailystar.net/%E0%A6%96%E0%A7%87%E0%A6%B2%E0%A6%BE/%E0%A6%AB%E0%A7%81%E0%A6%9F%E0%A6%AC%E0%A6%B2/%E0%A6%AE%E0%A7%87%E0%A6%B8%E0%A6%BF%E0%A6%B0-%E0%A6%AA%E0%A6%BE%E0%A6%81%E0%A6%9A-%E0%A6%97%E0%A7%8B%E0%A6%B2%E0%A7%87-%E0%A6%AC%E0%A6%BF%E0%A6%A7%E0%A7%8D%E0%A6%AC%E0%A6%B8%E0%A7%8D%E0%A6%A4-%E0%A6%8F%E0%A6%B8%E0%A7%8D%E0%A6%A4%E0%A7%8B%E0%A6%A8%E0%A6%BF%E0%A7%9F%E0%A6%BE-356281 on URL https://www.thedailystar.net/%E0%A6%96%E0%A7%87%E0%A6%B2%E0%A6%BE/%E0%A6%AB%E0%A7%81%E0%A6%9F%E0%A6%AC%E0%A6%B2/%E0%A6%AE%E0%A7%87%E0%A6%B8%E0%A6%BF%E0%A6%B0-%E0%A6%AA%E0%A6%BE%E0%A6%81%E0%A6%9A-%E0%A6%97%E0%A7%8B%E0%A6%B2%E0%A7%87-%E0%A6%AC%E0%A6%BF%E0%A6%A7%E0%A7%8D%E0%A6%AC%E0%A6%B8%E0%A7%8D%E0%A6%A4-%E0%A6%8F%E0%A6%B8%E0%A7%8D%E0%A6%A4%E0%A7%8B%E0%A6%A8%E0%A6%BF%E0%A7%9F%E0%A6%BE-356281\n"
     ]
    },
    {
     "name": "stderr",
     "output_type": "stream",
     "text": [
      " 54%|█████▎    | 381/709 [09:14<06:25,  1.18s/it]"
     ]
    },
    {
     "name": "stdout",
     "output_type": "stream",
     "text": [
      "Article `download()` failed with 404 Client Error: Not Found for url: https://www.thedailystar.net/%E0%A6%96%E0%A7%87%E0%A6%B2%E0%A6%BE/%E0%A6%9F%E0%A7%87%E0%A6%A8%E0%A6%BF%E0%A6%B8/%E0%A6%AB%E0%A6%B0%E0%A6%BE%E0%A6%B8%E0%A6%BF-%E0%A6%93%E0%A6%AA%E0%A7%87%E0%A6%A8%E0%A7%87%E0%A6%B0-%E0%A6%B6%E0%A6%BF%E0%A6%B0%E0%A7%8B%E0%A6%AA%E0%A6%BE-%E0%A6%AA%E0%A7%81%E0%A6%A8%E0%A6%B0%E0%A7%81%E0%A6%A6%E0%A7%8D%E0%A6%A7%E0%A6%BE%E0%A6%B0-%E0%A6%95%E0%A6%B0%E0%A7%87-%E0%A6%A8%E0%A6%BE%E0%A6%A6%E0%A6%BE%E0%A6%B2%E0%A7%87%E0%A6%B0-%E0%A7%A8%E0%A7%A8%E0%A6%A4%E0%A6%AE-%E0%A6%97%E0%A7%8D%E0%A6%B0%E0%A7%8D%E0%A6%AF%E0%A6%BE%E0%A6%A8%E0%A7%8D%E0%A6%A1%E0%A6%B8%E0%A7%8D%E0%A6%B2%E0%A7%8D%E0%A6%AF%E0%A6%BE%E0%A6%AE-356236 on URL https://www.thedailystar.net/%E0%A6%96%E0%A7%87%E0%A6%B2%E0%A6%BE/%E0%A6%9F%E0%A7%87%E0%A6%A8%E0%A6%BF%E0%A6%B8/%E0%A6%AB%E0%A6%B0%E0%A6%BE%E0%A6%B8%E0%A6%BF-%E0%A6%93%E0%A6%AA%E0%A7%87%E0%A6%A8%E0%A7%87%E0%A6%B0-%E0%A6%B6%E0%A6%BF%E0%A6%B0%E0%A7%8B%E0%A6%AA%E0%A6%BE-%E0%A6%AA%E0%A7%81%E0%A6%A8%E0%A6%B0%E0%A7%81%E0%A6%A6%E0%A7%8D%E0%A6%A7%E0%A6%BE%E0%A6%B0-%E0%A6%95%E0%A6%B0%E0%A7%87-%E0%A6%A8%E0%A6%BE%E0%A6%A6%E0%A6%BE%E0%A6%B2%E0%A7%87%E0%A6%B0-%E0%A7%A8%E0%A7%A8%E0%A6%A4%E0%A6%AE-%E0%A6%97%E0%A7%8D%E0%A6%B0%E0%A7%8D%E0%A6%AF%E0%A6%BE%E0%A6%A8%E0%A7%8D%E0%A6%A1%E0%A6%B8%E0%A7%8D%E0%A6%B2%E0%A7%8D%E0%A6%AF%E0%A6%BE%E0%A6%AE-356236\n"
     ]
    },
    {
     "name": "stderr",
     "output_type": "stream",
     "text": [
      " 54%|█████▍    | 382/709 [09:15<05:56,  1.09s/it]"
     ]
    },
    {
     "name": "stdout",
     "output_type": "stream",
     "text": [
      "Article `download()` failed with 404 Client Error: Not Found for url: https://www.thedailystar.net/%E0%A6%96%E0%A7%87%E0%A6%B2%E0%A6%BE/%E0%A6%AB%E0%A7%81%E0%A6%9F%E0%A6%AC%E0%A6%B2/%E0%A6%AC%E0%A7%8D%E0%A6%AF%E0%A6%BE%E0%A6%B2%E0%A6%A8-%E0%A6%A1%E0%A6%BF%E0%A6%85%E0%A6%B0-%E0%A6%A8%E0%A6%BF%E0%A7%9F%E0%A7%87-%E0%A6%AE%E0%A7%87%E0%A6%B8%E0%A6%BF%E0%A6%B0-%E0%A6%AC%E0%A6%95%E0%A7%8D%E0%A6%A4%E0%A6%AC%E0%A7%8D%E0%A6%AF%E0%A7%87-%E0%A6%85%E0%A6%A8%E0%A7%81%E0%A6%AA%E0%A7%8D%E0%A6%B0%E0%A6%BE%E0%A6%A3%E0%A6%BF%E0%A6%A4-%E0%A6%AC%E0%A7%87%E0%A6%A8%E0%A6%9C%E0%A7%87%E0%A6%AE%E0%A6%BE-356171 on URL https://www.thedailystar.net/%E0%A6%96%E0%A7%87%E0%A6%B2%E0%A6%BE/%E0%A6%AB%E0%A7%81%E0%A6%9F%E0%A6%AC%E0%A6%B2/%E0%A6%AC%E0%A7%8D%E0%A6%AF%E0%A6%BE%E0%A6%B2%E0%A6%A8-%E0%A6%A1%E0%A6%BF%E0%A6%85%E0%A6%B0-%E0%A6%A8%E0%A6%BF%E0%A7%9F%E0%A7%87-%E0%A6%AE%E0%A7%87%E0%A6%B8%E0%A6%BF%E0%A6%B0-%E0%A6%AC%E0%A6%95%E0%A7%8D%E0%A6%A4%E0%A6%AC%E0%A7%8D%E0%A6%AF%E0%A7%87-%E0%A6%85%E0%A6%A8%E0%A7%81%E0%A6%AA%E0%A7%8D%E0%A6%B0%E0%A6%BE%E0%A6%A3%E0%A6%BF%E0%A6%A4-%E0%A6%AC%E0%A7%87%E0%A6%A8%E0%A6%9C%E0%A7%87%E0%A6%AE%E0%A6%BE-356171\n"
     ]
    },
    {
     "name": "stderr",
     "output_type": "stream",
     "text": [
      " 54%|█████▍    | 383/709 [09:16<05:38,  1.04s/it]"
     ]
    },
    {
     "name": "stdout",
     "output_type": "stream",
     "text": [
      "Article `download()` failed with 404 Client Error: Not Found for url: https://www.thedailystar.net/%E0%A6%AC%E0%A6%BE%E0%A6%A3%E0%A6%BF%E0%A6%9C%E0%A7%8D%E0%A6%AF/%E0%A6%96%E0%A7%87%E0%A6%B2%E0%A6%BE%E0%A6%AA%E0%A6%BF-%E0%A6%8B%E0%A6%A3-%E0%A7%A8%E0%A7%AD-%E0%A6%AE%E0%A6%BE%E0%A6%B8%E0%A7%87%E0%A6%B0-%E0%A6%AE%E0%A6%A7%E0%A7%8D%E0%A6%AF%E0%A7%87-%E0%A6%B8%E0%A6%B0%E0%A7%8D%E0%A6%AC%E0%A7%8B%E0%A6%9A%E0%A7%8D%E0%A6%9A-356211 on URL https://www.thedailystar.net/%E0%A6%AC%E0%A6%BE%E0%A6%A3%E0%A6%BF%E0%A6%9C%E0%A7%8D%E0%A6%AF/%E0%A6%96%E0%A7%87%E0%A6%B2%E0%A6%BE%E0%A6%AA%E0%A6%BF-%E0%A6%8B%E0%A6%A3-%E0%A7%A8%E0%A7%AD-%E0%A6%AE%E0%A6%BE%E0%A6%B8%E0%A7%87%E0%A6%B0-%E0%A6%AE%E0%A6%A7%E0%A7%8D%E0%A6%AF%E0%A7%87-%E0%A6%B8%E0%A6%B0%E0%A7%8D%E0%A6%AC%E0%A7%8B%E0%A6%9A%E0%A7%8D%E0%A6%9A-356211\n"
     ]
    },
    {
     "name": "stderr",
     "output_type": "stream",
     "text": [
      " 54%|█████▍    | 384/709 [09:16<04:31,  1.20it/s]"
     ]
    },
    {
     "name": "stdout",
     "output_type": "stream",
     "text": [
      "Article `download()` failed with 404 Client Error: Not Found for url: https://www.thedailystar.net/%E0%A6%85%E0%A6%B0%E0%A7%8D%E0%A6%A5%E0%A6%A8%E0%A7%80%E0%A6%A4%E0%A6%BF/%E0%A6%B6%E0%A6%BF%E0%A6%B2%E0%A7%8D%E0%A6%AA%E0%A6%96%E0%A6%BE%E0%A6%A4/%E0%A6%A6%E0%A7%87%E0%A6%B6%E0%A7%87-%E0%A7%A7%E0%A7%A8-%E0%A6%AC%E0%A6%9B%E0%A6%B0%E0%A7%87-%E0%A6%9A%E0%A6%BE-%E0%A6%89%E0%A7%8E%E0%A6%AA%E0%A6%BE%E0%A6%A6%E0%A6%A8-%E0%A6%AC%E0%A7%87%E0%A7%9C%E0%A7%87%E0%A6%9B%E0%A7%87-%E0%A7%AC%E0%A7%A7-%E0%A6%B6%E0%A6%A4%E0%A6%BE%E0%A6%82%E0%A6%B6-%E0%A6%AC%E0%A6%BE%E0%A6%A3%E0%A6%BF%E0%A6%9C%E0%A7%8D%E0%A6%AF%E0%A6%AE%E0%A6%A8%E0%A7%8D%E0%A6%A4%E0%A7%8D%E0%A6%B0%E0%A7%80-355746 on URL https://www.thedailystar.net/%E0%A6%85%E0%A6%B0%E0%A7%8D%E0%A6%A5%E0%A6%A8%E0%A7%80%E0%A6%A4%E0%A6%BF/%E0%A6%B6%E0%A6%BF%E0%A6%B2%E0%A7%8D%E0%A6%AA%E0%A6%96%E0%A6%BE%E0%A6%A4/%E0%A6%A6%E0%A7%87%E0%A6%B6%E0%A7%87-%E0%A7%A7%E0%A7%A8-%E0%A6%AC%E0%A6%9B%E0%A6%B0%E0%A7%87-%E0%A6%9A%E0%A6%BE-%E0%A6%89%E0%A7%8E%E0%A6%AA%E0%A6%BE%E0%A6%A6%E0%A6%A8-%E0%A6%AC%E0%A7%87%E0%A7%9C%E0%A7%87%E0%A6%9B%E0%A7%87-%E0%A7%AC%E0%A7%A7-%E0%A6%B6%E0%A6%A4%E0%A6%BE%E0%A6%82%E0%A6%B6-%E0%A6%AC%E0%A6%BE%E0%A6%A3%E0%A6%BF%E0%A6%9C%E0%A7%8D%E0%A6%AF%E0%A6%AE%E0%A6%A8%E0%A7%8D%E0%A6%A4%E0%A7%8D%E0%A6%B0%E0%A7%80-355746\n"
     ]
    },
    {
     "name": "stderr",
     "output_type": "stream",
     "text": [
      " 54%|█████▍    | 385/709 [09:17<05:06,  1.06it/s]"
     ]
    },
    {
     "name": "stdout",
     "output_type": "stream",
     "text": [
      "Article `download()` failed with 404 Client Error: Not Found for url: https://www.thedailystar.net/%E0%A6%AC%E0%A6%BE%E0%A6%A3%E0%A6%BF%E0%A6%9C%E0%A7%8D%E0%A6%AF/%E0%A6%AC%E0%A6%BE%E0%A6%9C%E0%A7%87%E0%A6%9F-%E0%A7%A8%E0%A7%A6%E0%A7%A8%E0%A7%A8-%E0%A7%A8%E0%A7%A9/%E0%A6%A6%E0%A7%81%E0%A6%9F%E0%A6%BF-%E0%A6%87%E0%A6%A8%E0%A6%B9%E0%A7%87%E0%A6%B2%E0%A6%BE%E0%A6%B0-%E0%A6%95%E0%A6%BF%E0%A6%A8%E0%A6%A4%E0%A7%87%E0%A6%87-%E0%A6%AD%E0%A6%BE%E0%A6%A4%E0%A6%BE%E0%A6%B0-%E0%A7%AB%E0%A7%A6%E0%A7%A6-%E0%A6%9F%E0%A6%BE%E0%A6%95%E0%A6%BE-%E0%A6%B6%E0%A7%87%E0%A6%B7-%E0%A6%B6%E0%A6%BE%E0%A6%AE%E0%A6%B8%E0%A7%81%E0%A6%B2-%E0%A6%B9%E0%A7%81%E0%A6%A6%E0%A6%BE%E0%A6%B0-355336 on URL https://www.thedailystar.net/%E0%A6%AC%E0%A6%BE%E0%A6%A3%E0%A6%BF%E0%A6%9C%E0%A7%8D%E0%A6%AF/%E0%A6%AC%E0%A6%BE%E0%A6%9C%E0%A7%87%E0%A6%9F-%E0%A7%A8%E0%A7%A6%E0%A7%A8%E0%A7%A8-%E0%A7%A8%E0%A7%A9/%E0%A6%A6%E0%A7%81%E0%A6%9F%E0%A6%BF-%E0%A6%87%E0%A6%A8%E0%A6%B9%E0%A7%87%E0%A6%B2%E0%A6%BE%E0%A6%B0-%E0%A6%95%E0%A6%BF%E0%A6%A8%E0%A6%A4%E0%A7%87%E0%A6%87-%E0%A6%AD%E0%A6%BE%E0%A6%A4%E0%A6%BE%E0%A6%B0-%E0%A7%AB%E0%A7%A6%E0%A7%A6-%E0%A6%9F%E0%A6%BE%E0%A6%95%E0%A6%BE-%E0%A6%B6%E0%A7%87%E0%A6%B7-%E0%A6%B6%E0%A6%BE%E0%A6%AE%E0%A6%B8%E0%A7%81%E0%A6%B2-%E0%A6%B9%E0%A7%81%E0%A6%A6%E0%A6%BE%E0%A6%B0-355336\n"
     ]
    },
    {
     "name": "stderr",
     "output_type": "stream",
     "text": [
      " 54%|█████▍    | 386/709 [09:18<05:02,  1.07it/s]"
     ]
    },
    {
     "name": "stdout",
     "output_type": "stream",
     "text": [
      "Article `download()` failed with 404 Client Error: Not Found for url: https://www.thedailystar.net/%E0%A6%B8%E0%A6%82%E0%A6%AC%E0%A6%BE%E0%A6%A6/%E0%A6%AC%E0%A6%BF%E0%A6%B6%E0%A7%8D%E0%A6%AC/%E0%A6%9F%E0%A7%87%E0%A6%B8%E0%A6%B2%E0%A6%BE%E0%A6%B0-%E0%A7%A7%E0%A7%A6-%E0%A6%B6%E0%A6%A4%E0%A6%BE%E0%A6%82%E0%A6%B6-%E0%A6%AA%E0%A6%A6-%E0%A6%95%E0%A6%AE%E0%A6%BE%E0%A6%A4%E0%A7%87-%E0%A6%9A%E0%A6%BE%E0%A6%A8-%E0%A6%87%E0%A6%B2%E0%A6%A8-%E0%A6%AE%E0%A6%BE%E0%A6%B8%E0%A7%8D%E0%A6%95-355331 on URL https://www.thedailystar.net/%E0%A6%B8%E0%A6%82%E0%A6%AC%E0%A6%BE%E0%A6%A6/%E0%A6%AC%E0%A6%BF%E0%A6%B6%E0%A7%8D%E0%A6%AC/%E0%A6%9F%E0%A7%87%E0%A6%B8%E0%A6%B2%E0%A6%BE%E0%A6%B0-%E0%A7%A7%E0%A7%A6-%E0%A6%B6%E0%A6%A4%E0%A6%BE%E0%A6%82%E0%A6%B6-%E0%A6%AA%E0%A6%A6-%E0%A6%95%E0%A6%AE%E0%A6%BE%E0%A6%A4%E0%A7%87-%E0%A6%9A%E0%A6%BE%E0%A6%A8-%E0%A6%87%E0%A6%B2%E0%A6%A8-%E0%A6%AE%E0%A6%BE%E0%A6%B8%E0%A7%8D%E0%A6%95-355331\n"
     ]
    },
    {
     "name": "stderr",
     "output_type": "stream",
     "text": [
      " 55%|█████▍    | 387/709 [09:19<05:00,  1.07it/s]"
     ]
    },
    {
     "name": "stdout",
     "output_type": "stream",
     "text": [
      "Article `download()` failed with 404 Client Error: Not Found for url: https://www.thedailystar.net/%E0%A6%85%E0%A6%B0%E0%A7%8D%E0%A6%A5%E0%A6%A8%E0%A7%80%E0%A6%A4%E0%A6%BF/%E0%A6%AC%E0%A7%8D%E0%A6%AF%E0%A6%BE%E0%A6%82%E0%A6%95/%E0%A6%A1%E0%A6%BF%E0%A6%9C%E0%A6%BF%E0%A6%9F%E0%A6%BE%E0%A6%B2-%E0%A6%AA%E0%A6%A6%E0%A7%8D%E0%A6%A7%E0%A6%A4%E0%A6%BF%E0%A6%A4%E0%A7%87-%E0%A6%AE%E0%A6%BF%E0%A6%B2%E0%A6%AC%E0%A7%87-%E0%A7%AB%E0%A7%A6-%E0%A6%B9%E0%A6%BE%E0%A6%9C%E0%A6%BE%E0%A6%B0-%E0%A6%9F%E0%A6%BE%E0%A6%95%E0%A6%BE-%E0%A6%AA%E0%A6%B0%E0%A7%8D%E0%A6%AF%E0%A6%A8%E0%A7%8D%E0%A6%A4-%E0%A6%95%E0%A7%8D%E0%A6%B7%E0%A7%81%E0%A6%A6%E0%A7%8D%E0%A6%B0-%E0%A6%8B%E0%A6%A3-355126 on URL https://www.thedailystar.net/%E0%A6%85%E0%A6%B0%E0%A7%8D%E0%A6%A5%E0%A6%A8%E0%A7%80%E0%A6%A4%E0%A6%BF/%E0%A6%AC%E0%A7%8D%E0%A6%AF%E0%A6%BE%E0%A6%82%E0%A6%95/%E0%A6%A1%E0%A6%BF%E0%A6%9C%E0%A6%BF%E0%A6%9F%E0%A6%BE%E0%A6%B2-%E0%A6%AA%E0%A6%A6%E0%A7%8D%E0%A6%A7%E0%A6%A4%E0%A6%BF%E0%A6%A4%E0%A7%87-%E0%A6%AE%E0%A6%BF%E0%A6%B2%E0%A6%AC%E0%A7%87-%E0%A7%AB%E0%A7%A6-%E0%A6%B9%E0%A6%BE%E0%A6%9C%E0%A6%BE%E0%A6%B0-%E0%A6%9F%E0%A6%BE%E0%A6%95%E0%A6%BE-%E0%A6%AA%E0%A6%B0%E0%A7%8D%E0%A6%AF%E0%A6%A8%E0%A7%8D%E0%A6%A4-%E0%A6%95%E0%A7%8D%E0%A6%B7%E0%A7%81%E0%A6%A6%E0%A7%8D%E0%A6%B0-%E0%A6%8B%E0%A6%A3-355126\n"
     ]
    },
    {
     "name": "stderr",
     "output_type": "stream",
     "text": [
      " 55%|█████▍    | 388/709 [09:20<04:56,  1.08it/s]"
     ]
    },
    {
     "name": "stdout",
     "output_type": "stream",
     "text": [
      "Article `download()` failed with 404 Client Error: Not Found for url: https://www.thedailystar.net/%E0%A6%B8%E0%A6%82%E0%A6%AC%E0%A6%BE%E0%A6%A6/%E0%A6%AC%E0%A6%BE%E0%A6%82%E0%A6%B2%E0%A6%BE%E0%A6%A6%E0%A7%87%E0%A6%B6/%E0%A6%95%E0%A7%83%E0%A6%B7%E0%A6%BF/%E0%A6%9A%E0%A6%BE%E0%A7%9F%E0%A7%87%E0%A6%B0-%E0%A6%89%E0%A7%8E%E0%A6%AA%E0%A6%BE%E0%A6%A6%E0%A6%A8-%E0%A6%AC%E0%A6%BE%E0%A7%9C%E0%A6%B2%E0%A7%87%E0%A6%93-%E0%A6%B8%E0%A7%87%E0%A6%AD%E0%A6%BE%E0%A6%AC%E0%A7%87-%E0%A6%B0%E0%A6%AA%E0%A7%8D%E0%A6%A4%E0%A6%BE%E0%A6%A8%E0%A6%BF-%E0%A6%95%E0%A6%B0%E0%A6%BE-%E0%A6%AF%E0%A6%BE%E0%A6%9A%E0%A7%8D%E0%A6%9B%E0%A7%87-%E0%A6%A8%E0%A6%BE-%E0%A6%AC%E0%A6%BE%E0%A6%A3%E0%A6%BF%E0%A6%9C%E0%A7%8D%E0%A6%AF%E0%A6%AE%E0%A6%A8%E0%A7%8D%E0%A6%A4%E0%A7%8D%E0%A6%B0%E0%A7%80-355116 on URL https://www.thedailystar.net/%E0%A6%B8%E0%A6%82%E0%A6%AC%E0%A6%BE%E0%A6%A6/%E0%A6%AC%E0%A6%BE%E0%A6%82%E0%A6%B2%E0%A6%BE%E0%A6%A6%E0%A7%87%E0%A6%B6/%E0%A6%95%E0%A7%83%E0%A6%B7%E0%A6%BF/%E0%A6%9A%E0%A6%BE%E0%A7%9F%E0%A7%87%E0%A6%B0-%E0%A6%89%E0%A7%8E%E0%A6%AA%E0%A6%BE%E0%A6%A6%E0%A6%A8-%E0%A6%AC%E0%A6%BE%E0%A7%9C%E0%A6%B2%E0%A7%87%E0%A6%93-%E0%A6%B8%E0%A7%87%E0%A6%AD%E0%A6%BE%E0%A6%AC%E0%A7%87-%E0%A6%B0%E0%A6%AA%E0%A7%8D%E0%A6%A4%E0%A6%BE%E0%A6%A8%E0%A6%BF-%E0%A6%95%E0%A6%B0%E0%A6%BE-%E0%A6%AF%E0%A6%BE%E0%A6%9A%E0%A7%8D%E0%A6%9B%E0%A7%87-%E0%A6%A8%E0%A6%BE-%E0%A6%AC%E0%A6%BE%E0%A6%A3%E0%A6%BF%E0%A6%9C%E0%A7%8D%E0%A6%AF%E0%A6%AE%E0%A6%A8%E0%A7%8D%E0%A6%A4%E0%A7%8D%E0%A6%B0%E0%A7%80-355116\n"
     ]
    },
    {
     "name": "stderr",
     "output_type": "stream",
     "text": [
      " 55%|█████▍    | 389/709 [09:21<04:52,  1.09it/s]"
     ]
    },
    {
     "name": "stdout",
     "output_type": "stream",
     "text": [
      "Article `download()` failed with 404 Client Error: Not Found for url: https://www.thedailystar.net/%E0%A6%B8%E0%A6%82%E0%A6%AC%E0%A6%BE%E0%A6%A6/%E0%A6%AC%E0%A6%BE%E0%A6%82%E0%A6%B2%E0%A6%BE%E0%A6%A6%E0%A7%87%E0%A6%B6/%E0%A6%A6%E0%A7%81%E0%A6%B0%E0%A7%8D%E0%A6%98%E0%A6%9F%E0%A6%A8%E0%A6%BE-%E0%A6%85%E0%A6%97%E0%A7%8D%E0%A6%A8%E0%A6%BF%E0%A6%95%E0%A6%BE%E0%A6%A3%E0%A7%8D%E0%A6%A1/%E0%A6%B8%E0%A7%80%E0%A6%A4%E0%A6%BE%E0%A6%95%E0%A7%81%E0%A6%A3%E0%A7%8D%E0%A6%A1%E0%A7%87-%E0%A6%85%E0%A6%97%E0%A7%8D%E0%A6%A8%E0%A6%BF%E0%A6%95%E0%A6%BE%E0%A6%A3%E0%A7%8D%E0%A6%A1-%E0%A6%B6%E0%A7%8B%E0%A6%95%E0%A7%87-%E0%A6%B8%E0%A7%8D%E0%A6%A4%E0%A6%AC%E0%A7%8D%E0%A6%A7-%E0%A6%B6%E0%A7%8B%E0%A6%AC%E0%A6%BF%E0%A6%9C-356131 on URL https://www.thedailystar.net/%E0%A6%B8%E0%A6%82%E0%A6%AC%E0%A6%BE%E0%A6%A6/%E0%A6%AC%E0%A6%BE%E0%A6%82%E0%A6%B2%E0%A6%BE%E0%A6%A6%E0%A7%87%E0%A6%B6/%E0%A6%A6%E0%A7%81%E0%A6%B0%E0%A7%8D%E0%A6%98%E0%A6%9F%E0%A6%A8%E0%A6%BE-%E0%A6%85%E0%A6%97%E0%A7%8D%E0%A6%A8%E0%A6%BF%E0%A6%95%E0%A6%BE%E0%A6%A3%E0%A7%8D%E0%A6%A1/%E0%A6%B8%E0%A7%80%E0%A6%A4%E0%A6%BE%E0%A6%95%E0%A7%81%E0%A6%A3%E0%A7%8D%E0%A6%A1%E0%A7%87-%E0%A6%85%E0%A6%97%E0%A7%8D%E0%A6%A8%E0%A6%BF%E0%A6%95%E0%A6%BE%E0%A6%A3%E0%A7%8D%E0%A6%A1-%E0%A6%B6%E0%A7%8B%E0%A6%95%E0%A7%87-%E0%A6%B8%E0%A7%8D%E0%A6%A4%E0%A6%AC%E0%A7%8D%E0%A6%A7-%E0%A6%B6%E0%A7%8B%E0%A6%AC%E0%A6%BF%E0%A6%9C-356131\n"
     ]
    },
    {
     "name": "stderr",
     "output_type": "stream",
     "text": [
      " 55%|█████▌    | 390/709 [09:22<05:16,  1.01it/s]"
     ]
    },
    {
     "name": "stdout",
     "output_type": "stream",
     "text": [
      "Article `download()` failed with 404 Client Error: Not Found for url: https://www.thedailystar.net/%E0%A6%AC%E0%A6%BF%E0%A6%A8%E0%A7%8B%E0%A6%A6%E0%A6%A8/%E0%A6%9F%E0%A6%BF%E0%A6%AD%E0%A6%BF-%E0%A6%93-%E0%A6%B8%E0%A6%BF%E0%A6%A8%E0%A7%87%E0%A6%AE%E0%A6%BE/%E0%A6%AC%E0%A6%B2%E0%A6%BF%E0%A6%89%E0%A6%A1/%E0%A6%86%E0%A6%AC%E0%A6%BE%E0%A6%B0%E0%A6%93-%E0%A6%95%E0%A6%B0%E0%A7%8B%E0%A6%A8%E0%A6%BE%E0%A7%9F-%E0%A6%86%E0%A6%95%E0%A7%8D%E0%A6%B0%E0%A6%BE%E0%A6%A8%E0%A7%8D%E0%A6%A4-%E0%A6%95%E0%A6%BE%E0%A6%B0%E0%A7%8D%E0%A6%A4%E0%A6%BF%E0%A6%95-%E0%A6%86%E0%A6%B0%E0%A6%BF%E0%A7%9F%E0%A6%BE%E0%A6%A8-355741 on URL https://www.thedailystar.net/%E0%A6%AC%E0%A6%BF%E0%A6%A8%E0%A7%8B%E0%A6%A6%E0%A6%A8/%E0%A6%9F%E0%A6%BF%E0%A6%AD%E0%A6%BF-%E0%A6%93-%E0%A6%B8%E0%A6%BF%E0%A6%A8%E0%A7%87%E0%A6%AE%E0%A6%BE/%E0%A6%AC%E0%A6%B2%E0%A6%BF%E0%A6%89%E0%A6%A1/%E0%A6%86%E0%A6%AC%E0%A6%BE%E0%A6%B0%E0%A6%93-%E0%A6%95%E0%A6%B0%E0%A7%8B%E0%A6%A8%E0%A6%BE%E0%A7%9F-%E0%A6%86%E0%A6%95%E0%A7%8D%E0%A6%B0%E0%A6%BE%E0%A6%A8%E0%A7%8D%E0%A6%A4-%E0%A6%95%E0%A6%BE%E0%A6%B0%E0%A7%8D%E0%A6%A4%E0%A6%BF%E0%A6%95-%E0%A6%86%E0%A6%B0%E0%A6%BF%E0%A7%9F%E0%A6%BE%E0%A6%A8-355741\n"
     ]
    },
    {
     "name": "stderr",
     "output_type": "stream",
     "text": [
      " 55%|█████▌    | 391/709 [09:23<05:15,  1.01it/s]"
     ]
    },
    {
     "name": "stdout",
     "output_type": "stream",
     "text": [
      "Article `download()` failed with 404 Client Error: Not Found for url: https://www.thedailystar.net/%E0%A6%AC%E0%A6%BF%E0%A6%A8%E0%A7%8B%E0%A6%A6%E0%A6%A8/%E0%A6%9F%E0%A6%BF%E0%A6%AD%E0%A6%BF-%E0%A6%93-%E0%A6%B8%E0%A6%BF%E0%A6%A8%E0%A7%87%E0%A6%AE%E0%A6%BE/%E0%A6%B6%E0%A6%BE%E0%A6%B9%E0%A6%B0%E0%A7%81%E0%A6%96%E0%A7%87%E0%A6%B0-%E0%A6%9C%E0%A6%93%E0%A7%9F%E0%A6%BE%E0%A6%A8-%E0%A6%8F%E0%A6%B0-%E0%A6%9F%E0%A6%BF%E0%A6%9C%E0%A6%BE%E0%A6%B0-%E0%A6%A6%E0%A7%87%E0%A6%96%E0%A7%87-%E0%A6%AF%E0%A6%BE-%E0%A6%AC%E0%A6%B2%E0%A6%B2%E0%A7%87%E0%A6%A8-%E0%A6%B8%E0%A6%BE%E0%A6%B2%E0%A6%AE%E0%A6%BE%E0%A6%A8-355631 on URL https://www.thedailystar.net/%E0%A6%AC%E0%A6%BF%E0%A6%A8%E0%A7%8B%E0%A6%A6%E0%A6%A8/%E0%A6%9F%E0%A6%BF%E0%A6%AD%E0%A6%BF-%E0%A6%93-%E0%A6%B8%E0%A6%BF%E0%A6%A8%E0%A7%87%E0%A6%AE%E0%A6%BE/%E0%A6%B6%E0%A6%BE%E0%A6%B9%E0%A6%B0%E0%A7%81%E0%A6%96%E0%A7%87%E0%A6%B0-%E0%A6%9C%E0%A6%93%E0%A7%9F%E0%A6%BE%E0%A6%A8-%E0%A6%8F%E0%A6%B0-%E0%A6%9F%E0%A6%BF%E0%A6%9C%E0%A6%BE%E0%A6%B0-%E0%A6%A6%E0%A7%87%E0%A6%96%E0%A7%87-%E0%A6%AF%E0%A6%BE-%E0%A6%AC%E0%A6%B2%E0%A6%B2%E0%A7%87%E0%A6%A8-%E0%A6%B8%E0%A6%BE%E0%A6%B2%E0%A6%AE%E0%A6%BE%E0%A6%A8-355631\n"
     ]
    },
    {
     "name": "stderr",
     "output_type": "stream",
     "text": [
      " 55%|█████▌    | 392/709 [09:24<05:05,  1.04it/s]"
     ]
    },
    {
     "name": "stdout",
     "output_type": "stream",
     "text": [
      "Article `download()` failed with 404 Client Error: Not Found for url: https://www.thedailystar.net/%E0%A6%AC%E0%A6%BF%E0%A6%A8%E0%A7%8B%E0%A6%A6%E0%A6%A8/%E0%A6%B8%E0%A6%82%E0%A6%97%E0%A7%80%E0%A6%A4/%E0%A6%95%E0%A7%87%E0%A6%95%E0%A7%87%E0%A6%B0-%E0%A6%AA%E0%A6%B0%E0%A6%BF%E0%A6%AC%E0%A6%BE%E0%A6%B0%E0%A7%87%E0%A6%B0-%E0%A6%95%E0%A6%BE%E0%A6%9B%E0%A7%87-%E0%A6%95%E0%A7%8D%E0%A6%B7%E0%A6%AE%E0%A6%BE-%E0%A6%9A%E0%A6%BE%E0%A6%87%E0%A6%B2%E0%A7%87%E0%A6%A8-%E0%A6%B0%E0%A7%82%E0%A6%AA%E0%A6%99%E0%A7%8D%E0%A6%95%E0%A6%B0-355566 on URL https://www.thedailystar.net/%E0%A6%AC%E0%A6%BF%E0%A6%A8%E0%A7%8B%E0%A6%A6%E0%A6%A8/%E0%A6%B8%E0%A6%82%E0%A6%97%E0%A7%80%E0%A6%A4/%E0%A6%95%E0%A7%87%E0%A6%95%E0%A7%87%E0%A6%B0-%E0%A6%AA%E0%A6%B0%E0%A6%BF%E0%A6%AC%E0%A6%BE%E0%A6%B0%E0%A7%87%E0%A6%B0-%E0%A6%95%E0%A6%BE%E0%A6%9B%E0%A7%87-%E0%A6%95%E0%A7%8D%E0%A6%B7%E0%A6%AE%E0%A6%BE-%E0%A6%9A%E0%A6%BE%E0%A6%87%E0%A6%B2%E0%A7%87%E0%A6%A8-%E0%A6%B0%E0%A7%82%E0%A6%AA%E0%A6%99%E0%A7%8D%E0%A6%95%E0%A6%B0-355566\n"
     ]
    },
    {
     "name": "stderr",
     "output_type": "stream",
     "text": [
      " 55%|█████▌    | 393/709 [09:25<04:55,  1.07it/s]"
     ]
    },
    {
     "name": "stdout",
     "output_type": "stream",
     "text": [
      "Article `download()` failed with 404 Client Error: Not Found for url: https://www.thedailystar.net/%E0%A6%AC%E0%A6%BF%E0%A6%A8%E0%A7%8B%E0%A6%A6%E0%A6%A8/%E0%A6%9F%E0%A6%BF%E0%A6%AD%E0%A6%BF-%E0%A6%93-%E0%A6%B8%E0%A6%BF%E0%A6%A8%E0%A7%87%E0%A6%AE%E0%A6%BE/%E0%A6%8F%E0%A6%95%E0%A6%AC%E0%A6%9B%E0%A6%B0-%E0%A6%AA%E0%A6%B0-%E0%A6%B8%E0%A6%BF%E0%A6%A8%E0%A7%87%E0%A6%AE%E0%A6%BE%E0%A6%B0-%E0%A6%B6%E0%A7%81%E0%A6%9F%E0%A6%BF%E0%A6%82%E0%A7%9F%E0%A7%87-%E0%A6%AE%E0%A6%BE%E0%A6%B9%E0%A6%BF%E0%A7%9F%E0%A6%BE-%E0%A6%AE%E0%A6%BE%E0%A6%B9%E0%A6%BF-355516 on URL https://www.thedailystar.net/%E0%A6%AC%E0%A6%BF%E0%A6%A8%E0%A7%8B%E0%A6%A6%E0%A6%A8/%E0%A6%9F%E0%A6%BF%E0%A6%AD%E0%A6%BF-%E0%A6%93-%E0%A6%B8%E0%A6%BF%E0%A6%A8%E0%A7%87%E0%A6%AE%E0%A6%BE/%E0%A6%8F%E0%A6%95%E0%A6%AC%E0%A6%9B%E0%A6%B0-%E0%A6%AA%E0%A6%B0-%E0%A6%B8%E0%A6%BF%E0%A6%A8%E0%A7%87%E0%A6%AE%E0%A6%BE%E0%A6%B0-%E0%A6%B6%E0%A7%81%E0%A6%9F%E0%A6%BF%E0%A6%82%E0%A7%9F%E0%A7%87-%E0%A6%AE%E0%A6%BE%E0%A6%B9%E0%A6%BF%E0%A7%9F%E0%A6%BE-%E0%A6%AE%E0%A6%BE%E0%A6%B9%E0%A6%BF-355516\n"
     ]
    },
    {
     "name": "stderr",
     "output_type": "stream",
     "text": [
      " 56%|█████▌    | 394/709 [09:26<04:51,  1.08it/s]"
     ]
    },
    {
     "name": "stdout",
     "output_type": "stream",
     "text": [
      "Article `download()` failed with 404 Client Error: Not Found for url: https://www.thedailystar.net/%E0%A6%AC%E0%A6%BF%E0%A6%A8%E0%A7%8B%E0%A6%A6%E0%A6%A8/%E0%A6%B8%E0%A6%82%E0%A6%97%E0%A7%80%E0%A6%A4/%E0%A6%B6%E0%A6%BE%E0%A6%95%E0%A6%BF%E0%A6%B0%E0%A6%BE-%E0%A6%AA%E0%A6%BF%E0%A6%95%E0%A7%87%E0%A6%B0-%E0%A6%B8%E0%A6%AE%E0%A7%8D%E0%A6%AA%E0%A6%B0%E0%A7%8D%E0%A6%95%E0%A7%87-%E0%A6%AB%E0%A6%BE%E0%A6%9F%E0%A6%B2%E0%A7%87%E0%A6%B0-%E0%A6%97%E0%A7%81%E0%A6%9E%E0%A7%8D%E0%A6%9C%E0%A6%A8-355251 on URL https://www.thedailystar.net/%E0%A6%AC%E0%A6%BF%E0%A6%A8%E0%A7%8B%E0%A6%A6%E0%A6%A8/%E0%A6%B8%E0%A6%82%E0%A6%97%E0%A7%80%E0%A6%A4/%E0%A6%B6%E0%A6%BE%E0%A6%95%E0%A6%BF%E0%A6%B0%E0%A6%BE-%E0%A6%AA%E0%A6%BF%E0%A6%95%E0%A7%87%E0%A6%B0-%E0%A6%B8%E0%A6%AE%E0%A7%8D%E0%A6%AA%E0%A6%B0%E0%A7%8D%E0%A6%95%E0%A7%87-%E0%A6%AB%E0%A6%BE%E0%A6%9F%E0%A6%B2%E0%A7%87%E0%A6%B0-%E0%A6%97%E0%A7%81%E0%A6%9E%E0%A7%8D%E0%A6%9C%E0%A6%A8-355251\n"
     ]
    },
    {
     "name": "stderr",
     "output_type": "stream",
     "text": [
      " 56%|█████▌    | 395/709 [09:27<04:51,  1.08it/s]"
     ]
    },
    {
     "name": "stdout",
     "output_type": "stream",
     "text": [
      "Article `download()` failed with 404 Client Error: Not Found for url: https://www.thedailystar.net/%E0%A6%AC%E0%A6%BF%E0%A6%A8%E0%A7%8B%E0%A6%A6%E0%A6%A8/%E0%A6%9F%E0%A6%BF%E0%A6%AD%E0%A6%BF-%E0%A6%93-%E0%A6%B8%E0%A6%BF%E0%A6%A8%E0%A7%87%E0%A6%AE%E0%A6%BE/%E0%A6%9C%E0%A7%80%E0%A6%AC%E0%A6%A8%E0%A7%87%E0%A6%B0-%E0%A6%B6%E0%A7%8D%E0%A6%B0%E0%A7%87%E0%A6%B7%E0%A7%8D%E0%A6%A0-%E0%A6%B8%E0%A6%AE%E0%A7%9F-%E0%A6%AA%E0%A6%BE%E0%A6%B0-%E0%A6%95%E0%A6%B0%E0%A6%9B%E0%A6%BF-%E0%A6%B8%E0%A6%BF%E0%A7%9F%E0%A6%BE%E0%A6%AE-355211 on URL https://www.thedailystar.net/%E0%A6%AC%E0%A6%BF%E0%A6%A8%E0%A7%8B%E0%A6%A6%E0%A6%A8/%E0%A6%9F%E0%A6%BF%E0%A6%AD%E0%A6%BF-%E0%A6%93-%E0%A6%B8%E0%A6%BF%E0%A6%A8%E0%A7%87%E0%A6%AE%E0%A6%BE/%E0%A6%9C%E0%A7%80%E0%A6%AC%E0%A6%A8%E0%A7%87%E0%A6%B0-%E0%A6%B6%E0%A7%8D%E0%A6%B0%E0%A7%87%E0%A6%B7%E0%A7%8D%E0%A6%A0-%E0%A6%B8%E0%A6%AE%E0%A7%9F-%E0%A6%AA%E0%A6%BE%E0%A6%B0-%E0%A6%95%E0%A6%B0%E0%A6%9B%E0%A6%BF-%E0%A6%B8%E0%A6%BF%E0%A7%9F%E0%A6%BE%E0%A6%AE-355211\n"
     ]
    },
    {
     "name": "stderr",
     "output_type": "stream",
     "text": [
      " 56%|█████▌    | 396/709 [09:28<04:52,  1.07it/s]"
     ]
    },
    {
     "name": "stdout",
     "output_type": "stream",
     "text": [
      "Article `download()` failed with 404 Client Error: Not Found for url: https://www.thedailystar.net/%E0%A6%B8%E0%A6%82%E0%A6%B8%E0%A7%8D%E0%A6%95%E0%A7%83%E0%A6%A4%E0%A6%BF/%E0%A6%89%E0%A6%A6%E0%A7%80%E0%A6%9A%E0%A7%80%E0%A6%B0-%E0%A6%A8%E0%A6%A4%E0%A7%81%E0%A6%A8-%E0%A6%95%E0%A6%AE%E0%A6%BF%E0%A6%9F%E0%A6%BF-%E0%A6%B8%E0%A6%AD%E0%A6%BE%E0%A6%AA%E0%A6%A4%E0%A6%BF-%E0%A6%AC%E0%A6%A6%E0%A6%BF%E0%A6%89%E0%A6%B0-%E0%A6%B0%E0%A6%B9%E0%A6%AE%E0%A6%BE%E0%A6%A8-%E0%A6%B8%E0%A6%BE%E0%A6%A7%E0%A6%BE%E0%A6%B0%E0%A6%A3-%E0%A6%B8%E0%A6%AE%E0%A7%8D%E0%A6%AA%E0%A6%BE%E0%A6%A6%E0%A6%95-%E0%A6%85%E0%A6%AE%E0%A6%BF%E0%A6%A4-%E0%A6%B0%E0%A6%9E%E0%A7%8D%E0%A6%9C%E0%A6%A8-%E0%A6%A6%E0%A7%87-355686 on URL https://www.thedailystar.net/%E0%A6%B8%E0%A6%82%E0%A6%B8%E0%A7%8D%E0%A6%95%E0%A7%83%E0%A6%A4%E0%A6%BF/%E0%A6%89%E0%A6%A6%E0%A7%80%E0%A6%9A%E0%A7%80%E0%A6%B0-%E0%A6%A8%E0%A6%A4%E0%A7%81%E0%A6%A8-%E0%A6%95%E0%A6%AE%E0%A6%BF%E0%A6%9F%E0%A6%BF-%E0%A6%B8%E0%A6%AD%E0%A6%BE%E0%A6%AA%E0%A6%A4%E0%A6%BF-%E0%A6%AC%E0%A6%A6%E0%A6%BF%E0%A6%89%E0%A6%B0-%E0%A6%B0%E0%A6%B9%E0%A6%AE%E0%A6%BE%E0%A6%A8-%E0%A6%B8%E0%A6%BE%E0%A6%A7%E0%A6%BE%E0%A6%B0%E0%A6%A3-%E0%A6%B8%E0%A6%AE%E0%A7%8D%E0%A6%AA%E0%A6%BE%E0%A6%A6%E0%A6%95-%E0%A6%85%E0%A6%AE%E0%A6%BF%E0%A6%A4-%E0%A6%B0%E0%A6%9E%E0%A7%8D%E0%A6%9C%E0%A6%A8-%E0%A6%A6%E0%A7%87-355686\n"
     ]
    },
    {
     "name": "stderr",
     "output_type": "stream",
     "text": [
      " 56%|█████▌    | 397/709 [09:29<04:46,  1.09it/s]"
     ]
    },
    {
     "name": "stdout",
     "output_type": "stream",
     "text": [
      "Article `download()` failed with 404 Client Error: Not Found for url: https://www.thedailystar.net/%E0%A6%B8%E0%A6%82%E0%A6%B8%E0%A7%8D%E0%A6%95%E0%A7%83%E0%A6%A4%E0%A6%BF/%E0%A6%AC%E0%A6%87/%E0%A6%B8%E0%A6%BE%E0%A6%B9%E0%A6%BF%E0%A6%A4%E0%A7%8D%E0%A6%AF/%E0%A6%9B%E0%A6%BE%E0%A6%A4%E0%A7%8D%E0%A6%B0%E0%A6%B0%E0%A6%BE%E0%A6%9C%E0%A6%A8%E0%A7%80%E0%A6%A4%E0%A6%BF-%E0%A6%AA%E0%A6%B0%E0%A6%BF%E0%A6%AC%E0%A7%87%E0%A6%B6%E0%A6%95%E0%A7%87-%E0%A6%AC%E0%A6%BF%E0%A6%B7%E0%A6%BE%E0%A6%95%E0%A7%8D%E0%A6%A4-%E0%A6%95%E0%A6%B0%E0%A7%87-%E0%A6%A4%E0%A7%81%E0%A6%B2%E0%A6%9B%E0%A7%87-355606 on URL https://www.thedailystar.net/%E0%A6%B8%E0%A6%82%E0%A6%B8%E0%A7%8D%E0%A6%95%E0%A7%83%E0%A6%A4%E0%A6%BF/%E0%A6%AC%E0%A6%87/%E0%A6%B8%E0%A6%BE%E0%A6%B9%E0%A6%BF%E0%A6%A4%E0%A7%8D%E0%A6%AF/%E0%A6%9B%E0%A6%BE%E0%A6%A4%E0%A7%8D%E0%A6%B0%E0%A6%B0%E0%A6%BE%E0%A6%9C%E0%A6%A8%E0%A7%80%E0%A6%A4%E0%A6%BF-%E0%A6%AA%E0%A6%B0%E0%A6%BF%E0%A6%AC%E0%A7%87%E0%A6%B6%E0%A6%95%E0%A7%87-%E0%A6%AC%E0%A6%BF%E0%A6%B7%E0%A6%BE%E0%A6%95%E0%A7%8D%E0%A6%A4-%E0%A6%95%E0%A6%B0%E0%A7%87-%E0%A6%A4%E0%A7%81%E0%A6%B2%E0%A6%9B%E0%A7%87-355606\n"
     ]
    },
    {
     "name": "stderr",
     "output_type": "stream",
     "text": [
      " 56%|█████▌    | 398/709 [09:30<04:42,  1.10it/s]"
     ]
    },
    {
     "name": "stdout",
     "output_type": "stream",
     "text": [
      "Article `download()` failed with 404 Client Error: Not Found for url: https://www.thedailystar.net/%E0%A6%B8%E0%A6%82%E0%A6%B8%E0%A7%8D%E0%A6%95%E0%A7%83%E0%A6%A4%E0%A6%BF/%E0%A6%AC%E0%A6%87/%E0%A6%B8%E0%A6%BE%E0%A6%B9%E0%A6%BF%E0%A6%A4%E0%A7%8D%E0%A6%AF/%E0%A6%A8%E0%A6%BE%E0%A6%9C%E0%A6%BF%E0%A6%AE-%E0%A6%B9%E0%A6%BF%E0%A6%95%E0%A6%AE%E0%A6%A4-%E0%A6%95%E0%A6%AC%E0%A6%BF%E0%A6%A4%E0%A6%BE-%E0%A6%86%E0%A6%B0-%E0%A6%AC%E0%A6%BF%E0%A6%AA%E0%A7%8D%E0%A6%B2%E0%A6%AC-%E0%A6%AE%E0%A6%BF%E0%A6%B2%E0%A7%87%E0%A6%9B%E0%A7%87-%E0%A6%AF%E0%A7%87%E0%A6%96%E0%A6%BE%E0%A6%A8%E0%A7%87-355351 on URL https://www.thedailystar.net/%E0%A6%B8%E0%A6%82%E0%A6%B8%E0%A7%8D%E0%A6%95%E0%A7%83%E0%A6%A4%E0%A6%BF/%E0%A6%AC%E0%A6%87/%E0%A6%B8%E0%A6%BE%E0%A6%B9%E0%A6%BF%E0%A6%A4%E0%A7%8D%E0%A6%AF/%E0%A6%A8%E0%A6%BE%E0%A6%9C%E0%A6%BF%E0%A6%AE-%E0%A6%B9%E0%A6%BF%E0%A6%95%E0%A6%AE%E0%A6%A4-%E0%A6%95%E0%A6%AC%E0%A6%BF%E0%A6%A4%E0%A6%BE-%E0%A6%86%E0%A6%B0-%E0%A6%AC%E0%A6%BF%E0%A6%AA%E0%A7%8D%E0%A6%B2%E0%A6%AC-%E0%A6%AE%E0%A6%BF%E0%A6%B2%E0%A7%87%E0%A6%9B%E0%A7%87-%E0%A6%AF%E0%A7%87%E0%A6%96%E0%A6%BE%E0%A6%A8%E0%A7%87-355351\n"
     ]
    },
    {
     "name": "stderr",
     "output_type": "stream",
     "text": [
      " 56%|█████▋    | 399/709 [09:31<05:02,  1.03it/s]"
     ]
    },
    {
     "name": "stdout",
     "output_type": "stream",
     "text": [
      "Article `download()` failed with 404 Client Error: Not Found for url: https://www.thedailystar.net/%E0%A6%B8%E0%A7%8D%E0%A6%9F%E0%A6%BE%E0%A6%B0-%E0%A6%AE%E0%A6%BE%E0%A6%B2%E0%A7%8D%E0%A6%9F%E0%A6%BF%E0%A6%AE%E0%A6%BF%E0%A6%A1%E0%A6%BF%E0%A7%9F%E0%A6%BE/%E0%A6%B8%E0%A6%82%E0%A6%AC%E0%A6%BE%E0%A6%A6-%E0%A6%AE%E0%A6%BE%E0%A6%B2%E0%A7%8D%E0%A6%9F%E0%A6%BF%E0%A6%AE%E0%A6%BF%E0%A6%A1%E0%A6%BF%E0%A7%9F%E0%A6%BE/%E0%A6%AE%E0%A6%BE%E0%A6%B2%E0%A6%AF%E0%A6%BC%E0%A7%87%E0%A6%B6%E0%A6%BF%E0%A6%AF%E0%A6%BC%E0%A6%BE%E0%A6%AF%E0%A6%BC-%E0%A6%85%E0%A6%AD%E0%A6%BF%E0%A6%AC%E0%A6%BE%E0%A6%B8%E0%A6%A8-%E0%A6%A8%E0%A6%BF%E0%A7%9F%E0%A7%8B%E0%A6%97-%E0%A6%AA%E0%A7%8D%E0%A6%B0%E0%A6%95%E0%A7%8D%E0%A6%B0%E0%A6%BF%E0%A7%9F%E0%A6%BE%E0%A6%B0-%E0%A6%85%E0%A6%97%E0%A7%8D%E0%A6%B0%E0%A6%97%E0%A6%A4%E0%A6%BF-%E0%A6%95%E0%A7%80-355726 on URL https://www.thedailystar.net/%E0%A6%B8%E0%A7%8D%E0%A6%9F%E0%A6%BE%E0%A6%B0-%E0%A6%AE%E0%A6%BE%E0%A6%B2%E0%A7%8D%E0%A6%9F%E0%A6%BF%E0%A6%AE%E0%A6%BF%E0%A6%A1%E0%A6%BF%E0%A7%9F%E0%A6%BE/%E0%A6%B8%E0%A6%82%E0%A6%AC%E0%A6%BE%E0%A6%A6-%E0%A6%AE%E0%A6%BE%E0%A6%B2%E0%A7%8D%E0%A6%9F%E0%A6%BF%E0%A6%AE%E0%A6%BF%E0%A6%A1%E0%A6%BF%E0%A7%9F%E0%A6%BE/%E0%A6%AE%E0%A6%BE%E0%A6%B2%E0%A6%AF%E0%A6%BC%E0%A7%87%E0%A6%B6%E0%A6%BF%E0%A6%AF%E0%A6%BC%E0%A6%BE%E0%A6%AF%E0%A6%BC-%E0%A6%85%E0%A6%AD%E0%A6%BF%E0%A6%AC%E0%A6%BE%E0%A6%B8%E0%A6%A8-%E0%A6%A8%E0%A6%BF%E0%A7%9F%E0%A7%8B%E0%A6%97-%E0%A6%AA%E0%A7%8D%E0%A6%B0%E0%A6%95%E0%A7%8D%E0%A6%B0%E0%A6%BF%E0%A7%9F%E0%A6%BE%E0%A6%B0-%E0%A6%85%E0%A6%97%E0%A7%8D%E0%A6%B0%E0%A6%97%E0%A6%A4%E0%A6%BF-%E0%A6%95%E0%A7%80-355726\n"
     ]
    },
    {
     "name": "stderr",
     "output_type": "stream",
     "text": [
      " 56%|█████▋    | 400/709 [09:32<04:52,  1.06it/s]"
     ]
    },
    {
     "name": "stdout",
     "output_type": "stream",
     "text": [
      "Article `download()` failed with 404 Client Error: Not Found for url: https://www.thedailystar.net/%E0%A6%B8%E0%A7%8D%E0%A6%9F%E0%A6%BE%E0%A6%B0-%E0%A6%AE%E0%A6%BE%E0%A6%B2%E0%A7%8D%E0%A6%9F%E0%A6%BF%E0%A6%AE%E0%A6%BF%E0%A6%A1%E0%A6%BF%E0%A7%9F%E0%A6%BE/%E0%A6%B8%E0%A7%8C%E0%A6%A8%E0%A7%8D%E0%A6%A6%E0%A6%B0%E0%A7%8D%E0%A6%AF-%E0%A6%86%E0%A6%B0-%E0%A6%B8%E0%A6%AE%E0%A7%8D%E0%A6%AD%E0%A6%BE%E0%A6%AC%E0%A6%A8%E0%A6%BE%E0%A6%B0-%E0%A6%B8%E0%A7%81%E0%A6%AC%E0%A6%B0%E0%A7%8D%E0%A6%A3%E0%A6%9A%E0%A6%B0%E0%A7%87%E0%A6%B0-%E0%A6%B8%E0%A7%82%E0%A6%B0%E0%A7%8D%E0%A6%AF%E0%A6%AE%E0%A7%81%E0%A6%96%E0%A7%80-355466 on URL https://www.thedailystar.net/%E0%A6%B8%E0%A7%8D%E0%A6%9F%E0%A6%BE%E0%A6%B0-%E0%A6%AE%E0%A6%BE%E0%A6%B2%E0%A7%8D%E0%A6%9F%E0%A6%BF%E0%A6%AE%E0%A6%BF%E0%A6%A1%E0%A6%BF%E0%A7%9F%E0%A6%BE/%E0%A6%B8%E0%A7%8C%E0%A6%A8%E0%A7%8D%E0%A6%A6%E0%A6%B0%E0%A7%8D%E0%A6%AF-%E0%A6%86%E0%A6%B0-%E0%A6%B8%E0%A6%AE%E0%A7%8D%E0%A6%AD%E0%A6%BE%E0%A6%AC%E0%A6%A8%E0%A6%BE%E0%A6%B0-%E0%A6%B8%E0%A7%81%E0%A6%AC%E0%A6%B0%E0%A7%8D%E0%A6%A3%E0%A6%9A%E0%A6%B0%E0%A7%87%E0%A6%B0-%E0%A6%B8%E0%A7%82%E0%A6%B0%E0%A7%8D%E0%A6%AF%E0%A6%AE%E0%A7%81%E0%A6%96%E0%A7%80-355466\n"
     ]
    },
    {
     "name": "stderr",
     "output_type": "stream",
     "text": [
      " 57%|█████▋    | 401/709 [09:32<04:46,  1.07it/s]"
     ]
    },
    {
     "name": "stdout",
     "output_type": "stream",
     "text": [
      "Article `download()` failed with 404 Client Error: Not Found for url: https://www.thedailystar.net/%E0%A6%B8%E0%A7%8D%E0%A6%9F%E0%A6%BE%E0%A6%B0-%E0%A6%AE%E0%A6%BE%E0%A6%B2%E0%A7%8D%E0%A6%9F%E0%A6%BF%E0%A6%AE%E0%A6%BF%E0%A6%A1%E0%A6%BF%E0%A7%9F%E0%A6%BE/%E0%A6%B8%E0%A7%80%E0%A6%A4%E0%A6%BE%E0%A6%95%E0%A7%81%E0%A6%A3%E0%A7%8D%E0%A6%A1%E0%A7%87-%E0%A6%95%E0%A6%A8%E0%A6%9F%E0%A7%87%E0%A6%87%E0%A6%A8%E0%A6%BE%E0%A6%B0-%E0%A6%A1%E0%A6%BF%E0%A6%AA%E0%A7%8B%E0%A6%B0-%E0%A6%85%E0%A6%97%E0%A7%8D%E0%A6%A8%E0%A6%BF%E0%A6%95%E0%A6%BE%E0%A6%A3%E0%A7%8D%E0%A6%A1%E0%A7%87-%E0%A6%A8%E0%A6%BF%E0%A6%B9%E0%A6%A4-%E0%A7%AB-355806 on URL https://www.thedailystar.net/%E0%A6%B8%E0%A7%8D%E0%A6%9F%E0%A6%BE%E0%A6%B0-%E0%A6%AE%E0%A6%BE%E0%A6%B2%E0%A7%8D%E0%A6%9F%E0%A6%BF%E0%A6%AE%E0%A6%BF%E0%A6%A1%E0%A6%BF%E0%A7%9F%E0%A6%BE/%E0%A6%B8%E0%A7%80%E0%A6%A4%E0%A6%BE%E0%A6%95%E0%A7%81%E0%A6%A3%E0%A7%8D%E0%A6%A1%E0%A7%87-%E0%A6%95%E0%A6%A8%E0%A6%9F%E0%A7%87%E0%A6%87%E0%A6%A8%E0%A6%BE%E0%A6%B0-%E0%A6%A1%E0%A6%BF%E0%A6%AA%E0%A7%8B%E0%A6%B0-%E0%A6%85%E0%A6%97%E0%A7%8D%E0%A6%A8%E0%A6%BF%E0%A6%95%E0%A6%BE%E0%A6%A3%E0%A7%8D%E0%A6%A1%E0%A7%87-%E0%A6%A8%E0%A6%BF%E0%A6%B9%E0%A6%A4-%E0%A7%AB-355806\n"
     ]
    },
    {
     "name": "stderr",
     "output_type": "stream",
     "text": [
      " 57%|█████▋    | 402/709 [09:33<04:47,  1.07it/s]"
     ]
    },
    {
     "name": "stdout",
     "output_type": "stream",
     "text": [
      "Article `download()` failed with 404 Client Error: Not Found for url: https://www.thedailystar.net/%E0%A6%B8%E0%A7%8D%E0%A6%9F%E0%A6%BE%E0%A6%B0-%E0%A6%AE%E0%A6%BE%E0%A6%B2%E0%A7%8D%E0%A6%9F%E0%A6%BF%E0%A6%AE%E0%A6%BF%E0%A6%A1%E0%A6%BF%E0%A7%9F%E0%A6%BE/%E0%A6%9C%E0%A6%B2%E0%A7%87-%E0%A6%97%E0%A7%87%E0%A6%B2-%E0%A6%A8%E0%A6%A6%E0%A7%80-%E0%A6%96%E0%A6%BE%E0%A6%B2-%E0%A6%96%E0%A6%A8%E0%A6%A8%E0%A7%87%E0%A6%B0-%E0%A7%A8%E0%A7%A9-%E0%A6%95%E0%A7%8B%E0%A6%9F%E0%A6%BF-%E0%A6%9F%E0%A6%BE%E0%A6%95%E0%A6%BE-355401 on URL https://www.thedailystar.net/%E0%A6%B8%E0%A7%8D%E0%A6%9F%E0%A6%BE%E0%A6%B0-%E0%A6%AE%E0%A6%BE%E0%A6%B2%E0%A7%8D%E0%A6%9F%E0%A6%BF%E0%A6%AE%E0%A6%BF%E0%A6%A1%E0%A6%BF%E0%A7%9F%E0%A6%BE/%E0%A6%9C%E0%A6%B2%E0%A7%87-%E0%A6%97%E0%A7%87%E0%A6%B2-%E0%A6%A8%E0%A6%A6%E0%A7%80-%E0%A6%96%E0%A6%BE%E0%A6%B2-%E0%A6%96%E0%A6%A8%E0%A6%A8%E0%A7%87%E0%A6%B0-%E0%A7%A8%E0%A7%A9-%E0%A6%95%E0%A7%8B%E0%A6%9F%E0%A6%BF-%E0%A6%9F%E0%A6%BE%E0%A6%95%E0%A6%BE-355401\n"
     ]
    },
    {
     "name": "stderr",
     "output_type": "stream",
     "text": [
      " 57%|█████▋    | 403/709 [09:34<04:43,  1.08it/s]"
     ]
    },
    {
     "name": "stdout",
     "output_type": "stream",
     "text": [
      "Article `download()` failed with 404 Client Error: Not Found for url: https://www.thedailystar.net/%E0%A6%9C%E0%A7%80%E0%A6%AC%E0%A6%A8-%E0%A6%AF%E0%A6%BE%E0%A6%AA%E0%A6%A8/%E0%A6%96%E0%A6%BE%E0%A6%A6%E0%A7%8D%E0%A6%AF-%E0%A6%93-%E0%A6%B8%E0%A7%81%E0%A6%B8%E0%A7%8D%E0%A6%A5%E0%A6%A4%E0%A6%BE/%E0%A6%86%E0%A6%AE%E0%A7%87%E0%A6%B0-%E0%A6%A4%E0%A7%88%E0%A6%B0%E0%A6%BF-%E0%A6%9F%E0%A6%95-%E0%A6%9D%E0%A6%BE%E0%A6%B2-%E0%A6%AE%E0%A6%BF%E0%A6%B7%E0%A7%8D%E0%A6%9F%E0%A6%BF-%E0%A6%96%E0%A6%BE%E0%A6%AC%E0%A6%BE%E0%A6%B0-354746 on URL https://www.thedailystar.net/%E0%A6%9C%E0%A7%80%E0%A6%AC%E0%A6%A8-%E0%A6%AF%E0%A6%BE%E0%A6%AA%E0%A6%A8/%E0%A6%96%E0%A6%BE%E0%A6%A6%E0%A7%8D%E0%A6%AF-%E0%A6%93-%E0%A6%B8%E0%A7%81%E0%A6%B8%E0%A7%8D%E0%A6%A5%E0%A6%A4%E0%A6%BE/%E0%A6%86%E0%A6%AE%E0%A7%87%E0%A6%B0-%E0%A6%A4%E0%A7%88%E0%A6%B0%E0%A6%BF-%E0%A6%9F%E0%A6%95-%E0%A6%9D%E0%A6%BE%E0%A6%B2-%E0%A6%AE%E0%A6%BF%E0%A6%B7%E0%A7%8D%E0%A6%9F%E0%A6%BF-%E0%A6%96%E0%A6%BE%E0%A6%AC%E0%A6%BE%E0%A6%B0-354746\n"
     ]
    },
    {
     "name": "stderr",
     "output_type": "stream",
     "text": [
      " 57%|█████▋    | 404/709 [09:35<04:38,  1.10it/s]"
     ]
    },
    {
     "name": "stdout",
     "output_type": "stream",
     "text": [
      "Article `download()` failed with 404 Client Error: Not Found for url: https://www.thedailystar.net/%E0%A6%85%E0%A6%B0%E0%A7%8D%E0%A6%A5%E0%A6%A8%E0%A7%80%E0%A6%A4%E0%A6%BF/%E0%A6%AA%E0%A6%B0%E0%A7%8D%E0%A6%AF%E0%A6%9F%E0%A6%A8%E0%A7%87%E0%A6%B0-%E0%A6%AC%E0%A6%BF%E0%A6%95%E0%A6%BE%E0%A6%B6-%E0%A6%A8%E0%A6%BE-%E0%A6%B9%E0%A6%B2%E0%A7%87-%E0%A6%8F%E0%A6%B8%E0%A6%A1%E0%A6%BF%E0%A6%9C%E0%A6%BF-%E0%A6%85%E0%A6%B0%E0%A7%8D%E0%A6%9C%E0%A6%A8%E0%A6%93-%E0%A6%AC%E0%A6%BE%E0%A6%A7%E0%A6%BE%E0%A6%97%E0%A7%8D%E0%A6%B0%E0%A6%B8%E0%A7%8D%E0%A6%A4-%E0%A6%B9%E0%A6%AC%E0%A7%87-%E0%A6%8F%E0%A6%AB%E0%A6%AC%E0%A6%BF%E0%A6%B8%E0%A6%BF%E0%A6%B8%E0%A6%BF%E0%A6%86%E0%A6%87-%E0%A6%B8%E0%A6%AD%E0%A6%BE%E0%A7%9F-%E0%A6%AC%E0%A6%95%E0%A7%8D%E0%A6%A4%E0%A6%BE%E0%A6%B0%E0%A6%BE-351411 on URL https://www.thedailystar.net/%E0%A6%85%E0%A6%B0%E0%A7%8D%E0%A6%A5%E0%A6%A8%E0%A7%80%E0%A6%A4%E0%A6%BF/%E0%A6%AA%E0%A6%B0%E0%A7%8D%E0%A6%AF%E0%A6%9F%E0%A6%A8%E0%A7%87%E0%A6%B0-%E0%A6%AC%E0%A6%BF%E0%A6%95%E0%A6%BE%E0%A6%B6-%E0%A6%A8%E0%A6%BE-%E0%A6%B9%E0%A6%B2%E0%A7%87-%E0%A6%8F%E0%A6%B8%E0%A6%A1%E0%A6%BF%E0%A6%9C%E0%A6%BF-%E0%A6%85%E0%A6%B0%E0%A7%8D%E0%A6%9C%E0%A6%A8%E0%A6%93-%E0%A6%AC%E0%A6%BE%E0%A6%A7%E0%A6%BE%E0%A6%97%E0%A7%8D%E0%A6%B0%E0%A6%B8%E0%A7%8D%E0%A6%A4-%E0%A6%B9%E0%A6%AC%E0%A7%87-%E0%A6%8F%E0%A6%AB%E0%A6%AC%E0%A6%BF%E0%A6%B8%E0%A6%BF%E0%A6%B8%E0%A6%BF%E0%A6%86%E0%A6%87-%E0%A6%B8%E0%A6%AD%E0%A6%BE%E0%A7%9F-%E0%A6%AC%E0%A6%95%E0%A7%8D%E0%A6%A4%E0%A6%BE%E0%A6%B0%E0%A6%BE-351411\n"
     ]
    },
    {
     "name": "stderr",
     "output_type": "stream",
     "text": [
      " 57%|█████▋    | 405/709 [09:36<04:39,  1.09it/s]"
     ]
    },
    {
     "name": "stdout",
     "output_type": "stream",
     "text": [
      "Article `download()` failed with 404 Client Error: Not Found for url: https://www.thedailystar.net/%E0%A6%9C%E0%A7%80%E0%A6%AC%E0%A6%A8-%E0%A6%AF%E0%A6%BE%E0%A6%AA%E0%A6%A8/%E0%A6%AB%E0%A7%8D%E0%A6%AF%E0%A6%BE%E0%A6%B6%E0%A6%A8-%E0%A6%93-%E0%A6%B8%E0%A7%8C%E0%A6%A8%E0%A7%8D%E0%A6%A6%E0%A6%B0%E0%A7%8D%E0%A6%AF/%E0%A6%8F%E0%A6%B8%E0%A6%BF-%E0%A6%9B%E0%A6%BE%E0%A7%9C%E0%A6%BE%E0%A6%87-%E0%A6%98%E0%A6%B0-%E0%A6%B6%E0%A7%80%E0%A6%A4%E0%A6%B2-%E0%A6%B0%E0%A6%BE%E0%A6%96%E0%A6%BE%E0%A6%B0-%E0%A6%89%E0%A6%AA%E0%A6%BE%E0%A7%9F-351246 on URL https://www.thedailystar.net/%E0%A6%9C%E0%A7%80%E0%A6%AC%E0%A6%A8-%E0%A6%AF%E0%A6%BE%E0%A6%AA%E0%A6%A8/%E0%A6%AB%E0%A7%8D%E0%A6%AF%E0%A6%BE%E0%A6%B6%E0%A6%A8-%E0%A6%93-%E0%A6%B8%E0%A7%8C%E0%A6%A8%E0%A7%8D%E0%A6%A6%E0%A6%B0%E0%A7%8D%E0%A6%AF/%E0%A6%8F%E0%A6%B8%E0%A6%BF-%E0%A6%9B%E0%A6%BE%E0%A7%9C%E0%A6%BE%E0%A6%87-%E0%A6%98%E0%A6%B0-%E0%A6%B6%E0%A7%80%E0%A6%A4%E0%A6%B2-%E0%A6%B0%E0%A6%BE%E0%A6%96%E0%A6%BE%E0%A6%B0-%E0%A6%89%E0%A6%AA%E0%A6%BE%E0%A7%9F-351246\n"
     ]
    },
    {
     "name": "stderr",
     "output_type": "stream",
     "text": [
      " 57%|█████▋    | 406/709 [09:37<04:42,  1.07it/s]"
     ]
    },
    {
     "name": "stdout",
     "output_type": "stream",
     "text": [
      "Article `download()` failed with 404 Client Error: Not Found for url: https://www.thedailystar.net/%E0%A6%A4%E0%A6%BE%E0%A6%B0%E0%A7%81%E0%A6%A3%E0%A7%8D%E0%A6%AF/%E0%A6%B6%E0%A6%BF%E0%A6%95%E0%A7%8D%E0%A6%B7%E0%A6%BE/%E0%A6%9C%E0%A7%87%E0%A6%8F%E0%A6%B8%E0%A6%B8%E0%A6%BF-%E0%A6%9C%E0%A7%87%E0%A6%A1%E0%A6%BF%E0%A6%B8%E0%A6%BF-%E0%A6%AA%E0%A6%B0%E0%A7%80%E0%A6%95%E0%A7%8D%E0%A6%B7%E0%A6%BE-%E0%A6%B9%E0%A6%9A%E0%A7%8D%E0%A6%9B%E0%A7%87-%E0%A6%A8%E0%A6%BE-%E0%A6%B6%E0%A6%BF%E0%A6%95%E0%A7%8D%E0%A6%B7%E0%A6%BE-%E0%A6%AA%E0%A7%8D%E0%A6%B0%E0%A6%A4%E0%A6%BF%E0%A6%B7%E0%A7%8D%E0%A6%A0%E0%A6%BE%E0%A6%A8%E0%A7%87%E0%A6%87-%E0%A6%AE%E0%A7%82%E0%A6%B2%E0%A7%8D%E0%A6%AF%E0%A6%BE%E0%A7%9F%E0%A6%A8-%E0%A6%B6%E0%A6%BF%E0%A6%95%E0%A7%8D%E0%A6%B7%E0%A6%BE%E0%A6%AE%E0%A6%A8%E0%A7%8D%E0%A6%A4%E0%A7%8D%E0%A6%B0%E0%A7%80-355881 on URL https://www.thedailystar.net/%E0%A6%A4%E0%A6%BE%E0%A6%B0%E0%A7%81%E0%A6%A3%E0%A7%8D%E0%A6%AF/%E0%A6%B6%E0%A6%BF%E0%A6%95%E0%A7%8D%E0%A6%B7%E0%A6%BE/%E0%A6%9C%E0%A7%87%E0%A6%8F%E0%A6%B8%E0%A6%B8%E0%A6%BF-%E0%A6%9C%E0%A7%87%E0%A6%A1%E0%A6%BF%E0%A6%B8%E0%A6%BF-%E0%A6%AA%E0%A6%B0%E0%A7%80%E0%A6%95%E0%A7%8D%E0%A6%B7%E0%A6%BE-%E0%A6%B9%E0%A6%9A%E0%A7%8D%E0%A6%9B%E0%A7%87-%E0%A6%A8%E0%A6%BE-%E0%A6%B6%E0%A6%BF%E0%A6%95%E0%A7%8D%E0%A6%B7%E0%A6%BE-%E0%A6%AA%E0%A7%8D%E0%A6%B0%E0%A6%A4%E0%A6%BF%E0%A6%B7%E0%A7%8D%E0%A6%A0%E0%A6%BE%E0%A6%A8%E0%A7%87%E0%A6%87-%E0%A6%AE%E0%A7%82%E0%A6%B2%E0%A7%8D%E0%A6%AF%E0%A6%BE%E0%A7%9F%E0%A6%A8-%E0%A6%B6%E0%A6%BF%E0%A6%95%E0%A7%8D%E0%A6%B7%E0%A6%BE%E0%A6%AE%E0%A6%A8%E0%A7%8D%E0%A6%A4%E0%A7%8D%E0%A6%B0%E0%A7%80-355881\n"
     ]
    },
    {
     "name": "stderr",
     "output_type": "stream",
     "text": [
      " 57%|█████▋    | 407/709 [09:38<04:38,  1.08it/s]"
     ]
    },
    {
     "name": "stdout",
     "output_type": "stream",
     "text": [
      "Article `download()` failed with 404 Client Error: Not Found for url: https://www.thedailystar.net/%E0%A6%A4%E0%A6%BE%E0%A6%B0%E0%A7%81%E0%A6%A3%E0%A7%8D%E0%A6%AF/%E0%A6%B6%E0%A6%BF%E0%A6%95%E0%A7%8D%E0%A6%B7%E0%A6%BE/%E0%A6%9B%E0%A6%BE%E0%A6%A4%E0%A7%8D%E0%A6%B0-%E0%A6%B0%E0%A6%BE%E0%A6%9C%E0%A6%A8%E0%A7%80%E0%A6%A4%E0%A6%BF-%E0%A6%93-%E0%A6%85%E0%A6%A8%E0%A7%8D%E0%A6%AF%E0%A6%BE%E0%A6%A8%E0%A7%8D%E0%A6%AF/%E0%A6%AA%E0%A6%BE%E0%A6%B6%E0%A6%BE%E0%A6%AA%E0%A6%BE%E0%A6%B6%E0%A6%BF-%E0%A6%85%E0%A6%AC%E0%A6%B8%E0%A7%8D%E0%A6%A5%E0%A6%BE%E0%A6%A8%E0%A7%87-%E0%A6%A5%E0%A7%87%E0%A6%95%E0%A7%87-%E0%A6%A2%E0%A6%BE%E0%A6%AC%E0%A6%BF%E0%A6%A4%E0%A7%87-%E0%A6%AD%E0%A6%B0%E0%A7%8D%E0%A6%A4%E0%A6%BF%E0%A6%9A%E0%A7%8D%E0%A6%9B%E0%A7%81%E0%A6%A6%E0%A7%87%E0%A6%B0-%E0%A6%B6%E0%A7%81%E0%A6%AD%E0%A7%87%E0%A6%9A%E0%A7%8D%E0%A6%9B%E0%A6%BE-%E0%A6%9C%E0%A6%BE%E0%A6%A8%E0%A6%BE%E0%A6%B2 on URL https://www.thedailystar.net/%E0%A6%A4%E0%A6%BE%E0%A6%B0%E0%A7%81%E0%A6%A3%E0%A7%8D%E0%A6%AF/%E0%A6%B6%E0%A6%BF%E0%A6%95%E0%A7%8D%E0%A6%B7%E0%A6%BE/%E0%A6%9B%E0%A6%BE%E0%A6%A4%E0%A7%8D%E0%A6%B0-%E0%A6%B0%E0%A6%BE%E0%A6%9C%E0%A6%A8%E0%A7%80%E0%A6%A4%E0%A6%BF-%E0%A6%93-%E0%A6%85%E0%A6%A8%E0%A7%8D%E0%A6%AF%E0%A6%BE%E0%A6%A8%E0%A7%8D%E0%A6%AF/%E0%A6%AA%E0%A6%BE%E0%A6%B6%E0%A6%BE%E0%A6%AA%E0%A6%BE%E0%A6%B6%E0%A6%BF-%E0%A6%85%E0%A6%AC%E0%A6%B8%E0%A7%8D%E0%A6%A5%E0%A6%BE%E0%A6%A8%E0%A7%87-%E0%A6%A5%E0%A7%87%E0%A6%95%E0%A7%87-%E0%A6%A2%E0%A6%BE%E0%A6%AC%E0%A6%BF%E0%A6%A4%E0%A7%87-%E0%A6%AD%E0%A6%B0%E0%A7%8D%E0%A6%A4%E0%A6%BF%E0%A6%9A%E0%A7%8D%E0%A6%9B%E0%A7%81%E0%A6%A6%E0%A7%87%E0%A6%B0-%E0%A6%B6%E0%A7%81%E0%A6%AD%E0%A7%87%E0%A6%9A%E0%A7%8D%E0%A6%9B%E0%A6%BE-%E0%A6%9C%E0%A6%BE%E0%A6%A8%E0%A6%BE%E0%A6%B2\n"
     ]
    },
    {
     "name": "stderr",
     "output_type": "stream",
     "text": [
      " 58%|█████▊    | 408/709 [09:39<04:55,  1.02it/s]"
     ]
    },
    {
     "name": "stdout",
     "output_type": "stream",
     "text": [
      "Article `download()` failed with 404 Client Error: Not Found for url: https://www.thedailystar.net/%E0%A6%B8%E0%A6%82%E0%A6%AC%E0%A6%BE%E0%A6%A6/%E0%A6%AC%E0%A6%BF%E0%A6%9A%E0%A6%BF%E0%A6%A4%E0%A7%8D%E0%A6%B0/%E0%A6%AC%E0%A6%BE%E0%A6%A4%E0%A6%BE%E0%A6%B8-%E0%A6%A5%E0%A7%87%E0%A6%95%E0%A7%87-%E0%A6%96%E0%A6%BE%E0%A6%AC%E0%A6%BE%E0%A6%B0-%E0%A6%AA%E0%A6%BE%E0%A6%A8%E0%A6%BF-%E0%A6%B8%E0%A7%83%E0%A6%B7%E0%A7%8D%E0%A6%9F%E0%A6%BF%E0%A6%B0-%E0%A6%AF%E0%A6%A4-%E0%A6%9A%E0%A7%87%E0%A6%B7%E0%A7%8D%E0%A6%9F%E0%A6%BE-355246 on URL https://www.thedailystar.net/%E0%A6%B8%E0%A6%82%E0%A6%AC%E0%A6%BE%E0%A6%A6/%E0%A6%AC%E0%A6%BF%E0%A6%9A%E0%A6%BF%E0%A6%A4%E0%A7%8D%E0%A6%B0/%E0%A6%AC%E0%A6%BE%E0%A6%A4%E0%A6%BE%E0%A6%B8-%E0%A6%A5%E0%A7%87%E0%A6%95%E0%A7%87-%E0%A6%96%E0%A6%BE%E0%A6%AC%E0%A6%BE%E0%A6%B0-%E0%A6%AA%E0%A6%BE%E0%A6%A8%E0%A6%BF-%E0%A6%B8%E0%A7%83%E0%A6%B7%E0%A7%8D%E0%A6%9F%E0%A6%BF%E0%A6%B0-%E0%A6%AF%E0%A6%A4-%E0%A6%9A%E0%A7%87%E0%A6%B7%E0%A7%8D%E0%A6%9F%E0%A6%BE-355246\n"
     ]
    },
    {
     "name": "stderr",
     "output_type": "stream",
     "text": [
      " 58%|█████▊    | 409/709 [09:40<04:49,  1.04it/s]"
     ]
    },
    {
     "name": "stdout",
     "output_type": "stream",
     "text": [
      "Article `download()` failed with 404 Client Error: Not Found for url: https://www.thedailystar.net/%E0%A6%AA%E0%A7%8D%E0%A6%B0%E0%A6%AF%E0%A7%81%E0%A6%95%E0%A7%8D%E0%A6%A4%E0%A6%BF-%E0%A6%93-%E0%A6%B8%E0%A7%8D%E0%A6%9F%E0%A6%BE%E0%A6%B0%E0%A7%8D%E0%A6%9F%E0%A6%86%E0%A6%AA/%E0%A6%AC%E0%A6%BF%E0%A6%9C%E0%A7%8D%E0%A6%9E%E0%A6%BE%E0%A6%A8-%E0%A6%AA%E0%A7%8D%E0%A6%B0%E0%A6%AF%E0%A7%81%E0%A6%95%E0%A7%8D%E0%A6%A4%E0%A6%BF-%E0%A6%97%E0%A7%87%E0%A6%9C%E0%A7%87%E0%A6%9F%E0%A6%B8/%E0%A7%AA-%E0%A6%9F%E0%A7%87%E0%A6%B2%E0%A6%BF%E0%A6%95%E0%A6%AE-%E0%A6%85%E0%A6%AA%E0%A6%BE%E0%A6%B0%E0%A7%87%E0%A6%9F%E0%A6%B0%E0%A7%87-%E0%A7%AB-%E0%A6%B2%E0%A6%BE%E0%A6%96%E0%A7%87%E0%A6%B0-%E0%A6%AC%E0%A7%87%E0%A6%B6%E0%A6%BF-%E0%A6%AE%E0%A7%8D%E0%A6%AF%E0%A6%BE%E0%A6%B2%E0%A6%93%E0%A6%AF%E0%A6%BC%E0%A7%8D%E0%A6%AF%E0%A6%BE%E0%A6%B0-355241 on URL https://www.thedailystar.net/%E0%A6%AA%E0%A7%8D%E0%A6%B0%E0%A6%AF%E0%A7%81%E0%A6%95%E0%A7%8D%E0%A6%A4%E0%A6%BF-%E0%A6%93-%E0%A6%B8%E0%A7%8D%E0%A6%9F%E0%A6%BE%E0%A6%B0%E0%A7%8D%E0%A6%9F%E0%A6%86%E0%A6%AA/%E0%A6%AC%E0%A6%BF%E0%A6%9C%E0%A7%8D%E0%A6%9E%E0%A6%BE%E0%A6%A8-%E0%A6%AA%E0%A7%8D%E0%A6%B0%E0%A6%AF%E0%A7%81%E0%A6%95%E0%A7%8D%E0%A6%A4%E0%A6%BF-%E0%A6%97%E0%A7%87%E0%A6%9C%E0%A7%87%E0%A6%9F%E0%A6%B8/%E0%A7%AA-%E0%A6%9F%E0%A7%87%E0%A6%B2%E0%A6%BF%E0%A6%95%E0%A6%AE-%E0%A6%85%E0%A6%AA%E0%A6%BE%E0%A6%B0%E0%A7%87%E0%A6%9F%E0%A6%B0%E0%A7%87-%E0%A7%AB-%E0%A6%B2%E0%A6%BE%E0%A6%96%E0%A7%87%E0%A6%B0-%E0%A6%AC%E0%A7%87%E0%A6%B6%E0%A6%BF-%E0%A6%AE%E0%A7%8D%E0%A6%AF%E0%A6%BE%E0%A6%B2%E0%A6%93%E0%A6%AF%E0%A6%BC%E0%A7%8D%E0%A6%AF%E0%A6%BE%E0%A6%B0-355241\n"
     ]
    },
    {
     "name": "stderr",
     "output_type": "stream",
     "text": [
      " 58%|█████▊    | 410/709 [09:41<04:42,  1.06it/s]"
     ]
    },
    {
     "name": "stdout",
     "output_type": "stream",
     "text": [
      "Article `download()` failed with 404 Client Error: Not Found for url: https://www.thedailystar.net/%E0%A6%AA%E0%A7%8D%E0%A6%B0%E0%A6%AC%E0%A6%BE%E0%A6%B8%E0%A7%87/%E0%A6%95%E0%A6%BE%E0%A6%A8%E0%A6%BE%E0%A6%A1%E0%A6%BE%E0%A6%B0-%E0%A6%85%E0%A6%A8%E0%A7%8D%E0%A6%9F%E0%A6%BE%E0%A6%B0%E0%A6%BF%E0%A6%93%E0%A6%B0-%E0%A6%B8%E0%A6%82%E0%A6%B8%E0%A6%A6%E0%A7%87-%E0%A6%86%E0%A6%AC%E0%A6%BE%E0%A6%B0%E0%A7%8B-%E0%A6%A8%E0%A6%BF%E0%A6%B0%E0%A7%8D%E0%A6%AC%E0%A6%BE%E0%A6%9A%E0%A6%BF%E0%A6%A4-%E0%A6%AC%E0%A6%BE%E0%A6%82%E0%A6%B2%E0%A6%BE%E0%A6%A6%E0%A7%87%E0%A6%B6%E0%A6%BF-%E0%A6%A1%E0%A6%B2%E0%A6%BF-%E0%A6%AC%E0%A7%87%E0%A6%97%E0%A6%AE-356241 on URL https://www.thedailystar.net/%E0%A6%AA%E0%A7%8D%E0%A6%B0%E0%A6%AC%E0%A6%BE%E0%A6%B8%E0%A7%87/%E0%A6%95%E0%A6%BE%E0%A6%A8%E0%A6%BE%E0%A6%A1%E0%A6%BE%E0%A6%B0-%E0%A6%85%E0%A6%A8%E0%A7%8D%E0%A6%9F%E0%A6%BE%E0%A6%B0%E0%A6%BF%E0%A6%93%E0%A6%B0-%E0%A6%B8%E0%A6%82%E0%A6%B8%E0%A6%A6%E0%A7%87-%E0%A6%86%E0%A6%AC%E0%A6%BE%E0%A6%B0%E0%A7%8B-%E0%A6%A8%E0%A6%BF%E0%A6%B0%E0%A7%8D%E0%A6%AC%E0%A6%BE%E0%A6%9A%E0%A6%BF%E0%A6%A4-%E0%A6%AC%E0%A6%BE%E0%A6%82%E0%A6%B2%E0%A6%BE%E0%A6%A6%E0%A7%87%E0%A6%B6%E0%A6%BF-%E0%A6%A1%E0%A6%B2%E0%A6%BF-%E0%A6%AC%E0%A7%87%E0%A6%97%E0%A6%AE-356241\n"
     ]
    },
    {
     "name": "stderr",
     "output_type": "stream",
     "text": [
      " 58%|█████▊    | 411/709 [09:42<04:35,  1.08it/s]"
     ]
    },
    {
     "name": "stdout",
     "output_type": "stream",
     "text": [
      "Article `download()` failed with 404 Client Error: Not Found for url: https://www.thedailystar.net/%E0%A6%AA%E0%A7%8D%E0%A6%B0%E0%A6%AC%E0%A6%BE%E0%A6%B8%E0%A7%87/%E0%A6%86%E0%A6%B0%E0%A6%AC-%E0%A6%86%E0%A6%AE%E0%A6%BF%E0%A6%B0%E0%A6%BE%E0%A6%A4%E0%A7%87-%E0%A6%B2%E0%A6%9F%E0%A6%BE%E0%A6%B0%E0%A6%BF%E0%A6%A4%E0%A7%87-%E0%A6%AA%E0%A7%8D%E0%A6%B0%E0%A6%BE%E0%A7%9F-%E0%A7%AB%E0%A7%A6-%E0%A6%95%E0%A7%8B%E0%A6%9F%E0%A6%BF-%E0%A6%9F%E0%A6%BE%E0%A6%95%E0%A6%BE-%E0%A6%9C%E0%A6%BF%E0%A6%A4%E0%A6%B2%E0%A7%87%E0%A6%A8-%E0%A6%AC%E0%A6%BE%E0%A6%82%E0%A6%B2%E0%A6%BE%E0%A6%A6%E0%A7%87%E0%A6%B6%E0%A6%BF-%E0%A6%86%E0%A6%B0%E0%A6%BF%E0%A6%AB-355481 on URL https://www.thedailystar.net/%E0%A6%AA%E0%A7%8D%E0%A6%B0%E0%A6%AC%E0%A6%BE%E0%A6%B8%E0%A7%87/%E0%A6%86%E0%A6%B0%E0%A6%AC-%E0%A6%86%E0%A6%AE%E0%A6%BF%E0%A6%B0%E0%A6%BE%E0%A6%A4%E0%A7%87-%E0%A6%B2%E0%A6%9F%E0%A6%BE%E0%A6%B0%E0%A6%BF%E0%A6%A4%E0%A7%87-%E0%A6%AA%E0%A7%8D%E0%A6%B0%E0%A6%BE%E0%A7%9F-%E0%A7%AB%E0%A7%A6-%E0%A6%95%E0%A7%8B%E0%A6%9F%E0%A6%BF-%E0%A6%9F%E0%A6%BE%E0%A6%95%E0%A6%BE-%E0%A6%9C%E0%A6%BF%E0%A6%A4%E0%A6%B2%E0%A7%87%E0%A6%A8-%E0%A6%AC%E0%A6%BE%E0%A6%82%E0%A6%B2%E0%A6%BE%E0%A6%A6%E0%A7%87%E0%A6%B6%E0%A6%BF-%E0%A6%86%E0%A6%B0%E0%A6%BF%E0%A6%AB-355481\n"
     ]
    },
    {
     "name": "stderr",
     "output_type": "stream",
     "text": [
      " 58%|█████▊    | 412/709 [09:43<04:31,  1.09it/s]"
     ]
    },
    {
     "name": "stdout",
     "output_type": "stream",
     "text": [
      "Article `download()` failed with 404 Client Error: Not Found for url: https://www.thedailystar.net/%E0%A6%AA%E0%A7%8D%E0%A6%B0%E0%A6%AC%E0%A6%BE%E0%A6%B8%E0%A7%87/%C2%A0%E0%A6%AE%E0%A6%BE%E0%A6%B2%E0%A7%9F%E0%A7%87%E0%A6%B6%E0%A6%BF%E0%A7%9F%E0%A6%BE%E0%A7%9F-%E0%A6%85%E0%A6%AD%E0%A6%BF%E0%A6%AC%E0%A6%BE%E0%A6%B8%E0%A7%80-%E0%A6%95%E0%A6%B0%E0%A7%8D%E0%A6%AE%E0%A7%80%E0%A6%A6%E0%A7%87%E0%A6%B0-%E0%A6%AC%E0%A7%87%E0%A6%A4%E0%A6%A8-%E0%A6%95%E0%A6%BE%E0%A6%9F%E0%A6%B2%E0%A7%87-%E0%A6%A8%E0%A6%BF%E0%A6%AF%E0%A6%BC%E0%A7%8B%E0%A6%97%E0%A6%95%E0%A6%B0%E0%A7%8D%E0%A6%A4%E0%A6%BE%E0%A6%B0-%E0%A6%95%E0%A7%8B%E0%A6%9F%E0%A6%BE-%E0%A6%AC%E0%A6%BE%E0%A6%A4%E0%A6%BF%E0%A6%B2-355386 on URL https://www.thedailystar.net/%E0%A6%AA%E0%A7%8D%E0%A6%B0%E0%A6%AC%E0%A6%BE%E0%A6%B8%E0%A7%87/%C2%A0%E0%A6%AE%E0%A6%BE%E0%A6%B2%E0%A7%9F%E0%A7%87%E0%A6%B6%E0%A6%BF%E0%A7%9F%E0%A6%BE%E0%A7%9F-%E0%A6%85%E0%A6%AD%E0%A6%BF%E0%A6%AC%E0%A6%BE%E0%A6%B8%E0%A7%80-%E0%A6%95%E0%A6%B0%E0%A7%8D%E0%A6%AE%E0%A7%80%E0%A6%A6%E0%A7%87%E0%A6%B0-%E0%A6%AC%E0%A7%87%E0%A6%A4%E0%A6%A8-%E0%A6%95%E0%A6%BE%E0%A6%9F%E0%A6%B2%E0%A7%87-%E0%A6%A8%E0%A6%BF%E0%A6%AF%E0%A6%BC%E0%A7%8B%E0%A6%97%E0%A6%95%E0%A6%B0%E0%A7%8D%E0%A6%A4%E0%A6%BE%E0%A6%B0-%E0%A6%95%E0%A7%8B%E0%A6%9F%E0%A6%BE-%E0%A6%AC%E0%A6%BE%E0%A6%A4%E0%A6%BF%E0%A6%B2-355386\n"
     ]
    },
    {
     "name": "stderr",
     "output_type": "stream",
     "text": [
      " 58%|█████▊    | 413/709 [09:44<04:28,  1.10it/s]"
     ]
    },
    {
     "name": "stdout",
     "output_type": "stream",
     "text": [
      "Article `download()` failed with 404 Client Error: Not Found for url: https://www.thedailystar.net/%E0%A6%AA%E0%A6%B0%E0%A6%BF%E0%A6%AC%E0%A7%87%E0%A6%B6/%E0%A6%AA%E0%A7%8D%E0%A6%B0%E0%A6%BE%E0%A6%95%E0%A7%83%E0%A6%A4%E0%A6%BF%E0%A6%95-%E0%A6%B8%E0%A6%AE%E0%A7%8D%E0%A6%AA%E0%A6%A6/%E0%A6%AC%E0%A6%BF%E0%A6%A6%E0%A7%8D%E0%A6%AF%E0%A7%81%E0%A7%8E-%E0%A6%93-%E0%A6%9C%E0%A7%8D%E0%A6%AC%E0%A6%BE%E0%A6%B2%E0%A6%BE%E0%A6%A8%E0%A6%BF/%E0%A6%AA%E0%A6%B0%E0%A6%BF%E0%A6%AC%E0%A6%B9%E0%A6%A8-%E0%A6%96%E0%A6%BE%E0%A6%A4%E0%A7%87-%E0%A6%A8%E0%A7%88%E0%A6%B0%E0%A6%BE%E0%A6%9C%E0%A7%8D%E0%A6%AF-%E0%A6%A0%E0%A7%87%E0%A6%95%E0%A6%BE%E0%A6%A4%E0%A7%87-%E0%A6%B8%E0%A6%BF%E0%A6%8F%E0%A6%A8%E0%A6%9C%E0%A6%BF%E0%A6%B0-%E0%A6%A6%E0%A6%BE%E0%A6%AE-%E0%A6%AC%E0%A6%BE%E0%A7%9C%E0%A6%BE%E0%A6%A8%E0%A7%8B-%E0%A6%B9%E0%A7%9F%E0%A6%A8%E0%A6%BF-%E0%A6%AC%E0%A6%BF%E0%A6%87%E0%A6%86%E0%A6%B0%E0%A6%B8%E0%A6%BF on URL https://www.thedailystar.net/%E0%A6%AA%E0%A6%B0%E0%A6%BF%E0%A6%AC%E0%A7%87%E0%A6%B6/%E0%A6%AA%E0%A7%8D%E0%A6%B0%E0%A6%BE%E0%A6%95%E0%A7%83%E0%A6%A4%E0%A6%BF%E0%A6%95-%E0%A6%B8%E0%A6%AE%E0%A7%8D%E0%A6%AA%E0%A6%A6/%E0%A6%AC%E0%A6%BF%E0%A6%A6%E0%A7%8D%E0%A6%AF%E0%A7%81%E0%A7%8E-%E0%A6%93-%E0%A6%9C%E0%A7%8D%E0%A6%AC%E0%A6%BE%E0%A6%B2%E0%A6%BE%E0%A6%A8%E0%A6%BF/%E0%A6%AA%E0%A6%B0%E0%A6%BF%E0%A6%AC%E0%A6%B9%E0%A6%A8-%E0%A6%96%E0%A6%BE%E0%A6%A4%E0%A7%87-%E0%A6%A8%E0%A7%88%E0%A6%B0%E0%A6%BE%E0%A6%9C%E0%A7%8D%E0%A6%AF-%E0%A6%A0%E0%A7%87%E0%A6%95%E0%A6%BE%E0%A6%A4%E0%A7%87-%E0%A6%B8%E0%A6%BF%E0%A6%8F%E0%A6%A8%E0%A6%9C%E0%A6%BF%E0%A6%B0-%E0%A6%A6%E0%A6%BE%E0%A6%AE-%E0%A6%AC%E0%A6%BE%E0%A7%9C%E0%A6%BE%E0%A6%A8%E0%A7%8B-%E0%A6%B9%E0%A7%9F%E0%A6%A8%E0%A6%BF-%E0%A6%AC%E0%A6%BF%E0%A6%87%E0%A6%86%E0%A6%B0%E0%A6%B8%E0%A6%BF\n"
     ]
    },
    {
     "name": "stderr",
     "output_type": "stream",
     "text": [
      " 58%|█████▊    | 414/709 [09:45<04:28,  1.10it/s]"
     ]
    },
    {
     "name": "stdout",
     "output_type": "stream",
     "text": [
      "Article `download()` failed with 404 Client Error: Not Found for url: https://www.thedailystar.net/%E0%A6%AA%E0%A6%B0%E0%A6%BF%E0%A6%AC%E0%A7%87%E0%A6%B6/%E0%A6%AA%E0%A7%8D%E0%A6%B0%E0%A6%BE%E0%A6%95%E0%A7%83%E0%A6%A4%E0%A6%BF%E0%A6%95-%E0%A6%B8%E0%A6%AE%E0%A7%8D%E0%A6%AA%E0%A6%A6/%E0%A6%AC%E0%A6%BF%E0%A6%A6%E0%A7%8D%E0%A6%AF%E0%A7%81%E0%A7%8E-%E0%A6%93-%E0%A6%9C%E0%A7%8D%E0%A6%AC%E0%A6%BE%E0%A6%B2%E0%A6%BE%E0%A6%A8%E0%A6%BF/%E0%A6%AD%E0%A7%81%E0%A6%95%E0%A7%8D%E0%A6%A4%E0%A6%AD%E0%A7%8B%E0%A6%97%E0%A7%80-%E0%A6%97%E0%A7%8D%E0%A6%AF%E0%A6%BE%E0%A6%B8%E0%A7%87%E0%A6%B0-%E0%A6%AA%E0%A7%8D%E0%A6%B0%E0%A6%BF%E0%A6%AA%E0%A7%87%E0%A6%87%E0%A6%A1-%E0%A6%AE%E0%A6%BF%E0%A6%9F%E0%A6%BE%E0%A6%B0%E0%A7%87%E0%A6%B0-%E0%A6%97%E0%A7%8D%E0%A6%B0%E0%A6%BE%E0%A6%B9%E0%A6%95-356101 on URL https://www.thedailystar.net/%E0%A6%AA%E0%A6%B0%E0%A6%BF%E0%A6%AC%E0%A7%87%E0%A6%B6/%E0%A6%AA%E0%A7%8D%E0%A6%B0%E0%A6%BE%E0%A6%95%E0%A7%83%E0%A6%A4%E0%A6%BF%E0%A6%95-%E0%A6%B8%E0%A6%AE%E0%A7%8D%E0%A6%AA%E0%A6%A6/%E0%A6%AC%E0%A6%BF%E0%A6%A6%E0%A7%8D%E0%A6%AF%E0%A7%81%E0%A7%8E-%E0%A6%93-%E0%A6%9C%E0%A7%8D%E0%A6%AC%E0%A6%BE%E0%A6%B2%E0%A6%BE%E0%A6%A8%E0%A6%BF/%E0%A6%AD%E0%A7%81%E0%A6%95%E0%A7%8D%E0%A6%A4%E0%A6%AD%E0%A7%8B%E0%A6%97%E0%A7%80-%E0%A6%97%E0%A7%8D%E0%A6%AF%E0%A6%BE%E0%A6%B8%E0%A7%87%E0%A6%B0-%E0%A6%AA%E0%A7%8D%E0%A6%B0%E0%A6%BF%E0%A6%AA%E0%A7%87%E0%A6%87%E0%A6%A1-%E0%A6%AE%E0%A6%BF%E0%A6%9F%E0%A6%BE%E0%A6%B0%E0%A7%87%E0%A6%B0-%E0%A6%97%E0%A7%8D%E0%A6%B0%E0%A6%BE%E0%A6%B9%E0%A6%95-356101\n"
     ]
    },
    {
     "name": "stderr",
     "output_type": "stream",
     "text": [
      " 59%|█████▊    | 415/709 [09:45<04:28,  1.10it/s]"
     ]
    },
    {
     "name": "stdout",
     "output_type": "stream",
     "text": [
      "Article `download()` failed with 404 Client Error: Not Found for url: https://www.thedailystar.net/%E0%A6%AA%E0%A6%B0%E0%A6%BF%E0%A6%AC%E0%A7%87%E0%A6%B6/%E0%A6%AA%E0%A7%8D%E0%A6%B0%E0%A6%BE%E0%A6%95%E0%A7%83%E0%A6%A4%E0%A6%BF%E0%A6%95-%E0%A6%B8%E0%A6%AE%E0%A7%8D%E0%A6%AA%E0%A6%A6/%E0%A6%AC%E0%A6%BF%E0%A6%A6%E0%A7%8D%E0%A6%AF%E0%A7%81%E0%A7%8E-%E0%A6%93-%E0%A6%9C%E0%A7%8D%E0%A6%AC%E0%A6%BE%E0%A6%B2%E0%A6%BE%E0%A6%A8%E0%A6%BF/%E0%A6%B8%E0%A6%BE%E0%A6%B0-%E0%A6%95%E0%A6%BE%E0%A6%B0%E0%A6%96%E0%A6%BE%E0%A6%A8%E0%A6%BE%E0%A7%9F-%E0%A6%97%E0%A7%8D%E0%A6%AF%E0%A6%BE%E0%A6%B8%E0%A7%87%E0%A6%B0-%E0%A6%A6%E0%A6%BE%E0%A6%AE-%E0%A6%AC%E0%A7%87%E0%A7%9C%E0%A7%87%E0%A6%9B%E0%A7%87-%E0%A7%A8%E0%A7%AC%E0%A7%A6-%E0%A6%B6%E0%A6%A4%E0%A6%BE%E0%A6%82%E0%A6%B6-356076 on URL https://www.thedailystar.net/%E0%A6%AA%E0%A6%B0%E0%A6%BF%E0%A6%AC%E0%A7%87%E0%A6%B6/%E0%A6%AA%E0%A7%8D%E0%A6%B0%E0%A6%BE%E0%A6%95%E0%A7%83%E0%A6%A4%E0%A6%BF%E0%A6%95-%E0%A6%B8%E0%A6%AE%E0%A7%8D%E0%A6%AA%E0%A6%A6/%E0%A6%AC%E0%A6%BF%E0%A6%A6%E0%A7%8D%E0%A6%AF%E0%A7%81%E0%A7%8E-%E0%A6%93-%E0%A6%9C%E0%A7%8D%E0%A6%AC%E0%A6%BE%E0%A6%B2%E0%A6%BE%E0%A6%A8%E0%A6%BF/%E0%A6%B8%E0%A6%BE%E0%A6%B0-%E0%A6%95%E0%A6%BE%E0%A6%B0%E0%A6%96%E0%A6%BE%E0%A6%A8%E0%A6%BE%E0%A7%9F-%E0%A6%97%E0%A7%8D%E0%A6%AF%E0%A6%BE%E0%A6%B8%E0%A7%87%E0%A6%B0-%E0%A6%A6%E0%A6%BE%E0%A6%AE-%E0%A6%AC%E0%A7%87%E0%A7%9C%E0%A7%87%E0%A6%9B%E0%A7%87-%E0%A7%A8%E0%A7%AC%E0%A7%A6-%E0%A6%B6%E0%A6%A4%E0%A6%BE%E0%A6%82%E0%A6%B6-356076\n"
     ]
    },
    {
     "name": "stderr",
     "output_type": "stream",
     "text": [
      " 59%|█████▊    | 416/709 [09:46<04:24,  1.11it/s]"
     ]
    },
    {
     "name": "stdout",
     "output_type": "stream",
     "text": [
      "Article `download()` failed with 404 Client Error: Not Found for url: https://www.thedailystar.net/%E0%A6%AA%E0%A6%B0%E0%A6%BF%E0%A6%AC%E0%A7%87%E0%A6%B6/%E0%A6%AA%E0%A7%8D%E0%A6%B0%E0%A6%BE%E0%A6%95%E0%A7%83%E0%A6%A4%E0%A6%BF%E0%A6%95-%E0%A6%B8%E0%A6%AE%E0%A7%8D%E0%A6%AA%E0%A6%A6/%E0%A6%AC%E0%A6%BF%E0%A6%A6%E0%A7%8D%E0%A6%AF%E0%A7%81%E0%A7%8E-%E0%A6%93-%E0%A6%9C%E0%A7%8D%E0%A6%AC%E0%A6%BE%E0%A6%B2%E0%A6%BE%E0%A6%A8%E0%A6%BF/%E0%A7%A8-%E0%A6%9A%E0%A7%81%E0%A6%B2%E0%A6%BE%E0%A6%B0-%E0%A6%97%E0%A7%8D%E0%A6%AF%E0%A6%BE%E0%A6%B8%E0%A7%87%E0%A6%B0-%E0%A6%A6%E0%A6%BE%E0%A6%AE-%E0%A6%AC%E0%A7%87%E0%A7%9C%E0%A7%87-%E0%A7%A7%E0%A7%A6%E0%A7%AE%E0%A7%A6-%E0%A6%9F%E0%A6%BE%E0%A6%95%E0%A6%BE-356026 on URL https://www.thedailystar.net/%E0%A6%AA%E0%A6%B0%E0%A6%BF%E0%A6%AC%E0%A7%87%E0%A6%B6/%E0%A6%AA%E0%A7%8D%E0%A6%B0%E0%A6%BE%E0%A6%95%E0%A7%83%E0%A6%A4%E0%A6%BF%E0%A6%95-%E0%A6%B8%E0%A6%AE%E0%A7%8D%E0%A6%AA%E0%A6%A6/%E0%A6%AC%E0%A6%BF%E0%A6%A6%E0%A7%8D%E0%A6%AF%E0%A7%81%E0%A7%8E-%E0%A6%93-%E0%A6%9C%E0%A7%8D%E0%A6%AC%E0%A6%BE%E0%A6%B2%E0%A6%BE%E0%A6%A8%E0%A6%BF/%E0%A7%A8-%E0%A6%9A%E0%A7%81%E0%A6%B2%E0%A6%BE%E0%A6%B0-%E0%A6%97%E0%A7%8D%E0%A6%AF%E0%A6%BE%E0%A6%B8%E0%A7%87%E0%A6%B0-%E0%A6%A6%E0%A6%BE%E0%A6%AE-%E0%A6%AC%E0%A7%87%E0%A7%9C%E0%A7%87-%E0%A7%A7%E0%A7%A6%E0%A7%AE%E0%A7%A6-%E0%A6%9F%E0%A6%BE%E0%A6%95%E0%A6%BE-356026\n"
     ]
    },
    {
     "name": "stderr",
     "output_type": "stream",
     "text": [
      " 59%|█████▉    | 417/709 [09:47<04:23,  1.11it/s]"
     ]
    },
    {
     "name": "stdout",
     "output_type": "stream",
     "text": [
      "Article `download()` failed with 404 Client Error: Not Found for url: https://www.thedailystar.net/%E0%A6%AA%E0%A6%B0%E0%A6%BF%E0%A6%AC%E0%A7%87%E0%A6%B6/%E0%A6%9C%E0%A6%B2%E0%A6%AC%E0%A6%BE%E0%A7%9F%E0%A7%81-%E0%A6%AA%E0%A6%B0%E0%A6%BF%E0%A6%AC%E0%A6%B0%E0%A7%8D%E0%A6%A4%E0%A6%A8/%E0%A6%AC%E0%A6%BF%E0%A6%B6%E0%A7%8D%E0%A6%AC%E0%A6%95%E0%A7%87-%E0%A6%9C%E0%A6%B2%E0%A6%AC%E0%A6%BE%E0%A7%9F%E0%A7%81-%E0%A6%89%E0%A6%A6%E0%A7%8D%E0%A6%AC%E0%A6%BE%E0%A6%B8%E0%A7%8D%E0%A6%A4%E0%A7%81%E0%A6%A6%E0%A7%87%E0%A6%B0-%E0%A6%A6%E0%A6%BE%E0%A7%9F%E0%A6%BF%E0%A6%A4%E0%A7%8D%E0%A6%AC-%E0%A6%A8%E0%A6%BF%E0%A6%A4%E0%A7%87-%E0%A6%B9%E0%A6%AC%E0%A7%87-%E0%A6%AA%E0%A6%B0%E0%A6%B0%E0%A6%BE%E0%A6%B7%E0%A7%8D%E0%A6%9F%E0%A7%8D%E0%A6%B0%E0%A6%AE%E0%A6%A8%E0%A7%8D%E0%A6%A4%E0%A7%8D%E0%A6%B0%E0%A7%80-355711 on URL https://www.thedailystar.net/%E0%A6%AA%E0%A6%B0%E0%A6%BF%E0%A6%AC%E0%A7%87%E0%A6%B6/%E0%A6%9C%E0%A6%B2%E0%A6%AC%E0%A6%BE%E0%A7%9F%E0%A7%81-%E0%A6%AA%E0%A6%B0%E0%A6%BF%E0%A6%AC%E0%A6%B0%E0%A7%8D%E0%A6%A4%E0%A6%A8/%E0%A6%AC%E0%A6%BF%E0%A6%B6%E0%A7%8D%E0%A6%AC%E0%A6%95%E0%A7%87-%E0%A6%9C%E0%A6%B2%E0%A6%AC%E0%A6%BE%E0%A7%9F%E0%A7%81-%E0%A6%89%E0%A6%A6%E0%A7%8D%E0%A6%AC%E0%A6%BE%E0%A6%B8%E0%A7%8D%E0%A6%A4%E0%A7%81%E0%A6%A6%E0%A7%87%E0%A6%B0-%E0%A6%A6%E0%A6%BE%E0%A7%9F%E0%A6%BF%E0%A6%A4%E0%A7%8D%E0%A6%AC-%E0%A6%A8%E0%A6%BF%E0%A6%A4%E0%A7%87-%E0%A6%B9%E0%A6%AC%E0%A7%87-%E0%A6%AA%E0%A6%B0%E0%A6%B0%E0%A6%BE%E0%A6%B7%E0%A7%8D%E0%A6%9F%E0%A7%8D%E0%A6%B0%E0%A6%AE%E0%A6%A8%E0%A7%8D%E0%A6%A4%E0%A7%8D%E0%A6%B0%E0%A7%80-355711\n"
     ]
    },
    {
     "name": "stderr",
     "output_type": "stream",
     "text": [
      " 59%|█████▉    | 418/709 [09:48<04:21,  1.11it/s]"
     ]
    },
    {
     "name": "stdout",
     "output_type": "stream",
     "text": [
      "Article `download()` failed with 404 Client Error: Not Found for url: https://www.thedailystar.net/%E0%A6%AA%E0%A6%B0%E0%A6%BF%E0%A6%AC%E0%A7%87%E0%A6%B6/%E0%A6%AA%E0%A7%8D%E0%A6%B0%E0%A6%BE%E0%A6%95%E0%A7%83%E0%A6%A4%E0%A6%BF%E0%A6%95-%E0%A6%B8%E0%A6%AE%E0%A7%8D%E0%A6%AA%E0%A6%A6/%E0%A6%AC%E0%A6%BF%E0%A6%A6%E0%A7%8D%E0%A6%AF%E0%A7%81%E0%A7%8E-%E0%A6%93-%E0%A6%9C%E0%A7%8D%E0%A6%AC%E0%A6%BE%E0%A6%B2%E0%A6%BE%E0%A6%A8%E0%A6%BF/%E0%A6%95%E0%A6%BE%E0%A6%B2-%E0%A6%9C%E0%A6%BE%E0%A6%A8%E0%A6%BE-%E0%A6%AF%E0%A6%BE%E0%A6%AC%E0%A7%87-%E0%A6%97%E0%A7%8D%E0%A6%AF%E0%A6%BE%E0%A6%B8%E0%A7%87%E0%A6%B0-%E0%A6%A8%E0%A6%A4%E0%A7%81%E0%A6%A8-%E0%A6%A6%E0%A6%BE%E0%A6%AE-355666 on URL https://www.thedailystar.net/%E0%A6%AA%E0%A6%B0%E0%A6%BF%E0%A6%AC%E0%A7%87%E0%A6%B6/%E0%A6%AA%E0%A7%8D%E0%A6%B0%E0%A6%BE%E0%A6%95%E0%A7%83%E0%A6%A4%E0%A6%BF%E0%A6%95-%E0%A6%B8%E0%A6%AE%E0%A7%8D%E0%A6%AA%E0%A6%A6/%E0%A6%AC%E0%A6%BF%E0%A6%A6%E0%A7%8D%E0%A6%AF%E0%A7%81%E0%A7%8E-%E0%A6%93-%E0%A6%9C%E0%A7%8D%E0%A6%AC%E0%A6%BE%E0%A6%B2%E0%A6%BE%E0%A6%A8%E0%A6%BF/%E0%A6%95%E0%A6%BE%E0%A6%B2-%E0%A6%9C%E0%A6%BE%E0%A6%A8%E0%A6%BE-%E0%A6%AF%E0%A6%BE%E0%A6%AC%E0%A7%87-%E0%A6%97%E0%A7%8D%E0%A6%AF%E0%A6%BE%E0%A6%B8%E0%A7%87%E0%A6%B0-%E0%A6%A8%E0%A6%A4%E0%A7%81%E0%A6%A8-%E0%A6%A6%E0%A6%BE%E0%A6%AE-355666\n"
     ]
    },
    {
     "name": "stderr",
     "output_type": "stream",
     "text": [
      " 70%|███████   | 497/709 [12:17<12:23,  3.51s/it]"
     ]
    },
    {
     "name": "stdout",
     "output_type": "stream",
     "text": [
      "Article `download()` failed with HTTPSConnectionPool(host='www.thedailystar.net', port=443): Read timed out. (read timeout=7) on URL https://www.thedailystar.net/star-literature/news/mas-saree-3038901\n"
     ]
    },
    {
     "name": "stderr",
     "output_type": "stream",
     "text": [
      " 77%|███████▋  | 547/709 [13:24<05:08,  1.90s/it]"
     ]
    },
    {
     "name": "stdout",
     "output_type": "stream",
     "text": [
      "Article `download()` failed with 500 Server Error: Service unavailable (with message) for url: https://www.thedailystar.net/supplements/wise-use-card-during-covid-19 on URL https://thedailystar.net/supplements/wise-use-card-during-covid-19\n"
     ]
    },
    {
     "name": "stderr",
     "output_type": "stream",
     "text": [
      " 82%|████████▏ | 580/709 [14:51<05:30,  2.56s/it]"
     ]
    },
    {
     "name": "stdout",
     "output_type": "stream",
     "text": [
      "Article `download()` failed with 500 Server Error: Internal Server Error for url: https://www.thedailystar.net/supplements/study-abroad-right-information-right-decision on URL https://thedailystar.net/supplements/study-abroad-right-information-right-decision\n"
     ]
    },
    {
     "name": "stderr",
     "output_type": "stream",
     "text": [
      "100%|██████████| 709/709 [19:05<00:00,  1.62s/it]\n"
     ]
    },
    {
     "data": {
      "text/html": [
       "<div>\n",
       "<style scoped>\n",
       "    .dataframe tbody tr th:only-of-type {\n",
       "        vertical-align: middle;\n",
       "    }\n",
       "\n",
       "    .dataframe tbody tr th {\n",
       "        vertical-align: top;\n",
       "    }\n",
       "\n",
       "    .dataframe thead th {\n",
       "        text-align: right;\n",
       "    }\n",
       "</style>\n",
       "<table border=\"1\" class=\"dataframe\">\n",
       "  <thead>\n",
       "    <tr style=\"text-align: right;\">\n",
       "      <th></th>\n",
       "      <th>title</th>\n",
       "      <th>text</th>\n",
       "      <th>publish_date</th>\n",
       "      <th>urls</th>\n",
       "      <th>news_collection_time</th>\n",
       "    </tr>\n",
       "  </thead>\n",
       "  <tbody>\n",
       "    <tr>\n",
       "      <th>0</th>\n",
       "      <td>37 hours later, Ctg depot fire still not under...</td>\n",
       "      <td>37 hours later, Ctg depot fire still not under...</td>\n",
       "      <td>2022-06-06 10:49:58+06:00</td>\n",
       "      <td>https://www.thedailystar.net/news/bangladesh/a...</td>\n",
       "      <td>2022-06-06 11:38:22</td>\n",
       "    </tr>\n",
       "    <tr>\n",
       "      <th>1</th>\n",
       "      <td>CTG depot fire: CID to collect DNA for body id...</td>\n",
       "      <td>A team of experts of Criminal Investigation De...</td>\n",
       "      <td>2022-06-06 09:03:09+06:00</td>\n",
       "      <td>https://www.thedailystar.net/news/bangladesh/a...</td>\n",
       "      <td>2022-06-06 11:38:22</td>\n",
       "    </tr>\n",
       "    <tr>\n",
       "      <th>2</th>\n",
       "      <td>Of valour and selflessness</td>\n",
       "      <td>Firefighters looking at the torn clothes of th...</td>\n",
       "      <td>2022-06-06 08:00:00+06:00</td>\n",
       "      <td>https://www.thedailystar.net/news/bangladesh/a...</td>\n",
       "      <td>2022-06-06 11:38:22</td>\n",
       "    </tr>\n",
       "    <tr>\n",
       "      <th>3</th>\n",
       "      <td>Handling chemicals: The depot didn’t follow rules</td>\n",
       "      <td>Mandatory safety measures like storing chemica...</td>\n",
       "      <td>2022-06-06 08:30:00+06:00</td>\n",
       "      <td>https://www.thedailystar.net/news/bangladesh/a...</td>\n",
       "      <td>2022-06-06 11:38:23</td>\n",
       "    </tr>\n",
       "    <tr>\n",
       "      <th>4</th>\n",
       "      <td>Google ordered to pay $515,000 to Australian p...</td>\n",
       "      <td>An Australian court ordered Google to pay A$71...</td>\n",
       "      <td>2022-06-06 09:26:20+06:00</td>\n",
       "      <td>https://www.thedailystar.net/tech-startup/news...</td>\n",
       "      <td>2022-06-06 11:38:23</td>\n",
       "    </tr>\n",
       "  </tbody>\n",
       "</table>\n",
       "</div>"
      ],
      "text/plain": [
       "                                               title  \\\n",
       "0  37 hours later, Ctg depot fire still not under...   \n",
       "1  CTG depot fire: CID to collect DNA for body id...   \n",
       "2                         Of valour and selflessness   \n",
       "3  Handling chemicals: The depot didn’t follow rules   \n",
       "4  Google ordered to pay $515,000 to Australian p...   \n",
       "\n",
       "                                                text  \\\n",
       "0  37 hours later, Ctg depot fire still not under...   \n",
       "1  A team of experts of Criminal Investigation De...   \n",
       "2  Firefighters looking at the torn clothes of th...   \n",
       "3  Mandatory safety measures like storing chemica...   \n",
       "4  An Australian court ordered Google to pay A$71...   \n",
       "\n",
       "               publish_date  \\\n",
       "0 2022-06-06 10:49:58+06:00   \n",
       "1 2022-06-06 09:03:09+06:00   \n",
       "2 2022-06-06 08:00:00+06:00   \n",
       "3 2022-06-06 08:30:00+06:00   \n",
       "4 2022-06-06 09:26:20+06:00   \n",
       "\n",
       "                                                urls news_collection_time  \n",
       "0  https://www.thedailystar.net/news/bangladesh/a...  2022-06-06 11:38:22  \n",
       "1  https://www.thedailystar.net/news/bangladesh/a...  2022-06-06 11:38:22  \n",
       "2  https://www.thedailystar.net/news/bangladesh/a...  2022-06-06 11:38:22  \n",
       "3  https://www.thedailystar.net/news/bangladesh/a...  2022-06-06 11:38:23  \n",
       "4  https://www.thedailystar.net/tech-startup/news...  2022-06-06 11:38:23  "
      ]
     },
     "execution_count": 6,
     "metadata": {},
     "output_type": "execute_result"
    }
   ],
   "source": [
    "title1=[]\n",
    "text1=[]\n",
    "dates1=[]\n",
    "urls1=[]\n",
    "time1=[]\n",
    "for i in tqdm(range(0,len(startup_paper1.articles))): #len(startup_paper.articles)\n",
    "    startup_article = startup_paper1.articles[i]\n",
    "    #startup_url = startup_paper.category_urls()[i]\n",
    "    startup_article.download()\n",
    "    d=datetime.today()\n",
    "    tz = timezone(timedelta(hours=6))\n",
    "    new_time = d.astimezone(tz)\n",
    "    \n",
    "    \n",
    "    try:\n",
    "        startup_article.parse()\n",
    "    except (newspaper.article.ArticleException,OSError) as e:\n",
    "        print(e)\n",
    "        \n",
    "    if len(startup_article.text) !=0:\n",
    "        title1.append(startup_article.title)\n",
    "        text1.append(startup_article.text)\n",
    "        dates1.append(startup_article.publish_date)\n",
    "        urls1.append(startup_article.url)\n",
    "        time1.append(new_time.strftime('%Y-%m-%d %H:%M:%S'))\n",
    "        \n",
    "d1 = {'title': title1, 'text': text1, 'publish_date': dates1, 'urls' : urls1, 'news_collection_time' : time1}\n",
    "df1 = pd.DataFrame(data=d1)\n",
    "df1.to_csv(\"dailystar_daily_news.csv\")\n",
    "df1.head()"
   ]
  },
  {
   "cell_type": "code",
   "execution_count": 7,
   "id": "95d669ed",
   "metadata": {
    "execution": {
     "iopub.execute_input": "2022-06-06T05:57:28.044012Z",
     "iopub.status.busy": "2022-06-06T05:57:28.043558Z",
     "iopub.status.idle": "2022-06-06T07:18:20.522061Z",
     "shell.execute_reply": "2022-06-06T07:18:20.520775Z"
    },
    "papermill": {
     "duration": 4852.544241,
     "end_time": "2022-06-06T07:18:20.524783",
     "exception": false,
     "start_time": "2022-06-06T05:57:27.980542",
     "status": "completed"
    },
    "tags": []
   },
   "outputs": [
    {
     "name": "stderr",
     "output_type": "stream",
     "text": [
      "  9%|▉         | 453/5000 [07:02<4:41:30,  3.71s/it]"
     ]
    },
    {
     "name": "stdout",
     "output_type": "stream",
     "text": [
      "Article `download()` failed with HTTPSConnectionPool(host='thefinancialexpress.com.bd', port=443): Read timed out. (read timeout=7) on URL https://thefinancialexpress.com.bd/national/politics/jatiya-party-terms-budget-impractical-1622738729\n"
     ]
    },
    {
     "name": "stderr",
     "output_type": "stream",
     "text": [
      " 10%|▉         | 481/5000 [07:40<3:26:01,  2.74s/it]"
     ]
    },
    {
     "name": "stdout",
     "output_type": "stream",
     "text": [
      "Article `download()` failed with HTTPSConnectionPool(host='thefinancialexpress.com.bd', port=443): Read timed out. (read timeout=7) on URL https://thefinancialexpress.com.bd/national/politics/gm-quader-demands-withdrawal-of-lockdown-immediately-1619189425\n"
     ]
    },
    {
     "name": "stderr",
     "output_type": "stream",
     "text": [
      " 11%|█▏        | 567/5000 [09:34<3:08:40,  2.55s/it]"
     ]
    },
    {
     "name": "stdout",
     "output_type": "stream",
     "text": [
      "Article `download()` failed with HTTPSConnectionPool(host='thefinancialexpress.com.bd', port=443): Read timed out. (read timeout=7) on URL https://thefinancialexpress.com.bd/national/politics/govt-using-state-machinery-to-eliminate-opposition-parties-fakhrul-alleges-1608297237\n"
     ]
    },
    {
     "name": "stderr",
     "output_type": "stream",
     "text": [
      " 24%|██▍       | 1188/5000 [18:55<3:52:24,  3.66s/it]"
     ]
    },
    {
     "name": "stdout",
     "output_type": "stream",
     "text": [
      "Article `download()` failed with HTTPSConnectionPool(host='thefinancialexpress.com.bd', port=443): Read timed out. (read timeout=7) on URL https://thefinancialexpress.com.bd/national/politics/election-violence-leaves-one-more-dead-at-dmch-1546321559\n"
     ]
    },
    {
     "name": "stderr",
     "output_type": "stream",
     "text": [
      " 36%|███▌      | 1808/5000 [28:52<3:12:48,  3.62s/it]"
     ]
    },
    {
     "name": "stdout",
     "output_type": "stream",
     "text": [
      "Article `download()` failed with HTTPSConnectionPool(host='thefinancialexpress.com.bd', port=443): Read timed out. (read timeout=7) on URL https://thefinancialexpress.com.bd/national/politics/ensure-khaledas-treatment-at-united-hospital-fakhrul-1524915598\n"
     ]
    },
    {
     "name": "stderr",
     "output_type": "stream",
     "text": [
      " 36%|███▋      | 1814/5000 [29:11<3:56:41,  4.46s/it]"
     ]
    },
    {
     "name": "stdout",
     "output_type": "stream",
     "text": [
      "Article `download()` failed with HTTPSConnectionPool(host='thefinancialexpress.com.bd', port=443): Read timed out. (read timeout=7) on URL https://thefinancialexpress.com.bd/national/politics/bnps-present-goal-only-to-free-khaleda-from-jail-1524683107\n"
     ]
    },
    {
     "name": "stderr",
     "output_type": "stream",
     "text": [
      " 36%|███▋      | 1816/5000 [29:24<4:52:46,  5.52s/it]"
     ]
    },
    {
     "name": "stdout",
     "output_type": "stream",
     "text": [
      "Article `download()` failed with HTTPSConnectionPool(host='thefinancialexpress.com.bd', port=443): Read timed out. (read timeout=7) on URL https://thefinancialexpress.com.bd/national/politics/mps-cannot-campaign-in-gazipur-khulna-civic-elections-1524558206\n"
     ]
    },
    {
     "name": "stderr",
     "output_type": "stream",
     "text": [
      " 41%|████▏     | 2072/5000 [33:11<2:07:26,  2.61s/it]"
     ]
    },
    {
     "name": "stdout",
     "output_type": "stream",
     "text": [
      "Article `download()` failed with HTTPSConnectionPool(host='thefinancialexpress.com.bd', port=443): Read timed out. (read timeout=7) on URL https://thefinancialexpress.com.bd/national/politics/10-bcl-men-sustain-injuries-as-bus-catches-fire-in-city-1515236337\n"
     ]
    },
    {
     "name": "stderr",
     "output_type": "stream",
     "text": [
      " 41%|████▏     | 2073/5000 [33:18<3:12:23,  3.94s/it]"
     ]
    },
    {
     "name": "stdout",
     "output_type": "stream",
     "text": [
      "Article `download()` failed with HTTPSConnectionPool(host='thefinancialexpress.com.bd', port=443): Read timed out. (read timeout=7) on URL https://thefinancialexpress.com.bd/national/politics/obaidul-quader-asks-bcl-to-hold-council-in-march-1515235721\n"
     ]
    },
    {
     "name": "stderr",
     "output_type": "stream",
     "text": [
      " 55%|█████▍    | 2729/5000 [42:58<1:46:39,  2.82s/it]"
     ]
    },
    {
     "name": "stdout",
     "output_type": "stream",
     "text": [
      "Article `download()` failed with HTTPSConnectionPool(host='thefinancialexpress.com.bd', port=443): Read timed out. (read timeout=7) on URL https://thefinancialexpress.com.bd/national/hefazat-e-islam-forms-five-member-convening-committee-1619416334\n"
     ]
    },
    {
     "name": "stderr",
     "output_type": "stream",
     "text": [
      " 63%|██████▎   | 3138/5000 [49:34<1:46:34,  3.43s/it]"
     ]
    },
    {
     "name": "stdout",
     "output_type": "stream",
     "text": [
      "Article `download()` failed with HTTPSConnectionPool(host='thefinancialexpress.com.bd', port=443): Read timed out. (read timeout=7) on URL https://thefinancialexpress.com.bd/national/jp-chaos-not-als-headache-1567775291\n"
     ]
    },
    {
     "name": "stderr",
     "output_type": "stream",
     "text": [
      " 63%|██████▎   | 3139/5000 [49:41<2:20:17,  4.52s/it]"
     ]
    },
    {
     "name": "stdout",
     "output_type": "stream",
     "text": [
      "Article `download()` failed with HTTPSConnectionPool(host='thefinancialexpress.com.bd', port=443): Read timed out. (read timeout=7) on URL https://thefinancialexpress.com.bd/national/indictment-hearing-in-barapukuria-graft-case-against-khaleda-oct-7-1567684704\n"
     ]
    },
    {
     "name": "stderr",
     "output_type": "stream",
     "text": [
      " 75%|███████▍  | 3734/5000 [59:48<58:20,  2.77s/it]"
     ]
    },
    {
     "name": "stdout",
     "output_type": "stream",
     "text": [
      "Article `download()` failed with HTTPSConnectionPool(host='thefinancialexpress.com.bd', port=443): Read timed out. (read timeout=7) on URL https://thefinancialexpress.com.bd/national/20-party-still-intact-only-few-leaders-quit-claims-bnp-1539772623\n"
     ]
    },
    {
     "name": "stderr",
     "output_type": "stream",
     "text": [
      " 75%|███████▍  | 3735/5000 [59:55<1:25:25,  4.05s/it]"
     ]
    },
    {
     "name": "stdout",
     "output_type": "stream",
     "text": [
      "Article `download()` failed with HTTPSConnectionPool(host='thefinancialexpress.com.bd', port=443): Read timed out. (read timeout=7) on URL https://thefinancialexpress.com.bd/national/newly-formed-oikya-front-announces-first-ever-programme-1539692607\n"
     ]
    },
    {
     "name": "stderr",
     "output_type": "stream",
     "text": [
      "100%|██████████| 5000/5000 [1:20:52<00:00,  1.03it/s]\n"
     ]
    },
    {
     "data": {
      "text/html": [
       "<div>\n",
       "<style scoped>\n",
       "    .dataframe tbody tr th:only-of-type {\n",
       "        vertical-align: middle;\n",
       "    }\n",
       "\n",
       "    .dataframe tbody tr th {\n",
       "        vertical-align: top;\n",
       "    }\n",
       "\n",
       "    .dataframe thead th {\n",
       "        text-align: right;\n",
       "    }\n",
       "</style>\n",
       "<table border=\"1\" class=\"dataframe\">\n",
       "  <thead>\n",
       "    <tr style=\"text-align: right;\">\n",
       "      <th></th>\n",
       "      <th>title</th>\n",
       "      <th>text</th>\n",
       "      <th>publish_date</th>\n",
       "      <th>urls</th>\n",
       "      <th>news_collection_time</th>\n",
       "    </tr>\n",
       "  </thead>\n",
       "  <tbody>\n",
       "    <tr>\n",
       "      <th>0</th>\n",
       "      <td>VAT from retail outlets rises 10 times on EFD use</td>\n",
       "      <td>VAT from retail outlets rises 10 times on EFD ...</td>\n",
       "      <td>None</td>\n",
       "      <td>https://thefinancialexpress.com.bd/economy/ban...</td>\n",
       "      <td>2022-06-06 11:57:29</td>\n",
       "    </tr>\n",
       "    <tr>\n",
       "      <th>1</th>\n",
       "      <td>Procuring soybean oil: No bid from local refin...</td>\n",
       "      <td>The government has so far failed to procure so...</td>\n",
       "      <td>None</td>\n",
       "      <td>https://thefinancialexpress.com.bd/trade/procu...</td>\n",
       "      <td>2022-06-06 11:57:31</td>\n",
       "    </tr>\n",
       "    <tr>\n",
       "      <th>2</th>\n",
       "      <td>Economist Zahid Hussain suggests a shift from ...</td>\n",
       "      <td>Economist Dr Zahid Hussain has suggested the g...</td>\n",
       "      <td>None</td>\n",
       "      <td>https://thefinancialexpress.com.bd/economy/ban...</td>\n",
       "      <td>2022-06-06 11:57:32</td>\n",
       "    </tr>\n",
       "    <tr>\n",
       "      <th>3</th>\n",
       "      <td>Death toll in Chattogram depot fire rises to 49</td>\n",
       "      <td>The death toll in a fire at a container depot ...</td>\n",
       "      <td>None</td>\n",
       "      <td>https://thefinancialexpress.com.bd/national/de...</td>\n",
       "      <td>2022-06-06 11:57:34</td>\n",
       "    </tr>\n",
       "    <tr>\n",
       "      <th>4</th>\n",
       "      <td>EU keen to invest in energy sector: Envoy</td>\n",
       "      <td>CHATTOGRAM: European Union (EU) Ambassador to ...</td>\n",
       "      <td>None</td>\n",
       "      <td>https://thefinancialexpress.com.bd/trade/eu-ke...</td>\n",
       "      <td>2022-06-06 11:57:35</td>\n",
       "    </tr>\n",
       "  </tbody>\n",
       "</table>\n",
       "</div>"
      ],
      "text/plain": [
       "                                               title  \\\n",
       "0  VAT from retail outlets rises 10 times on EFD use   \n",
       "1  Procuring soybean oil: No bid from local refin...   \n",
       "2  Economist Zahid Hussain suggests a shift from ...   \n",
       "3    Death toll in Chattogram depot fire rises to 49   \n",
       "4          EU keen to invest in energy sector: Envoy   \n",
       "\n",
       "                                                text publish_date  \\\n",
       "0  VAT from retail outlets rises 10 times on EFD ...         None   \n",
       "1  The government has so far failed to procure so...         None   \n",
       "2  Economist Dr Zahid Hussain has suggested the g...         None   \n",
       "3  The death toll in a fire at a container depot ...         None   \n",
       "4  CHATTOGRAM: European Union (EU) Ambassador to ...         None   \n",
       "\n",
       "                                                urls news_collection_time  \n",
       "0  https://thefinancialexpress.com.bd/economy/ban...  2022-06-06 11:57:29  \n",
       "1  https://thefinancialexpress.com.bd/trade/procu...  2022-06-06 11:57:31  \n",
       "2  https://thefinancialexpress.com.bd/economy/ban...  2022-06-06 11:57:32  \n",
       "3  https://thefinancialexpress.com.bd/national/de...  2022-06-06 11:57:34  \n",
       "4  https://thefinancialexpress.com.bd/trade/eu-ke...  2022-06-06 11:57:35  "
      ]
     },
     "execution_count": 7,
     "metadata": {},
     "output_type": "execute_result"
    }
   ],
   "source": [
    "title2=[]\n",
    "text2=[]\n",
    "dates2=[]\n",
    "urls2=[]\n",
    "time2=[]\n",
    "for i in tqdm(range(0,len(startup_paper2.articles))): #len(startup_paper.articles)\n",
    "    startup_article = startup_paper2.articles[i]\n",
    "    #startup_url = startup_paper.category_urls()[i]\n",
    "    startup_article.download()\n",
    "    d=datetime.today()\n",
    "    tz = timezone(timedelta(hours=6))\n",
    "    new_time = d.astimezone(tz)\n",
    "    \n",
    "    try:\n",
    "        startup_article.parse()\n",
    "    except (newspaper.article.ArticleException,OSError) as e:\n",
    "        print(e)\n",
    "        \n",
    "    if len(startup_article.text) !=0:\n",
    "        title2.append(startup_article.title)\n",
    "        text2.append(startup_article.text)\n",
    "        dates2.append(startup_article.publish_date)\n",
    "        urls2.append(startup_article.url)\n",
    "        time2.append(new_time.strftime('%Y-%m-%d %H:%M:%S'))\n",
    "d2 = {'title': title2, 'text': text2, 'publish_date': dates2, 'urls' : urls2, 'news_collection_time' : time2}\n",
    "df2 = pd.DataFrame(data=d2)\n",
    "df2.to_csv(\"financialexpress_daily_news.csv\")\n",
    "df2.head()"
   ]
  },
  {
   "cell_type": "code",
   "execution_count": 8,
   "id": "a049e0c5",
   "metadata": {
    "execution": {
     "iopub.execute_input": "2022-06-06T07:18:21.366631Z",
     "iopub.status.busy": "2022-06-06T07:18:21.365847Z",
     "iopub.status.idle": "2022-06-06T07:20:23.983207Z",
     "shell.execute_reply": "2022-06-06T07:20:23.982185Z"
    },
    "papermill": {
     "duration": 123.416075,
     "end_time": "2022-06-06T07:20:24.369579",
     "exception": false,
     "start_time": "2022-06-06T07:18:20.953504",
     "status": "completed"
    },
    "tags": []
   },
   "outputs": [
    {
     "name": "stderr",
     "output_type": "stream",
     "text": [
      " 12%|█▏        | 17/143 [00:15<02:14,  1.07s/it]"
     ]
    },
    {
     "name": "stdout",
     "output_type": "stream",
     "text": [
      "You must `download()` an article first!\n"
     ]
    },
    {
     "name": "stderr",
     "output_type": "stream",
     "text": [
      "100%|██████████| 143/143 [02:02<00:00,  1.17it/s]\n"
     ]
    },
    {
     "data": {
      "text/html": [
       "<div>\n",
       "<style scoped>\n",
       "    .dataframe tbody tr th:only-of-type {\n",
       "        vertical-align: middle;\n",
       "    }\n",
       "\n",
       "    .dataframe tbody tr th {\n",
       "        vertical-align: top;\n",
       "    }\n",
       "\n",
       "    .dataframe thead th {\n",
       "        text-align: right;\n",
       "    }\n",
       "</style>\n",
       "<table border=\"1\" class=\"dataframe\">\n",
       "  <thead>\n",
       "    <tr style=\"text-align: right;\">\n",
       "      <th></th>\n",
       "      <th>title</th>\n",
       "      <th>text</th>\n",
       "      <th>publish_date</th>\n",
       "      <th>urls</th>\n",
       "      <th>news_collection_time</th>\n",
       "    </tr>\n",
       "  </thead>\n",
       "  <tbody>\n",
       "    <tr>\n",
       "      <th>0</th>\n",
       "      <td>New Age</td>\n",
       "      <td>Do you think that government agencies’ inactio...</td>\n",
       "      <td>None</td>\n",
       "      <td>https://www.newagebd.net/article/172527/s-kore...</td>\n",
       "      <td>2022-06-06 13:18:22</td>\n",
       "    </tr>\n",
       "    <tr>\n",
       "      <th>1</th>\n",
       "      <td>Overall number of Covid patients gradually app...</td>\n",
       "      <td>The overall number of Covid cases is gradually...</td>\n",
       "      <td>None</td>\n",
       "      <td>https://www.newagebd.net/article/172526/overal...</td>\n",
       "      <td>2022-06-06 13:18:23</td>\n",
       "    </tr>\n",
       "    <tr>\n",
       "      <th>2</th>\n",
       "      <td>Ukrainian troops take controls ‘half of Severo...</td>\n",
       "      <td>This handout picture taken and released by the...</td>\n",
       "      <td>None</td>\n",
       "      <td>https://www.newagebd.net/article/172525/ukrain...</td>\n",
       "      <td>2022-06-06 13:18:23</td>\n",
       "    </tr>\n",
       "    <tr>\n",
       "      <th>3</th>\n",
       "      <td>Four of same family killed in Sylhet landslide</td>\n",
       "      <td>This undated file photo shows the view of land...</td>\n",
       "      <td>None</td>\n",
       "      <td>https://www.newagebd.net/article/172524/four-o...</td>\n",
       "      <td>2022-06-06 13:18:24</td>\n",
       "    </tr>\n",
       "    <tr>\n",
       "      <th>4</th>\n",
       "      <td>Queen Elizabeth II concludes historic jubilee ...</td>\n",
       "      <td>Britain’s Queen Elizabeth II (3rd L) stands on...</td>\n",
       "      <td>None</td>\n",
       "      <td>https://www.newagebd.net/article/172523/queen-...</td>\n",
       "      <td>2022-06-06 13:18:25</td>\n",
       "    </tr>\n",
       "  </tbody>\n",
       "</table>\n",
       "</div>"
      ],
      "text/plain": [
       "                                               title  \\\n",
       "0                                            New Age   \n",
       "1  Overall number of Covid patients gradually app...   \n",
       "2  Ukrainian troops take controls ‘half of Severo...   \n",
       "3     Four of same family killed in Sylhet landslide   \n",
       "4  Queen Elizabeth II concludes historic jubilee ...   \n",
       "\n",
       "                                                text publish_date  \\\n",
       "0  Do you think that government agencies’ inactio...         None   \n",
       "1  The overall number of Covid cases is gradually...         None   \n",
       "2  This handout picture taken and released by the...         None   \n",
       "3  This undated file photo shows the view of land...         None   \n",
       "4  Britain’s Queen Elizabeth II (3rd L) stands on...         None   \n",
       "\n",
       "                                                urls news_collection_time  \n",
       "0  https://www.newagebd.net/article/172527/s-kore...  2022-06-06 13:18:22  \n",
       "1  https://www.newagebd.net/article/172526/overal...  2022-06-06 13:18:23  \n",
       "2  https://www.newagebd.net/article/172525/ukrain...  2022-06-06 13:18:23  \n",
       "3  https://www.newagebd.net/article/172524/four-o...  2022-06-06 13:18:24  \n",
       "4  https://www.newagebd.net/article/172523/queen-...  2022-06-06 13:18:25  "
      ]
     },
     "execution_count": 8,
     "metadata": {},
     "output_type": "execute_result"
    }
   ],
   "source": [
    "title3=[]\n",
    "text3=[]\n",
    "dates3=[]\n",
    "urls3=[]\n",
    "time3=[]\n",
    "for i in tqdm(range(0,len(startup_paper3.articles))): #len(startup_paper.articles)\n",
    "    startup_article = startup_paper3.articles[i]\n",
    "    #startup_url = startup_paper.category_urls()[i]\n",
    "    startup_article.download()\n",
    "    d=datetime.today()\n",
    "    tz = timezone(timedelta(hours=6))\n",
    "    new_time = d.astimezone(tz)\n",
    "    \n",
    "    try:\n",
    "        startup_article.parse()\n",
    "    except (newspaper.article.ArticleException,OSError) as e:\n",
    "        print(e)\n",
    "        \n",
    "    if len(startup_article.text) !=0:\n",
    "        title3.append(startup_article.title)\n",
    "        text3.append(startup_article.text)\n",
    "        dates3.append(startup_article.publish_date)\n",
    "        urls3.append(startup_article.url)\n",
    "        time3.append(new_time.strftime('%Y-%m-%d %H:%M:%S'))\n",
    "        \n",
    "d3 = {'title': title3, 'text': text3, 'publish_date': dates3, 'urls' : urls3, 'news_collection_time' : time3}\n",
    "df3 = pd.DataFrame(data=d3)\n",
    "df3.to_csv(\"newagebd_daily_news.csv\")\n",
    "df3.head()"
   ]
  },
  {
   "cell_type": "code",
   "execution_count": 9,
   "id": "28d9c093",
   "metadata": {
    "execution": {
     "iopub.execute_input": "2022-06-06T07:20:25.198888Z",
     "iopub.status.busy": "2022-06-06T07:20:25.198462Z",
     "iopub.status.idle": "2022-06-06T07:20:28.161715Z",
     "shell.execute_reply": "2022-06-06T07:20:28.160703Z"
    },
    "papermill": {
     "duration": 3.380942,
     "end_time": "2022-06-06T07:20:28.163774",
     "exception": false,
     "start_time": "2022-06-06T07:20:24.782832",
     "status": "completed"
    },
    "tags": []
   },
   "outputs": [
    {
     "name": "stderr",
     "output_type": "stream",
     "text": [
      "100%|██████████| 6/6 [00:02<00:00,  2.04it/s]\n"
     ]
    },
    {
     "data": {
      "text/html": [
       "<div>\n",
       "<style scoped>\n",
       "    .dataframe tbody tr th:only-of-type {\n",
       "        vertical-align: middle;\n",
       "    }\n",
       "\n",
       "    .dataframe tbody tr th {\n",
       "        vertical-align: top;\n",
       "    }\n",
       "\n",
       "    .dataframe thead th {\n",
       "        text-align: right;\n",
       "    }\n",
       "</style>\n",
       "<table border=\"1\" class=\"dataframe\">\n",
       "  <thead>\n",
       "    <tr style=\"text-align: right;\">\n",
       "      <th></th>\n",
       "      <th>title</th>\n",
       "      <th>text</th>\n",
       "      <th>publish_date</th>\n",
       "      <th>urls</th>\n",
       "      <th>news_collection_time</th>\n",
       "    </tr>\n",
       "  </thead>\n",
       "  <tbody>\n",
       "  </tbody>\n",
       "</table>\n",
       "</div>"
      ],
      "text/plain": [
       "Empty DataFrame\n",
       "Columns: [title, text, publish_date, urls, news_collection_time]\n",
       "Index: []"
      ]
     },
     "execution_count": 9,
     "metadata": {},
     "output_type": "execute_result"
    }
   ],
   "source": [
    "title4=[]\n",
    "text4=[]\n",
    "dates4=[]\n",
    "urls4=[]\n",
    "time4=[]\n",
    "for i in tqdm(range(0,len(startup_paper4.articles))): #len(startup_paper.articles)\n",
    "    startup_article = startup_paper4.articles[i]\n",
    "    #startup_url = startup_paper.category_urls()[i]\n",
    "    startup_article.download()\n",
    "    d=datetime.today()\n",
    "    tz = timezone(timedelta(hours=6))\n",
    "    new_time = d.astimezone(tz)\n",
    "    \n",
    "    try:\n",
    "        startup_article.parse()\n",
    "    except (newspaper.article.ArticleException,OSError) as e:\n",
    "        print(e)\n",
    "        \n",
    "    if len(startup_article.text) !=0:\n",
    "        title4.append(startup_article.title)\n",
    "        text4.append(startup_article.text)\n",
    "        dates4.append(startup_article.publish_date)\n",
    "        urls4.append(startup_article.url)\n",
    "        time4.append(new_time.strftime('%Y-%m-%d %H:%M:%S'))\n",
    "        \n",
    "d4 = {'title': title4, 'text': text4, 'publish_date': dates4, 'urls' : urls4, 'news_collection_time' : time4}\n",
    "df4 = pd.DataFrame(data=d4)\n",
    "df4.to_csv(\"dhakatribune_daily_news.csv\")\n",
    "df4.head()"
   ]
  },
  {
   "cell_type": "code",
   "execution_count": 10,
   "id": "815d1752",
   "metadata": {
    "execution": {
     "iopub.execute_input": "2022-06-06T07:20:29.075056Z",
     "iopub.status.busy": "2022-06-06T07:20:29.074280Z",
     "iopub.status.idle": "2022-06-06T07:22:26.128390Z",
     "shell.execute_reply": "2022-06-06T07:22:26.127484Z"
    },
    "papermill": {
     "duration": 117.541605,
     "end_time": "2022-06-06T07:22:26.130700",
     "exception": false,
     "start_time": "2022-06-06T07:20:28.589095",
     "status": "completed"
    },
    "tags": []
   },
   "outputs": [
    {
     "name": "stderr",
     "output_type": "stream",
     "text": [
      "100%|██████████| 122/122 [01:57<00:00,  1.04it/s]\n"
     ]
    },
    {
     "data": {
      "text/html": [
       "<div>\n",
       "<style scoped>\n",
       "    .dataframe tbody tr th:only-of-type {\n",
       "        vertical-align: middle;\n",
       "    }\n",
       "\n",
       "    .dataframe tbody tr th {\n",
       "        vertical-align: top;\n",
       "    }\n",
       "\n",
       "    .dataframe thead th {\n",
       "        text-align: right;\n",
       "    }\n",
       "</style>\n",
       "<table border=\"1\" class=\"dataframe\">\n",
       "  <thead>\n",
       "    <tr style=\"text-align: right;\">\n",
       "      <th></th>\n",
       "      <th>title</th>\n",
       "      <th>text</th>\n",
       "      <th>publish_date</th>\n",
       "      <th>urls</th>\n",
       "      <th>news_collection_time</th>\n",
       "    </tr>\n",
       "  </thead>\n",
       "  <tbody>\n",
       "    <tr>\n",
       "      <th>0</th>\n",
       "      <td>Online Version</td>\n",
       "      <td>UK Royal Family: Who is in it and what does th...</td>\n",
       "      <td>None</td>\n",
       "      <td>https://www.daily-sun.com/online/feature</td>\n",
       "      <td>2022-06-06 13:20:29</td>\n",
       "    </tr>\n",
       "    <tr>\n",
       "      <th>1</th>\n",
       "      <td>Chinese ambassador Li Jiming visits Bhasan Char</td>\n",
       "      <td>Chinese ambassador to Bangladesh H.E. Li Jimin...</td>\n",
       "      <td>None</td>\n",
       "      <td>https://www.daily-sun.com/post/624702/Chinese-...</td>\n",
       "      <td>2022-06-06 13:20:29</td>\n",
       "    </tr>\n",
       "    <tr>\n",
       "      <th>2</th>\n",
       "      <td>Over 50 feared dead in Nigeria church attack, ...</td>\n",
       "      <td>Gunmen opened fire on worshippers and detonate...</td>\n",
       "      <td>None</td>\n",
       "      <td>https://www.daily-sun.com/post/624692/Over-50-...</td>\n",
       "      <td>2022-06-06 13:20:29</td>\n",
       "    </tr>\n",
       "    <tr>\n",
       "      <th>3</th>\n",
       "      <td>Messi nets 5 for Argentina for 1st time, overt...</td>\n",
       "      <td>Lionel Messi scored five goals for Argentina f...</td>\n",
       "      <td>None</td>\n",
       "      <td>https://www.daily-sun.com/post/624691/Messi-ne...</td>\n",
       "      <td>2022-06-06 13:20:30</td>\n",
       "    </tr>\n",
       "    <tr>\n",
       "      <th>4</th>\n",
       "      <td>4 of a family killed in Sylhet landslide</td>\n",
       "      <td>Four people of a family were killed and six ot...</td>\n",
       "      <td>None</td>\n",
       "      <td>https://www.daily-sun.com/post/624690/4-of-a-f...</td>\n",
       "      <td>2022-06-06 13:20:30</td>\n",
       "    </tr>\n",
       "  </tbody>\n",
       "</table>\n",
       "</div>"
      ],
      "text/plain": [
       "                                               title  \\\n",
       "0                                     Online Version   \n",
       "1    Chinese ambassador Li Jiming visits Bhasan Char   \n",
       "2  Over 50 feared dead in Nigeria church attack, ...   \n",
       "3  Messi nets 5 for Argentina for 1st time, overt...   \n",
       "4           4 of a family killed in Sylhet landslide   \n",
       "\n",
       "                                                text publish_date  \\\n",
       "0  UK Royal Family: Who is in it and what does th...         None   \n",
       "1  Chinese ambassador to Bangladesh H.E. Li Jimin...         None   \n",
       "2  Gunmen opened fire on worshippers and detonate...         None   \n",
       "3  Lionel Messi scored five goals for Argentina f...         None   \n",
       "4  Four people of a family were killed and six ot...         None   \n",
       "\n",
       "                                                urls news_collection_time  \n",
       "0           https://www.daily-sun.com/online/feature  2022-06-06 13:20:29  \n",
       "1  https://www.daily-sun.com/post/624702/Chinese-...  2022-06-06 13:20:29  \n",
       "2  https://www.daily-sun.com/post/624692/Over-50-...  2022-06-06 13:20:29  \n",
       "3  https://www.daily-sun.com/post/624691/Messi-ne...  2022-06-06 13:20:30  \n",
       "4  https://www.daily-sun.com/post/624690/4-of-a-f...  2022-06-06 13:20:30  "
      ]
     },
     "execution_count": 10,
     "metadata": {},
     "output_type": "execute_result"
    }
   ],
   "source": [
    "title5=[]\n",
    "text5=[]\n",
    "dates5=[]\n",
    "urls5=[]\n",
    "time5=[]\n",
    "for i in tqdm(range(0,len(startup_paper5.articles))): #len(startup_paper.articles)\n",
    "    startup_article = startup_paper5.articles[i]\n",
    "    #startup_url = startup_paper.category_urls()[i]\n",
    "    startup_article.download()\n",
    "    d=datetime.today()\n",
    "    tz = timezone(timedelta(hours=6))\n",
    "    new_time = d.astimezone(tz)\n",
    "    \n",
    "    try:\n",
    "        startup_article.parse()\n",
    "    except (newspaper.article.ArticleException,OSError) as e:\n",
    "        print(e)\n",
    "        startup_article.nlp()\n",
    "    if len(startup_article.text) !=0:\n",
    "        title5.append(startup_article.title)\n",
    "        text5.append(startup_article.text)\n",
    "        dates5.append(startup_article.publish_date)\n",
    "        urls5.append(startup_article.url)\n",
    "        time5.append(new_time.strftime('%Y-%m-%d %H:%M:%S'))\n",
    "        \n",
    "d5 = {'title': title5, 'text': text5, 'publish_date': dates5, 'urls' : urls5, 'news_collection_time' : time5}\n",
    "df5 = pd.DataFrame(data=d5)\n",
    "df5.to_csv(\"dailysun_daily_news.csv\")\n",
    "df5.head()"
   ]
  },
  {
   "cell_type": "code",
   "execution_count": 11,
   "id": "fd19fa44",
   "metadata": {
    "execution": {
     "iopub.execute_input": "2022-06-06T07:22:26.982119Z",
     "iopub.status.busy": "2022-06-06T07:22:26.981584Z",
     "iopub.status.idle": "2022-06-06T07:22:27.002112Z",
     "shell.execute_reply": "2022-06-06T07:22:27.001287Z"
    },
    "papermill": {
     "duration": 0.449216,
     "end_time": "2022-06-06T07:22:27.003992",
     "exception": false,
     "start_time": "2022-06-06T07:22:26.554776",
     "status": "completed"
    },
    "tags": []
   },
   "outputs": [
    {
     "name": "stderr",
     "output_type": "stream",
     "text": [
      "0it [00:00, ?it/s]\n"
     ]
    },
    {
     "data": {
      "text/html": [
       "<div>\n",
       "<style scoped>\n",
       "    .dataframe tbody tr th:only-of-type {\n",
       "        vertical-align: middle;\n",
       "    }\n",
       "\n",
       "    .dataframe tbody tr th {\n",
       "        vertical-align: top;\n",
       "    }\n",
       "\n",
       "    .dataframe thead th {\n",
       "        text-align: right;\n",
       "    }\n",
       "</style>\n",
       "<table border=\"1\" class=\"dataframe\">\n",
       "  <thead>\n",
       "    <tr style=\"text-align: right;\">\n",
       "      <th></th>\n",
       "      <th>title</th>\n",
       "      <th>text</th>\n",
       "      <th>publish_date</th>\n",
       "      <th>urls</th>\n",
       "      <th>news_collection_time</th>\n",
       "    </tr>\n",
       "  </thead>\n",
       "  <tbody>\n",
       "  </tbody>\n",
       "</table>\n",
       "</div>"
      ],
      "text/plain": [
       "Empty DataFrame\n",
       "Columns: [title, text, publish_date, urls, news_collection_time]\n",
       "Index: []"
      ]
     },
     "execution_count": 11,
     "metadata": {},
     "output_type": "execute_result"
    }
   ],
   "source": [
    "title6=[]\n",
    "text6=[]\n",
    "dates6=[]\n",
    "urls6=[]\n",
    "time6=[]\n",
    "for i in tqdm(range(0,len(startup_paper6.articles))): #len(startup_paper.articles)\n",
    "    startup_article = startup_paper6.articles[i]\n",
    "    #startup_url = startup_paper.category_urls()[i]\n",
    "    startup_article.download()\n",
    "    d=datetime.today()\n",
    "    tz = timezone(timedelta(hours=6))\n",
    "    new_time = d.astimezone(tz)\n",
    "    try:\n",
    "        startup_article.parse()\n",
    "    except (newspaper.article.ArticleException,OSError) as e:\n",
    "        print(e)\n",
    "       \n",
    "    if len(startup_article.text) !=0:\n",
    "        title6.append(startup_article.title)\n",
    "        text6.append(startup_article.text)\n",
    "        dates6.append(startup_article.publish_date)\n",
    "        urls6.append(startup_article.url)\n",
    "        time6.append(new_time.strftime('%Y-%m-%d %H:%M:%S'))\n",
    "        \n",
    "d6 = {'title': title6, 'text': text6, 'publish_date': dates6, 'urls' : urls6, 'news_collection_time' : time6}\n",
    "df6 = pd.DataFrame(data=d6)\n",
    "df6.to_csv(\"theindependentbd_daily_news.csv\")\n",
    "df6.head()"
   ]
  },
  {
   "cell_type": "code",
   "execution_count": 12,
   "id": "9541cba2",
   "metadata": {
    "execution": {
     "iopub.execute_input": "2022-06-06T07:22:27.927189Z",
     "iopub.status.busy": "2022-06-06T07:22:27.926268Z",
     "iopub.status.idle": "2022-06-06T07:22:27.969061Z",
     "shell.execute_reply": "2022-06-06T07:22:27.968274Z"
    },
    "papermill": {
     "duration": 0.468304,
     "end_time": "2022-06-06T07:22:27.971279",
     "exception": false,
     "start_time": "2022-06-06T07:22:27.502975",
     "status": "completed"
    },
    "tags": []
   },
   "outputs": [],
   "source": [
    "df1['publish_date']=pd.to_datetime(df1['publish_date']).dt.strftime('%Y-%m-%d %H:%M:%S')\n",
    "df2['publish_date']=pd.to_datetime(df2['publish_date']).dt.strftime('%Y-%m-%d %H:%M:%S')\n",
    "df3['publish_date']=pd.to_datetime(df3['publish_date']).dt.strftime('%Y-%m-%d %H:%M:%S')\n",
    "df4['publish_date']=pd.to_datetime(df4['publish_date']).dt.strftime('%Y-%m-%d %H:%M:%S')\n",
    "df5['publish_date']=pd.to_datetime(df5['publish_date']).dt.strftime('%Y-%m-%d %H:%M:%S')\n",
    "df6['publish_date']=pd.to_datetime(df6['publish_date']).dt.strftime('%Y-%m-%d %H:%M:%S')"
   ]
  },
  {
   "cell_type": "code",
   "execution_count": 13,
   "id": "2adf4389",
   "metadata": {
    "execution": {
     "iopub.execute_input": "2022-06-06T07:22:28.826534Z",
     "iopub.status.busy": "2022-06-06T07:22:28.825456Z",
     "iopub.status.idle": "2022-06-06T07:22:29.396491Z",
     "shell.execute_reply": "2022-06-06T07:22:29.395721Z"
    },
    "papermill": {
     "duration": 1.003708,
     "end_time": "2022-06-06T07:22:29.398714",
     "exception": false,
     "start_time": "2022-06-06T07:22:28.395006",
     "status": "completed"
    },
    "tags": []
   },
   "outputs": [],
   "source": [
    "data=pd.concat([df1,df2,df3,df4,df5,df6],ignore_index=True)\n",
    "data.head()\n",
    "data.to_csv(\"bangladeshi_all_engish_newspapers_daily_news_combined_dataset.csv\")"
   ]
  },
  {
   "cell_type": "code",
   "execution_count": 14,
   "id": "c56f879c",
   "metadata": {
    "execution": {
     "iopub.execute_input": "2022-06-06T07:22:30.323684Z",
     "iopub.status.busy": "2022-06-06T07:22:30.323221Z",
     "iopub.status.idle": "2022-06-06T07:22:30.335045Z",
     "shell.execute_reply": "2022-06-06T07:22:30.334294Z"
    },
    "papermill": {
     "duration": 0.511676,
     "end_time": "2022-06-06T07:22:30.336844",
     "exception": false,
     "start_time": "2022-06-06T07:22:29.825168",
     "status": "completed"
    },
    "tags": []
   },
   "outputs": [
    {
     "data": {
      "text/html": [
       "<div>\n",
       "<style scoped>\n",
       "    .dataframe tbody tr th:only-of-type {\n",
       "        vertical-align: middle;\n",
       "    }\n",
       "\n",
       "    .dataframe tbody tr th {\n",
       "        vertical-align: top;\n",
       "    }\n",
       "\n",
       "    .dataframe thead th {\n",
       "        text-align: right;\n",
       "    }\n",
       "</style>\n",
       "<table border=\"1\" class=\"dataframe\">\n",
       "  <thead>\n",
       "    <tr style=\"text-align: right;\">\n",
       "      <th></th>\n",
       "      <th>title</th>\n",
       "      <th>text</th>\n",
       "      <th>publish_date</th>\n",
       "      <th>urls</th>\n",
       "      <th>news_collection_time</th>\n",
       "    </tr>\n",
       "  </thead>\n",
       "  <tbody>\n",
       "    <tr>\n",
       "      <th>0</th>\n",
       "      <td>37 hours later, Ctg depot fire still not under...</td>\n",
       "      <td>37 hours later, Ctg depot fire still not under...</td>\n",
       "      <td>2022-06-06 10:49:58</td>\n",
       "      <td>https://www.thedailystar.net/news/bangladesh/a...</td>\n",
       "      <td>2022-06-06 11:38:22</td>\n",
       "    </tr>\n",
       "    <tr>\n",
       "      <th>1</th>\n",
       "      <td>CTG depot fire: CID to collect DNA for body id...</td>\n",
       "      <td>A team of experts of Criminal Investigation De...</td>\n",
       "      <td>2022-06-06 09:03:09</td>\n",
       "      <td>https://www.thedailystar.net/news/bangladesh/a...</td>\n",
       "      <td>2022-06-06 11:38:22</td>\n",
       "    </tr>\n",
       "    <tr>\n",
       "      <th>2</th>\n",
       "      <td>Of valour and selflessness</td>\n",
       "      <td>Firefighters looking at the torn clothes of th...</td>\n",
       "      <td>2022-06-06 08:00:00</td>\n",
       "      <td>https://www.thedailystar.net/news/bangladesh/a...</td>\n",
       "      <td>2022-06-06 11:38:22</td>\n",
       "    </tr>\n",
       "    <tr>\n",
       "      <th>3</th>\n",
       "      <td>Handling chemicals: The depot didn’t follow rules</td>\n",
       "      <td>Mandatory safety measures like storing chemica...</td>\n",
       "      <td>2022-06-06 08:30:00</td>\n",
       "      <td>https://www.thedailystar.net/news/bangladesh/a...</td>\n",
       "      <td>2022-06-06 11:38:23</td>\n",
       "    </tr>\n",
       "    <tr>\n",
       "      <th>4</th>\n",
       "      <td>Google ordered to pay $515,000 to Australian p...</td>\n",
       "      <td>An Australian court ordered Google to pay A$71...</td>\n",
       "      <td>2022-06-06 09:26:20</td>\n",
       "      <td>https://www.thedailystar.net/tech-startup/news...</td>\n",
       "      <td>2022-06-06 11:38:23</td>\n",
       "    </tr>\n",
       "  </tbody>\n",
       "</table>\n",
       "</div>"
      ],
      "text/plain": [
       "                                               title  \\\n",
       "0  37 hours later, Ctg depot fire still not under...   \n",
       "1  CTG depot fire: CID to collect DNA for body id...   \n",
       "2                         Of valour and selflessness   \n",
       "3  Handling chemicals: The depot didn’t follow rules   \n",
       "4  Google ordered to pay $515,000 to Australian p...   \n",
       "\n",
       "                                                text         publish_date  \\\n",
       "0  37 hours later, Ctg depot fire still not under...  2022-06-06 10:49:58   \n",
       "1  A team of experts of Criminal Investigation De...  2022-06-06 09:03:09   \n",
       "2  Firefighters looking at the torn clothes of th...  2022-06-06 08:00:00   \n",
       "3  Mandatory safety measures like storing chemica...  2022-06-06 08:30:00   \n",
       "4  An Australian court ordered Google to pay A$71...  2022-06-06 09:26:20   \n",
       "\n",
       "                                                urls news_collection_time  \n",
       "0  https://www.thedailystar.net/news/bangladesh/a...  2022-06-06 11:38:22  \n",
       "1  https://www.thedailystar.net/news/bangladesh/a...  2022-06-06 11:38:22  \n",
       "2  https://www.thedailystar.net/news/bangladesh/a...  2022-06-06 11:38:22  \n",
       "3  https://www.thedailystar.net/news/bangladesh/a...  2022-06-06 11:38:23  \n",
       "4  https://www.thedailystar.net/tech-startup/news...  2022-06-06 11:38:23  "
      ]
     },
     "execution_count": 14,
     "metadata": {},
     "output_type": "execute_result"
    }
   ],
   "source": [
    "data.head()"
   ]
  },
  {
   "cell_type": "code",
   "execution_count": null,
   "id": "41a5d95d",
   "metadata": {
    "papermill": {
     "duration": 0.430734,
     "end_time": "2022-06-06T07:22:31.195225",
     "exception": false,
     "start_time": "2022-06-06T07:22:30.764491",
     "status": "completed"
    },
    "tags": []
   },
   "outputs": [],
   "source": []
  }
 ],
 "metadata": {
  "kernelspec": {
   "display_name": "Python 3",
   "language": "python",
   "name": "python3"
  },
  "language_info": {
   "codemirror_mode": {
    "name": "ipython",
    "version": 3
   },
   "file_extension": ".py",
   "mimetype": "text/x-python",
   "name": "python",
   "nbconvert_exporter": "python",
   "pygments_lexer": "ipython3",
   "version": "3.7.12"
  },
  "papermill": {
   "default_parameters": {},
   "duration": 6312.947371,
   "end_time": "2022-06-06T07:22:34.557240",
   "environment_variables": {},
   "exception": null,
   "input_path": "__notebook__.ipynb",
   "output_path": "__notebook__.ipynb",
   "parameters": {},
   "start_time": "2022-06-06T05:37:21.609869",
   "version": "2.3.4"
  }
 },
 "nbformat": 4,
 "nbformat_minor": 5
}
