{
 "cells": [
  {
   "cell_type": "code",
   "execution_count": 1,
   "id": "dd4312a5",
   "metadata": {
    "_cell_guid": "b1076dfc-b9ad-4769-8c92-a6c4dae69d19",
    "_uuid": "8f2839f25d086af736a60e9eeb907d3b93b6e0e5",
    "execution": {
     "iopub.execute_input": "2022-09-23T18:54:14.269289Z",
     "iopub.status.busy": "2022-09-23T18:54:14.268641Z",
     "iopub.status.idle": "2022-09-23T18:54:14.279150Z",
     "shell.execute_reply": "2022-09-23T18:54:14.278551Z"
    },
    "papermill": {
     "duration": 0.018459,
     "end_time": "2022-09-23T18:54:14.281096",
     "exception": false,
     "start_time": "2022-09-23T18:54:14.262637",
     "status": "completed"
    },
    "tags": []
   },
   "outputs": [],
   "source": [
    "# This Python 3 environment comes with many helpful analytics libraries installed\n",
    "# It is defined by the kaggle/python Docker image: https://github.com/kaggle/docker-python\n",
    "# For example, here's several helpful packages to load\n",
    "\n",
    "import numpy as np # linear algebra\n",
    "import pandas as pd # data processing, CSV file I/O (e.g. pd.read_csv)\n",
    "\n",
    "# Input data files are available in the read-only \"../input/\" directory\n",
    "# For example, running this (by clicking run or pressing Shift+Enter) will list all files under the input directory\n",
    "\n",
    "import os\n",
    "for dirname, _, filenames in os.walk('/kaggle/input'):\n",
    "    for filename in filenames:\n",
    "        print(os.path.join(dirname, filename))\n",
    "\n",
    "# You can write up to 20GB to the current directory (/kaggle/working/) that gets preserved as output when you create a version using \"Save & Run All\" \n",
    "# You can also write temporary files to /kaggle/temp/, but they won't be saved outside of the current session"
   ]
  },
  {
   "cell_type": "code",
   "execution_count": 2,
   "id": "d84e8618",
   "metadata": {
    "execution": {
     "iopub.execute_input": "2022-09-23T18:54:14.292298Z",
     "iopub.status.busy": "2022-09-23T18:54:14.291809Z",
     "iopub.status.idle": "2022-09-23T18:54:34.676132Z",
     "shell.execute_reply": "2022-09-23T18:54:34.674972Z"
    },
    "papermill": {
     "duration": 20.391542,
     "end_time": "2022-09-23T18:54:34.678358",
     "exception": false,
     "start_time": "2022-09-23T18:54:14.286816",
     "status": "completed"
    },
    "tags": []
   },
   "outputs": [],
   "source": [
    "%%capture\n",
    "!pip3 install newspaper3k"
   ]
  },
  {
   "cell_type": "code",
   "execution_count": 3,
   "id": "d41e199c",
   "metadata": {
    "execution": {
     "iopub.execute_input": "2022-09-23T18:54:34.687471Z",
     "iopub.status.busy": "2022-09-23T18:54:34.687129Z",
     "iopub.status.idle": "2022-09-23T18:54:34.920384Z",
     "shell.execute_reply": "2022-09-23T18:54:34.919810Z"
    },
    "papermill": {
     "duration": 0.239976,
     "end_time": "2022-09-23T18:54:34.922230",
     "exception": false,
     "start_time": "2022-09-23T18:54:34.682254",
     "status": "completed"
    },
    "tags": []
   },
   "outputs": [],
   "source": [
    "import newspaper\n",
    "from tqdm import tqdm\n",
    "from datetime import datetime, timedelta, timezone"
   ]
  },
  {
   "cell_type": "code",
   "execution_count": 4,
   "id": "a6d957d3",
   "metadata": {
    "execution": {
     "iopub.execute_input": "2022-09-23T18:54:34.930940Z",
     "iopub.status.busy": "2022-09-23T18:54:34.930659Z",
     "iopub.status.idle": "2022-09-23T18:55:07.430906Z",
     "shell.execute_reply": "2022-09-23T18:55:07.429857Z"
    },
    "papermill": {
     "duration": 32.506969,
     "end_time": "2022-09-23T18:55:07.433007",
     "exception": false,
     "start_time": "2022-09-23T18:54:34.926038",
     "status": "completed"
    },
    "tags": []
   },
   "outputs": [],
   "source": [
    "startup_paper1 = newspaper.build('https://www.thedailystar.net/')\n",
    "startup_paper2 = newspaper.build('https://thefinancialexpress.com.bd/')\n",
    "startup_paper3 = newspaper.build('https://www.newagebd.net/')\n",
    "startup_paper4 = newspaper.build('https://www.dhakatribune.com/')\n",
    "startup_paper5 = newspaper.build('https://www.daily-sun.com/')\n",
    "#startup_paper6 = newspaper.build('https://m.theindependentbd.com/')"
   ]
  },
  {
   "cell_type": "code",
   "execution_count": 5,
   "id": "6d698666",
   "metadata": {
    "execution": {
     "iopub.execute_input": "2022-09-23T18:55:07.442359Z",
     "iopub.status.busy": "2022-09-23T18:55:07.441986Z",
     "iopub.status.idle": "2022-09-23T18:55:07.450222Z",
     "shell.execute_reply": "2022-09-23T18:55:07.449398Z"
    },
    "papermill": {
     "duration": 0.014936,
     "end_time": "2022-09-23T18:55:07.451932",
     "exception": false,
     "start_time": "2022-09-23T18:55:07.436996",
     "status": "completed"
    },
    "tags": []
   },
   "outputs": [
    {
     "data": {
      "text/plain": [
       "5991"
      ]
     },
     "execution_count": 5,
     "metadata": {},
     "output_type": "execute_result"
    }
   ],
   "source": [
    "len(startup_paper1.articles+startup_paper2.articles+startup_paper3.articles+startup_paper4.articles+startup_paper5.articles)"
   ]
  },
  {
   "cell_type": "code",
   "execution_count": 6,
   "id": "3a979e67",
   "metadata": {
    "execution": {
     "iopub.execute_input": "2022-09-23T18:55:07.460793Z",
     "iopub.status.busy": "2022-09-23T18:55:07.460426Z",
     "iopub.status.idle": "2022-09-23T19:20:40.510022Z",
     "shell.execute_reply": "2022-09-23T19:20:40.509222Z"
    },
    "papermill": {
     "duration": 1533.056757,
     "end_time": "2022-09-23T19:20:40.512571",
     "exception": false,
     "start_time": "2022-09-23T18:55:07.455814",
     "status": "completed"
    },
    "tags": []
   },
   "outputs": [
    {
     "name": "stderr",
     "output_type": "stream",
     "text": [
      " 59%|█████▉    | 420/706 [14:51<09:07,  1.92s/it]"
     ]
    },
    {
     "name": "stdout",
     "output_type": "stream",
     "text": [
      "Article `download()` failed with 404 Client Error: Not Found for url: https://www.thedailystar.net/news/bangladesh/politics/news-396876 on URL https://www.thedailystar.net/news/bangladesh/politics/news-396876\n"
     ]
    },
    {
     "name": "stderr",
     "output_type": "stream",
     "text": [
      " 60%|█████▉    | 421/706 [14:52<08:00,  1.69s/it]"
     ]
    },
    {
     "name": "stdout",
     "output_type": "stream",
     "text": [
      "Article `download()` failed with 404 Client Error: Not Found for url: https://www.thedailystar.net/news/bangladesh/news-396926 on URL https://www.thedailystar.net/news/bangladesh/news-396926\n"
     ]
    },
    {
     "name": "stderr",
     "output_type": "stream",
     "text": [
      " 60%|█████▉    | 422/706 [14:53<07:16,  1.54s/it]"
     ]
    },
    {
     "name": "stdout",
     "output_type": "stream",
     "text": [
      "Article `download()` failed with 404 Client Error: Not Found for url: https://www.thedailystar.net/news/bangladesh/politics/news-396906 on URL https://www.thedailystar.net/news/bangladesh/politics/news-396906\n"
     ]
    },
    {
     "name": "stderr",
     "output_type": "stream",
     "text": [
      " 60%|█████▉    | 423/706 [14:54<06:52,  1.46s/it]"
     ]
    },
    {
     "name": "stdout",
     "output_type": "stream",
     "text": [
      "Article `download()` failed with 404 Client Error: Not Found for url: https://www.thedailystar.net/news/bangladesh/accident-fire/news-396911 on URL https://www.thedailystar.net/news/bangladesh/accident-fire/news-396911\n"
     ]
    },
    {
     "name": "stderr",
     "output_type": "stream",
     "text": [
      " 60%|██████    | 424/706 [14:55<06:25,  1.37s/it]"
     ]
    },
    {
     "name": "stdout",
     "output_type": "stream",
     "text": [
      "Article `download()` failed with 404 Client Error: Not Found for url: https://www.thedailystar.net/news/bangladesh/politics/news-396896 on URL https://www.thedailystar.net/news/bangladesh/politics/news-396896\n"
     ]
    },
    {
     "name": "stderr",
     "output_type": "stream",
     "text": [
      " 60%|██████    | 425/706 [14:57<06:19,  1.35s/it]"
     ]
    },
    {
     "name": "stdout",
     "output_type": "stream",
     "text": [
      "Article `download()` failed with 404 Client Error: Not Found for url: https://www.thedailystar.net/news/bangladesh/news-396891 on URL https://www.thedailystar.net/news/bangladesh/news-396891\n"
     ]
    },
    {
     "name": "stderr",
     "output_type": "stream",
     "text": [
      " 60%|██████    | 426/706 [14:58<06:33,  1.41s/it]"
     ]
    },
    {
     "name": "stdout",
     "output_type": "stream",
     "text": [
      "Article `download()` failed with 404 Client Error: Not Found for url: https://www.thedailystar.net/news/bangladesh/crime-justice/news-396901 on URL https://www.thedailystar.net/news/bangladesh/crime-justice/news-396901\n"
     ]
    },
    {
     "name": "stderr",
     "output_type": "stream",
     "text": [
      " 60%|██████    | 427/706 [14:59<06:12,  1.33s/it]"
     ]
    },
    {
     "name": "stdout",
     "output_type": "stream",
     "text": [
      "Article `download()` failed with 404 Client Error: Not Found for url: https://www.thedailystar.net/news/bangladesh/politics/news-396831 on URL https://www.thedailystar.net/news/bangladesh/politics/news-396831\n"
     ]
    },
    {
     "name": "stderr",
     "output_type": "stream",
     "text": [
      " 61%|██████    | 428/706 [15:01<05:58,  1.29s/it]"
     ]
    },
    {
     "name": "stdout",
     "output_type": "stream",
     "text": [
      "Article `download()` failed with 404 Client Error: Not Found for url: https://www.thedailystar.net/news/bangladesh/news-396871 on URL https://www.thedailystar.net/news/bangladesh/news-396871\n"
     ]
    },
    {
     "name": "stderr",
     "output_type": "stream",
     "text": [
      " 61%|██████    | 429/706 [15:02<05:47,  1.26s/it]"
     ]
    },
    {
     "name": "stdout",
     "output_type": "stream",
     "text": [
      "Article `download()` failed with 404 Client Error: Not Found for url: https://www.thedailystar.net/news/bangladesh/crime-justice/news-396866 on URL https://www.thedailystar.net/news/bangladesh/crime-justice/news-396866\n"
     ]
    },
    {
     "name": "stderr",
     "output_type": "stream",
     "text": [
      " 61%|██████    | 430/706 [15:03<05:38,  1.23s/it]"
     ]
    },
    {
     "name": "stdout",
     "output_type": "stream",
     "text": [
      "Article `download()` failed with 404 Client Error: Not Found for url: https://www.thedailystar.net/news/bangladesh/news-396881 on URL https://www.thedailystar.net/news/bangladesh/news-396881\n"
     ]
    },
    {
     "name": "stderr",
     "output_type": "stream",
     "text": [
      " 61%|██████    | 431/706 [15:04<05:51,  1.28s/it]"
     ]
    },
    {
     "name": "stdout",
     "output_type": "stream",
     "text": [
      "Article `download()` failed with 404 Client Error: Not Found for url: https://www.thedailystar.net/news/bangladesh/news-396846 on URL https://www.thedailystar.net/news/bangladesh/news-396846\n"
     ]
    },
    {
     "name": "stderr",
     "output_type": "stream",
     "text": [
      " 61%|██████    | 432/706 [15:06<06:05,  1.33s/it]"
     ]
    },
    {
     "name": "stdout",
     "output_type": "stream",
     "text": [
      "Article `download()` failed with 404 Client Error: Not Found for url: https://www.thedailystar.net/news/bangladesh/accident-fire/news-396861 on URL https://www.thedailystar.net/news/bangladesh/accident-fire/news-396861\n"
     ]
    },
    {
     "name": "stderr",
     "output_type": "stream",
     "text": [
      " 61%|██████▏   | 433/706 [15:09<08:21,  1.84s/it]"
     ]
    },
    {
     "name": "stdout",
     "output_type": "stream",
     "text": [
      "Article `download()` failed with 404 Client Error: Not Found for url: https://www.thedailystar.net/news/bangladesh/accident-fire on URL https://www.thedailystar.net/news/bangladesh/accident-fire\n"
     ]
    },
    {
     "name": "stderr",
     "output_type": "stream",
     "text": [
      " 61%|██████▏   | 434/706 [15:10<07:36,  1.68s/it]"
     ]
    },
    {
     "name": "stdout",
     "output_type": "stream",
     "text": [
      "Article `download()` failed with 404 Client Error: Not Found for url: https://www.thedailystar.net/news/world/middle-east/news-396851 on URL https://www.thedailystar.net/news/world/middle-east/news-396851\n"
     ]
    },
    {
     "name": "stderr",
     "output_type": "stream",
     "text": [
      " 62%|██████▏   | 435/706 [15:11<06:53,  1.53s/it]"
     ]
    },
    {
     "name": "stdout",
     "output_type": "stream",
     "text": [
      "Article `download()` failed with 404 Client Error: Not Found for url: https://www.thedailystar.net/news/world/middle-east on URL https://www.thedailystar.net/news/world/middle-east\n"
     ]
    },
    {
     "name": "stderr",
     "output_type": "stream",
     "text": [
      " 62%|██████▏   | 436/706 [15:12<06:23,  1.42s/it]"
     ]
    },
    {
     "name": "stdout",
     "output_type": "stream",
     "text": [
      "Article `download()` failed with 404 Client Error: Not Found for url: https://www.thedailystar.net/news/bangladesh/politics/news-396826 on URL https://www.thedailystar.net/news/bangladesh/politics/news-396826\n"
     ]
    },
    {
     "name": "stderr",
     "output_type": "stream",
     "text": [
      " 62%|██████▏   | 438/706 [15:15<06:27,  1.45s/it]"
     ]
    },
    {
     "name": "stdout",
     "output_type": "stream",
     "text": [
      "Article `download()` failed with 404 Client Error: Not Found for url: https://www.thedailystar.net/news/bangladesh/crime-justice/news-396816 on URL https://www.thedailystar.net/news/bangladesh/crime-justice/news-396816\n"
     ]
    },
    {
     "name": "stderr",
     "output_type": "stream",
     "text": [
      " 62%|██████▏   | 439/706 [15:17<06:05,  1.37s/it]"
     ]
    },
    {
     "name": "stdout",
     "output_type": "stream",
     "text": [
      "Article `download()` failed with 404 Client Error: Not Found for url: https://www.thedailystar.net/news/bangladesh/news-396806 on URL https://www.thedailystar.net/news/bangladesh/news-396806\n"
     ]
    },
    {
     "name": "stderr",
     "output_type": "stream",
     "text": [
      " 62%|██████▏   | 440/706 [15:18<05:49,  1.31s/it]"
     ]
    },
    {
     "name": "stdout",
     "output_type": "stream",
     "text": [
      "Article `download()` failed with 404 Client Error: Not Found for url: https://www.thedailystar.net/sports/sports-special/asia-cup-2022/news-390426 on URL https://www.thedailystar.net/sports/sports-special/asia-cup-2022/news-390426\n"
     ]
    },
    {
     "name": "stderr",
     "output_type": "stream",
     "text": [
      " 62%|██████▏   | 441/706 [15:19<05:44,  1.30s/it]"
     ]
    },
    {
     "name": "stdout",
     "output_type": "stream",
     "text": [
      "Article `download()` failed with 404 Client Error: Not Found for url: https://www.thedailystar.net/news/bangladesh/news-396736 on URL https://www.thedailystar.net/news/bangladesh/news-396736\n"
     ]
    },
    {
     "name": "stderr",
     "output_type": "stream",
     "text": [
      " 63%|██████▎   | 442/706 [15:20<05:33,  1.26s/it]"
     ]
    },
    {
     "name": "stdout",
     "output_type": "stream",
     "text": [
      "Article `download()` failed with 404 Client Error: Not Found for url: https://www.thedailystar.net/tech-startup/science-tech-gadgets/feature/news-396756 on URL https://www.thedailystar.net/tech-startup/science-tech-gadgets/feature/news-396756\n"
     ]
    },
    {
     "name": "stderr",
     "output_type": "stream",
     "text": [
      " 63%|██████▎   | 443/706 [15:21<05:22,  1.23s/it]"
     ]
    },
    {
     "name": "stdout",
     "output_type": "stream",
     "text": [
      "Article `download()` failed with 404 Client Error: Not Found for url: https://www.thedailystar.net/tech-startup/science-tech-gadgets/feature on URL https://www.thedailystar.net/tech-startup/science-tech-gadgets/feature\n"
     ]
    },
    {
     "name": "stderr",
     "output_type": "stream",
     "text": [
      " 63%|██████▎   | 444/706 [15:23<05:16,  1.21s/it]"
     ]
    },
    {
     "name": "stdout",
     "output_type": "stream",
     "text": [
      "Article `download()` failed with 404 Client Error: Not Found for url: https://www.thedailystar.net/news/bangladesh/crime-justice/news-396531 on URL https://www.thedailystar.net/news/bangladesh/crime-justice/news-396531\n"
     ]
    },
    {
     "name": "stderr",
     "output_type": "stream",
     "text": [
      " 63%|██████▎   | 445/706 [15:24<05:12,  1.20s/it]"
     ]
    },
    {
     "name": "stdout",
     "output_type": "stream",
     "text": [
      "Article `download()` failed with 404 Client Error: Not Found for url: https://www.thedailystar.net/news/bangladesh/agriculture/news-396526 on URL https://www.thedailystar.net/news/bangladesh/agriculture/news-396526\n"
     ]
    },
    {
     "name": "stderr",
     "output_type": "stream",
     "text": [
      " 63%|██████▎   | 447/706 [15:27<05:19,  1.24s/it]"
     ]
    },
    {
     "name": "stdout",
     "output_type": "stream",
     "text": [
      "Article `download()` failed with 500 Server Error: Service unavailable (with message) for url: https://www.thedailystar.net/supplements/wise-use-card-during-covid-19 on URL https://thedailystar.net/supplements/wise-use-card-during-covid-19\n"
     ]
    },
    {
     "name": "stderr",
     "output_type": "stream",
     "text": [
      "100%|██████████| 706/706 [25:32<00:00,  2.17s/it]\n"
     ]
    },
    {
     "data": {
      "text/html": [
       "<div>\n",
       "<style scoped>\n",
       "    .dataframe tbody tr th:only-of-type {\n",
       "        vertical-align: middle;\n",
       "    }\n",
       "\n",
       "    .dataframe tbody tr th {\n",
       "        vertical-align: top;\n",
       "    }\n",
       "\n",
       "    .dataframe thead th {\n",
       "        text-align: right;\n",
       "    }\n",
       "</style>\n",
       "<table border=\"1\" class=\"dataframe\">\n",
       "  <thead>\n",
       "    <tr style=\"text-align: right;\">\n",
       "      <th></th>\n",
       "      <th>title</th>\n",
       "      <th>text</th>\n",
       "      <th>publish_date</th>\n",
       "      <th>urls</th>\n",
       "      <th>news_collection_time</th>\n",
       "      <th>publisher</th>\n",
       "    </tr>\n",
       "  </thead>\n",
       "  <tbody>\n",
       "    <tr>\n",
       "      <th>0</th>\n",
       "      <td>Forex market: Six banks apologise for making e...</td>\n",
       "      <td>BB asked them to set aside half of profit for ...</td>\n",
       "      <td>2022-09-23 08:40:00+06:00</td>\n",
       "      <td>https://www.thedailystar.net/business/economy/...</td>\n",
       "      <td>2022-09-24 00:55:08</td>\n",
       "      <td>thedailystar</td>\n",
       "    </tr>\n",
       "    <tr>\n",
       "      <th>1</th>\n",
       "      <td>Why do Celtic fans hate the Royal family?</td>\n",
       "      <td>As football fans around the world united to mo...</td>\n",
       "      <td>2022-09-23 21:01:46+06:00</td>\n",
       "      <td>https://www.thedailystar.net/shout/news/why-do...</td>\n",
       "      <td>2022-09-24 00:55:10</td>\n",
       "      <td>thedailystar</td>\n",
       "    </tr>\n",
       "    <tr>\n",
       "      <th>2</th>\n",
       "      <td>1 killed as electric pole crashes thru bus win...</td>\n",
       "      <td>1 killed as electric pole crashes thru bus win...</td>\n",
       "      <td>2022-09-23 21:09:04+06:00</td>\n",
       "      <td>https://www.thedailystar.net/news/bangladesh/a...</td>\n",
       "      <td>2022-09-24 00:55:12</td>\n",
       "      <td>thedailystar</td>\n",
       "    </tr>\n",
       "    <tr>\n",
       "      <th>3</th>\n",
       "      <td>How Bangladesh can achieve universal health co...</td>\n",
       "      <td>Just a glimpse at the budget allocation for he...</td>\n",
       "      <td>2022-09-23 01:41:59+06:00</td>\n",
       "      <td>https://www.thedailystar.net/opinion/views/new...</td>\n",
       "      <td>2022-09-24 00:55:13</td>\n",
       "      <td>thedailystar</td>\n",
       "    </tr>\n",
       "    <tr>\n",
       "      <th>4</th>\n",
       "      <td>Bollywood, sex education, and teaching consent</td>\n",
       "      <td>I found out last Sunday that Ajay Devgn taught...</td>\n",
       "      <td>2022-09-23 00:00:00+06:00</td>\n",
       "      <td>https://www.thedailystar.net/opinion/views/new...</td>\n",
       "      <td>2022-09-24 00:55:15</td>\n",
       "      <td>thedailystar</td>\n",
       "    </tr>\n",
       "  </tbody>\n",
       "</table>\n",
       "</div>"
      ],
      "text/plain": [
       "                                               title  \\\n",
       "0  Forex market: Six banks apologise for making e...   \n",
       "1          Why do Celtic fans hate the Royal family?   \n",
       "2  1 killed as electric pole crashes thru bus win...   \n",
       "3  How Bangladesh can achieve universal health co...   \n",
       "4     Bollywood, sex education, and teaching consent   \n",
       "\n",
       "                                                text  \\\n",
       "0  BB asked them to set aside half of profit for ...   \n",
       "1  As football fans around the world united to mo...   \n",
       "2  1 killed as electric pole crashes thru bus win...   \n",
       "3  Just a glimpse at the budget allocation for he...   \n",
       "4  I found out last Sunday that Ajay Devgn taught...   \n",
       "\n",
       "                publish_date  \\\n",
       "0  2022-09-23 08:40:00+06:00   \n",
       "1  2022-09-23 21:01:46+06:00   \n",
       "2  2022-09-23 21:09:04+06:00   \n",
       "3  2022-09-23 01:41:59+06:00   \n",
       "4  2022-09-23 00:00:00+06:00   \n",
       "\n",
       "                                                urls news_collection_time  \\\n",
       "0  https://www.thedailystar.net/business/economy/...  2022-09-24 00:55:08   \n",
       "1  https://www.thedailystar.net/shout/news/why-do...  2022-09-24 00:55:10   \n",
       "2  https://www.thedailystar.net/news/bangladesh/a...  2022-09-24 00:55:12   \n",
       "3  https://www.thedailystar.net/opinion/views/new...  2022-09-24 00:55:13   \n",
       "4  https://www.thedailystar.net/opinion/views/new...  2022-09-24 00:55:15   \n",
       "\n",
       "      publisher  \n",
       "0  thedailystar  \n",
       "1  thedailystar  \n",
       "2  thedailystar  \n",
       "3  thedailystar  \n",
       "4  thedailystar  "
      ]
     },
     "execution_count": 6,
     "metadata": {},
     "output_type": "execute_result"
    }
   ],
   "source": [
    "title1=[]\n",
    "text1=[]\n",
    "dates1=[]\n",
    "urls1=[]\n",
    "time1=[]\n",
    "publisher1=[]\n",
    "for i in tqdm(range(0,len(startup_paper1.articles))): #len(startup_paper.articles)\n",
    "    brand=startup_paper1.brand\n",
    "    startup_article = startup_paper1.articles[i]\n",
    "    #startup_url = startup_paper.category_urls()[i]\n",
    "    startup_article.download()\n",
    "    d=datetime.today()\n",
    "    tz = timezone(timedelta(hours=6))\n",
    "    new_time = d.astimezone(tz)\n",
    "    \n",
    "    \n",
    "    try:\n",
    "        startup_article.parse()\n",
    "    except (newspaper.article.ArticleException,OSError) as e:\n",
    "        print(e)\n",
    "        \n",
    "    if len(startup_article.text) !=0:\n",
    "        title1.append(startup_article.title)\n",
    "        text1.append(startup_article.text)\n",
    "        dates1.append(startup_article.publish_date)\n",
    "        urls1.append(startup_article.url)\n",
    "        time1.append(new_time.strftime('%Y-%m-%d %H:%M:%S'))\n",
    "        publisher1.append(brand)\n",
    "        \n",
    "d1 = {'title': title1, 'text': text1, 'publish_date': dates1, 'urls' : urls1, 'news_collection_time' : time1, 'publisher' :publisher1}\n",
    "df1 = pd.DataFrame(data=d1)\n",
    "df1.to_csv(\"dailystar_daily_news.csv\")\n",
    "df1.head()"
   ]
  },
  {
   "cell_type": "code",
   "execution_count": 7,
   "id": "5b90ba53",
   "metadata": {
    "execution": {
     "iopub.execute_input": "2022-09-23T19:20:40.603602Z",
     "iopub.status.busy": "2022-09-23T19:20:40.603149Z",
     "iopub.status.idle": "2022-09-23T20:46:01.546638Z",
     "shell.execute_reply": "2022-09-23T20:46:01.545803Z"
    },
    "papermill": {
     "duration": 5120.99134,
     "end_time": "2022-09-23T20:46:01.548373",
     "exception": false,
     "start_time": "2022-09-23T19:20:40.557033",
     "status": "completed"
    },
    "tags": []
   },
   "outputs": [
    {
     "name": "stderr",
     "output_type": "stream",
     "text": [
      " 56%|█████▌    | 2788/5000 [46:46<1:53:53,  3.09s/it]"
     ]
    },
    {
     "name": "stdout",
     "output_type": "stream",
     "text": [
      "Article `download()` failed with HTTPSConnectionPool(host='thefinancialexpress.com.bd', port=443): Read timed out. (read timeout=7) on URL https://thefinancialexpress.com.bd/national/politics/party-bigger-to-me-than-relatives-ershad-1512916623\n"
     ]
    },
    {
     "name": "stderr",
     "output_type": "stream",
     "text": [
      "100%|██████████| 5000/5000 [1:25:20<00:00,  1.02s/it]\n"
     ]
    },
    {
     "data": {
      "text/html": [
       "<div>\n",
       "<style scoped>\n",
       "    .dataframe tbody tr th:only-of-type {\n",
       "        vertical-align: middle;\n",
       "    }\n",
       "\n",
       "    .dataframe tbody tr th {\n",
       "        vertical-align: top;\n",
       "    }\n",
       "\n",
       "    .dataframe thead th {\n",
       "        text-align: right;\n",
       "    }\n",
       "</style>\n",
       "<table border=\"1\" class=\"dataframe\">\n",
       "  <thead>\n",
       "    <tr style=\"text-align: right;\">\n",
       "      <th></th>\n",
       "      <th>title</th>\n",
       "      <th>text</th>\n",
       "      <th>publish_date</th>\n",
       "      <th>urls</th>\n",
       "      <th>news_collection_time</th>\n",
       "      <th>publisher</th>\n",
       "    </tr>\n",
       "  </thead>\n",
       "  <tbody>\n",
       "    <tr>\n",
       "      <th>0</th>\n",
       "      <td>Covid positivity rate rises to 15.38pc in Bang...</td>\n",
       "      <td>Covid positivity rate rises to 15.38pc in Bang...</td>\n",
       "      <td>None</td>\n",
       "      <td>https://thefinancialexpress.com.bd/national/co...</td>\n",
       "      <td>2022-09-24 01:20:41</td>\n",
       "      <td>thefinancialexpress</td>\n",
       "    </tr>\n",
       "    <tr>\n",
       "      <th>1</th>\n",
       "      <td>FBCCI seeks US investment in SEZ, hi-tech parks</td>\n",
       "      <td>The Federation of Bangladesh Chambers of Comme...</td>\n",
       "      <td>None</td>\n",
       "      <td>https://thefinancialexpress.com.bd/economy/ban...</td>\n",
       "      <td>2022-09-24 01:20:42</td>\n",
       "      <td>thefinancialexpress</td>\n",
       "    </tr>\n",
       "    <tr>\n",
       "      <th>2</th>\n",
       "      <td>PM Hasina places five proposals at UN to suppo...</td>\n",
       "      <td>Prime Minister Sheikh Hasina has placed five p...</td>\n",
       "      <td>None</td>\n",
       "      <td>https://thefinancialexpress.com.bd/national/pm...</td>\n",
       "      <td>2022-09-24 01:20:43</td>\n",
       "      <td>thefinancialexpress</td>\n",
       "    </tr>\n",
       "    <tr>\n",
       "      <th>3</th>\n",
       "      <td>Imranur shatters 100 metre Bangladesh sprint r...</td>\n",
       "      <td>Imranur Rahman has shredded his own record in ...</td>\n",
       "      <td>None</td>\n",
       "      <td>https://thefinancialexpress.com.bd/sports/imra...</td>\n",
       "      <td>2022-09-24 01:20:44</td>\n",
       "      <td>thefinancialexpress</td>\n",
       "    </tr>\n",
       "    <tr>\n",
       "      <th>4</th>\n",
       "      <td>BRT unlikely to ease traffic mess</td>\n",
       "      <td>From the beginning, it has been argued by many...</td>\n",
       "      <td>None</td>\n",
       "      <td>https://thefinancialexpress.com.bd/views/opini...</td>\n",
       "      <td>2022-09-24 01:20:45</td>\n",
       "      <td>thefinancialexpress</td>\n",
       "    </tr>\n",
       "  </tbody>\n",
       "</table>\n",
       "</div>"
      ],
      "text/plain": [
       "                                               title  \\\n",
       "0  Covid positivity rate rises to 15.38pc in Bang...   \n",
       "1    FBCCI seeks US investment in SEZ, hi-tech parks   \n",
       "2  PM Hasina places five proposals at UN to suppo...   \n",
       "3  Imranur shatters 100 metre Bangladesh sprint r...   \n",
       "4                  BRT unlikely to ease traffic mess   \n",
       "\n",
       "                                                text publish_date  \\\n",
       "0  Covid positivity rate rises to 15.38pc in Bang...         None   \n",
       "1  The Federation of Bangladesh Chambers of Comme...         None   \n",
       "2  Prime Minister Sheikh Hasina has placed five p...         None   \n",
       "3  Imranur Rahman has shredded his own record in ...         None   \n",
       "4  From the beginning, it has been argued by many...         None   \n",
       "\n",
       "                                                urls news_collection_time  \\\n",
       "0  https://thefinancialexpress.com.bd/national/co...  2022-09-24 01:20:41   \n",
       "1  https://thefinancialexpress.com.bd/economy/ban...  2022-09-24 01:20:42   \n",
       "2  https://thefinancialexpress.com.bd/national/pm...  2022-09-24 01:20:43   \n",
       "3  https://thefinancialexpress.com.bd/sports/imra...  2022-09-24 01:20:44   \n",
       "4  https://thefinancialexpress.com.bd/views/opini...  2022-09-24 01:20:45   \n",
       "\n",
       "             publisher  \n",
       "0  thefinancialexpress  \n",
       "1  thefinancialexpress  \n",
       "2  thefinancialexpress  \n",
       "3  thefinancialexpress  \n",
       "4  thefinancialexpress  "
      ]
     },
     "execution_count": 7,
     "metadata": {},
     "output_type": "execute_result"
    }
   ],
   "source": [
    "title2=[]\n",
    "text2=[]\n",
    "dates2=[]\n",
    "urls2=[]\n",
    "time2=[]\n",
    "publisher2=[]\n",
    "for i in tqdm(range(0,len(startup_paper2.articles))): #len(startup_paper.articles)\n",
    "    brand=startup_paper2.brand\n",
    "    startup_article = startup_paper2.articles[i]\n",
    "    #startup_url = startup_paper.category_urls()[i]\n",
    "    startup_article.download()\n",
    "    d=datetime.today()\n",
    "    tz = timezone(timedelta(hours=6))\n",
    "    new_time = d.astimezone(tz)\n",
    "    \n",
    "    try:\n",
    "        startup_article.parse()\n",
    "    except (newspaper.article.ArticleException,OSError) as e:\n",
    "        print(e)\n",
    "        \n",
    "    if len(startup_article.text) !=0:\n",
    "        title2.append(startup_article.title)\n",
    "        text2.append(startup_article.text)\n",
    "        dates2.append(startup_article.publish_date)\n",
    "        urls2.append(startup_article.url)\n",
    "        time2.append(new_time.strftime('%Y-%m-%d %H:%M:%S'))\n",
    "        publisher2.append(brand)\n",
    "d2 = {'title': title2, 'text': text2, 'publish_date': dates2, 'urls' : urls2, 'news_collection_time' : time2,'publisher' :publisher2}\n",
    "df2 = pd.DataFrame(data=d2)\n",
    "df2.to_csv(\"financialexpress_daily_news.csv\")\n",
    "df2.head()"
   ]
  },
  {
   "cell_type": "code",
   "execution_count": 8,
   "id": "73e4ace3",
   "metadata": {
    "execution": {
     "iopub.execute_input": "2022-09-23T20:46:02.184198Z",
     "iopub.status.busy": "2022-09-23T20:46:02.183079Z",
     "iopub.status.idle": "2022-09-23T20:48:27.555728Z",
     "shell.execute_reply": "2022-09-23T20:48:27.554391Z"
    },
    "papermill": {
     "duration": 145.69195,
     "end_time": "2022-09-23T20:48:27.558132",
     "exception": false,
     "start_time": "2022-09-23T20:46:01.866182",
     "status": "completed"
    },
    "tags": []
   },
   "outputs": [
    {
     "name": "stderr",
     "output_type": "stream",
     "text": [
      " 12%|█▏        | 17/146 [00:16<01:59,  1.08it/s]"
     ]
    },
    {
     "name": "stdout",
     "output_type": "stream",
     "text": [
      "You must `download()` an article first!\n"
     ]
    },
    {
     "name": "stderr",
     "output_type": "stream",
     "text": [
      "100%|██████████| 146/146 [02:25<00:00,  1.00it/s]\n"
     ]
    },
    {
     "data": {
      "text/html": [
       "<div>\n",
       "<style scoped>\n",
       "    .dataframe tbody tr th:only-of-type {\n",
       "        vertical-align: middle;\n",
       "    }\n",
       "\n",
       "    .dataframe tbody tr th {\n",
       "        vertical-align: top;\n",
       "    }\n",
       "\n",
       "    .dataframe thead th {\n",
       "        text-align: right;\n",
       "    }\n",
       "</style>\n",
       "<table border=\"1\" class=\"dataframe\">\n",
       "  <thead>\n",
       "    <tr style=\"text-align: right;\">\n",
       "      <th></th>\n",
       "      <th>title</th>\n",
       "      <th>text</th>\n",
       "      <th>publish_date</th>\n",
       "      <th>urls</th>\n",
       "      <th>news_collection_time</th>\n",
       "      <th>publisher</th>\n",
       "    </tr>\n",
       "  </thead>\n",
       "  <tbody>\n",
       "    <tr>\n",
       "      <th>0</th>\n",
       "      <td>Police, BCL block treatment: family</td>\n",
       "      <td>The family of Shahidul Islam Shaon, a Juba Dal...</td>\n",
       "      <td>None</td>\n",
       "      <td>https://www.newagebd.net/article/181908/police...</td>\n",
       "      <td>2022-09-24 02:46:03</td>\n",
       "      <td>newagebd</td>\n",
       "    </tr>\n",
       "    <tr>\n",
       "      <th>1</th>\n",
       "      <td>Bara Katra partially demolished, more heritage...</td>\n",
       "      <td>Selfish people demolish a portion of Bara Katr...</td>\n",
       "      <td>None</td>\n",
       "      <td>https://www.newagebd.net/article/181907/bara-k...</td>\n",
       "      <td>2022-09-24 02:46:04</td>\n",
       "      <td>newagebd</td>\n",
       "    </tr>\n",
       "    <tr>\n",
       "      <th>2</th>\n",
       "      <td>Govt firing on movement out of fear: BNP</td>\n",
       "      <td>The Mohammadpur Zone of the Dhaka north city u...</td>\n",
       "      <td>None</td>\n",
       "      <td>https://www.newagebd.net/article/181906/govt-f...</td>\n",
       "      <td>2022-09-24 02:46:04</td>\n",
       "      <td>newagebd</td>\n",
       "    </tr>\n",
       "    <tr>\n",
       "      <th>3</th>\n",
       "      <td>Sporadic firings along border continue</td>\n",
       "      <td>Several hundred people whose livelihood depend...</td>\n",
       "      <td>None</td>\n",
       "      <td>https://www.newagebd.net/article/181905/sporad...</td>\n",
       "      <td>2022-09-24 02:46:05</td>\n",
       "      <td>newagebd</td>\n",
       "    </tr>\n",
       "    <tr>\n",
       "      <th>4</th>\n",
       "      <td>NSI now starts visiting victim families</td>\n",
       "      <td>National Security Intelligence officials have ...</td>\n",
       "      <td>None</td>\n",
       "      <td>https://www.newagebd.net/article/181904/nsi-no...</td>\n",
       "      <td>2022-09-24 02:46:06</td>\n",
       "      <td>newagebd</td>\n",
       "    </tr>\n",
       "  </tbody>\n",
       "</table>\n",
       "</div>"
      ],
      "text/plain": [
       "                                               title  \\\n",
       "0                Police, BCL block treatment: family   \n",
       "1  Bara Katra partially demolished, more heritage...   \n",
       "2           Govt firing on movement out of fear: BNP   \n",
       "3             Sporadic firings along border continue   \n",
       "4            NSI now starts visiting victim families   \n",
       "\n",
       "                                                text publish_date  \\\n",
       "0  The family of Shahidul Islam Shaon, a Juba Dal...         None   \n",
       "1  Selfish people demolish a portion of Bara Katr...         None   \n",
       "2  The Mohammadpur Zone of the Dhaka north city u...         None   \n",
       "3  Several hundred people whose livelihood depend...         None   \n",
       "4  National Security Intelligence officials have ...         None   \n",
       "\n",
       "                                                urls news_collection_time  \\\n",
       "0  https://www.newagebd.net/article/181908/police...  2022-09-24 02:46:03   \n",
       "1  https://www.newagebd.net/article/181907/bara-k...  2022-09-24 02:46:04   \n",
       "2  https://www.newagebd.net/article/181906/govt-f...  2022-09-24 02:46:04   \n",
       "3  https://www.newagebd.net/article/181905/sporad...  2022-09-24 02:46:05   \n",
       "4  https://www.newagebd.net/article/181904/nsi-no...  2022-09-24 02:46:06   \n",
       "\n",
       "  publisher  \n",
       "0  newagebd  \n",
       "1  newagebd  \n",
       "2  newagebd  \n",
       "3  newagebd  \n",
       "4  newagebd  "
      ]
     },
     "execution_count": 8,
     "metadata": {},
     "output_type": "execute_result"
    }
   ],
   "source": [
    "title3=[]\n",
    "text3=[]\n",
    "dates3=[]\n",
    "urls3=[]\n",
    "time3=[]\n",
    "publisher3=[]\n",
    "for i in tqdm(range(0,len(startup_paper3.articles))): #len(startup_paper.articles)\n",
    "    brand=startup_paper3.brand\n",
    "    startup_article = startup_paper3.articles[i]\n",
    "    #startup_url = startup_paper.category_urls()[i]\n",
    "    startup_article.download()\n",
    "    d=datetime.today()\n",
    "    tz = timezone(timedelta(hours=6))\n",
    "    new_time = d.astimezone(tz)\n",
    "    \n",
    "    try:\n",
    "        startup_article.parse()\n",
    "    except (newspaper.article.ArticleException,OSError) as e:\n",
    "        print(e)\n",
    "        \n",
    "    if len(startup_article.text) !=0:\n",
    "        title3.append(startup_article.title)\n",
    "        text3.append(startup_article.text)\n",
    "        dates3.append(startup_article.publish_date)\n",
    "        urls3.append(startup_article.url)\n",
    "        time3.append(new_time.strftime('%Y-%m-%d %H:%M:%S'))\n",
    "        publisher3.append(brand)\n",
    "        \n",
    "d3 = {'title': title3, 'text': text3, 'publish_date': dates3, 'urls' : urls3, 'news_collection_time' : time3, 'publisher' :publisher3}\n",
    "df3 = pd.DataFrame(data=d3)\n",
    "df3.to_csv(\"newagebd_daily_news.csv\")\n",
    "df3.head()"
   ]
  },
  {
   "cell_type": "code",
   "execution_count": 9,
   "id": "98ce2886",
   "metadata": {
    "execution": {
     "iopub.execute_input": "2022-09-23T20:48:28.223299Z",
     "iopub.status.busy": "2022-09-23T20:48:28.222983Z",
     "iopub.status.idle": "2022-09-23T20:48:31.346136Z",
     "shell.execute_reply": "2022-09-23T20:48:31.344996Z"
    },
    "papermill": {
     "duration": 3.452596,
     "end_time": "2022-09-23T20:48:31.348243",
     "exception": false,
     "start_time": "2022-09-23T20:48:27.895647",
     "status": "completed"
    },
    "tags": []
   },
   "outputs": [
    {
     "name": "stderr",
     "output_type": "stream",
     "text": [
      "100%|██████████| 6/6 [00:03<00:00,  1.93it/s]\n"
     ]
    },
    {
     "data": {
      "text/html": [
       "<div>\n",
       "<style scoped>\n",
       "    .dataframe tbody tr th:only-of-type {\n",
       "        vertical-align: middle;\n",
       "    }\n",
       "\n",
       "    .dataframe tbody tr th {\n",
       "        vertical-align: top;\n",
       "    }\n",
       "\n",
       "    .dataframe thead th {\n",
       "        text-align: right;\n",
       "    }\n",
       "</style>\n",
       "<table border=\"1\" class=\"dataframe\">\n",
       "  <thead>\n",
       "    <tr style=\"text-align: right;\">\n",
       "      <th></th>\n",
       "      <th>title</th>\n",
       "      <th>text</th>\n",
       "      <th>publish_date</th>\n",
       "      <th>urls</th>\n",
       "      <th>news_collection_time</th>\n",
       "      <th>publisher</th>\n",
       "    </tr>\n",
       "  </thead>\n",
       "  <tbody>\n",
       "  </tbody>\n",
       "</table>\n",
       "</div>"
      ],
      "text/plain": [
       "Empty DataFrame\n",
       "Columns: [title, text, publish_date, urls, news_collection_time, publisher]\n",
       "Index: []"
      ]
     },
     "execution_count": 9,
     "metadata": {},
     "output_type": "execute_result"
    }
   ],
   "source": [
    "title4=[]\n",
    "text4=[]\n",
    "dates4=[]\n",
    "urls4=[]\n",
    "time4=[]\n",
    "publisher4=[]\n",
    "for i in tqdm(range(0,len(startup_paper4.articles))): #len(startup_paper.articles)\n",
    "    brand=startup_paper4.brand\n",
    "    startup_article = startup_paper4.articles[i]\n",
    "    #startup_url = startup_paper.category_urls()[i]\n",
    "    startup_article.download()\n",
    "    d=datetime.today()\n",
    "    tz = timezone(timedelta(hours=6))\n",
    "    new_time = d.astimezone(tz)\n",
    "    \n",
    "    try:\n",
    "        startup_article.parse()\n",
    "    except (newspaper.article.ArticleException,OSError) as e:\n",
    "        print(e)\n",
    "        \n",
    "    if len(startup_article.text) !=0:\n",
    "        title4.append(startup_article.title)\n",
    "        text4.append(startup_article.text)\n",
    "        dates4.append(startup_article.publish_date)\n",
    "        urls4.append(startup_article.url)\n",
    "        time4.append(new_time.strftime('%Y-%m-%d %H:%M:%S'))\n",
    "        publisher4.append(brand)\n",
    "        \n",
    "d4 = {'title': title4, 'text': text4, 'publish_date': dates4, 'urls' : urls4, 'news_collection_time' : time4, 'publisher' :publisher4}\n",
    "df4 = pd.DataFrame(data=d4)\n",
    "df4.to_csv(\"dhakatribune_daily_news.csv\")\n",
    "df4.head()"
   ]
  },
  {
   "cell_type": "code",
   "execution_count": 10,
   "id": "fb71bab7",
   "metadata": {
    "execution": {
     "iopub.execute_input": "2022-09-23T20:48:32.007888Z",
     "iopub.status.busy": "2022-09-23T20:48:32.007444Z",
     "iopub.status.idle": "2022-09-23T20:50:25.339252Z",
     "shell.execute_reply": "2022-09-23T20:50:25.338149Z"
    },
    "papermill": {
     "duration": 113.665423,
     "end_time": "2022-09-23T20:50:25.341365",
     "exception": false,
     "start_time": "2022-09-23T20:48:31.675942",
     "status": "completed"
    },
    "tags": []
   },
   "outputs": [
    {
     "name": "stderr",
     "output_type": "stream",
     "text": [
      "100%|██████████| 133/133 [01:53<00:00,  1.17it/s]\n"
     ]
    },
    {
     "data": {
      "text/html": [
       "<div>\n",
       "<style scoped>\n",
       "    .dataframe tbody tr th:only-of-type {\n",
       "        vertical-align: middle;\n",
       "    }\n",
       "\n",
       "    .dataframe tbody tr th {\n",
       "        vertical-align: top;\n",
       "    }\n",
       "\n",
       "    .dataframe thead th {\n",
       "        text-align: right;\n",
       "    }\n",
       "</style>\n",
       "<table border=\"1\" class=\"dataframe\">\n",
       "  <thead>\n",
       "    <tr style=\"text-align: right;\">\n",
       "      <th></th>\n",
       "      <th>title</th>\n",
       "      <th>text</th>\n",
       "      <th>publish_date</th>\n",
       "      <th>urls</th>\n",
       "      <th>news_collection_time</th>\n",
       "      <th>publisher</th>\n",
       "    </tr>\n",
       "  </thead>\n",
       "  <tbody>\n",
       "    <tr>\n",
       "      <th>0</th>\n",
       "      <td>Online Version</td>\n",
       "      <td>Why Queen's funeral will be an event beyond co...</td>\n",
       "      <td>None</td>\n",
       "      <td>https://www.daily-sun.com/online/feature</td>\n",
       "      <td>2022-09-24 02:48:32</td>\n",
       "      <td>daily-sun</td>\n",
       "    </tr>\n",
       "    <tr>\n",
       "      <th>1</th>\n",
       "      <td>Bangladeshis to be honoured in New York</td>\n",
       "      <td>Bangladeshi expatriates who have showed their ...</td>\n",
       "      <td>None</td>\n",
       "      <td>https://www.daily-sun.com/post/646294/Banglade...</td>\n",
       "      <td>2022-09-24 02:48:33</td>\n",
       "      <td>daily-sun</td>\n",
       "    </tr>\n",
       "    <tr>\n",
       "      <th>2</th>\n",
       "      <td>Four killed in blast near Kabul mosque: hospital</td>\n",
       "      <td>A blast outside a mosque attended by Taliban m...</td>\n",
       "      <td>None</td>\n",
       "      <td>https://www.daily-sun.com/post/646276/Four-kil...</td>\n",
       "      <td>2022-09-24 02:48:33</td>\n",
       "      <td>daily-sun</td>\n",
       "    </tr>\n",
       "    <tr>\n",
       "      <th>3</th>\n",
       "      <td>Dengue death toll rises to 50: DGHS</td>\n",
       "      <td>Two more dengue patients died in 24 hours till...</td>\n",
       "      <td>None</td>\n",
       "      <td>https://www.daily-sun.com/post/646273/Dengue-d...</td>\n",
       "      <td>2022-09-24 02:48:34</td>\n",
       "      <td>daily-sun</td>\n",
       "    </tr>\n",
       "    <tr>\n",
       "      <th>4</th>\n",
       "      <td>M Khurshid Hossain made new RAB DG</td>\n",
       "      <td>Additional Inspector General of Police M Khurs...</td>\n",
       "      <td>None</td>\n",
       "      <td>https://www.daily-sun.com/post/646063/M-Khursh...</td>\n",
       "      <td>2022-09-24 02:48:34</td>\n",
       "      <td>daily-sun</td>\n",
       "    </tr>\n",
       "  </tbody>\n",
       "</table>\n",
       "</div>"
      ],
      "text/plain": [
       "                                              title  \\\n",
       "0                                    Online Version   \n",
       "1           Bangladeshis to be honoured in New York   \n",
       "2  Four killed in blast near Kabul mosque: hospital   \n",
       "3               Dengue death toll rises to 50: DGHS   \n",
       "4                M Khurshid Hossain made new RAB DG   \n",
       "\n",
       "                                                text publish_date  \\\n",
       "0  Why Queen's funeral will be an event beyond co...         None   \n",
       "1  Bangladeshi expatriates who have showed their ...         None   \n",
       "2  A blast outside a mosque attended by Taliban m...         None   \n",
       "3  Two more dengue patients died in 24 hours till...         None   \n",
       "4  Additional Inspector General of Police M Khurs...         None   \n",
       "\n",
       "                                                urls news_collection_time  \\\n",
       "0           https://www.daily-sun.com/online/feature  2022-09-24 02:48:32   \n",
       "1  https://www.daily-sun.com/post/646294/Banglade...  2022-09-24 02:48:33   \n",
       "2  https://www.daily-sun.com/post/646276/Four-kil...  2022-09-24 02:48:33   \n",
       "3  https://www.daily-sun.com/post/646273/Dengue-d...  2022-09-24 02:48:34   \n",
       "4  https://www.daily-sun.com/post/646063/M-Khursh...  2022-09-24 02:48:34   \n",
       "\n",
       "   publisher  \n",
       "0  daily-sun  \n",
       "1  daily-sun  \n",
       "2  daily-sun  \n",
       "3  daily-sun  \n",
       "4  daily-sun  "
      ]
     },
     "execution_count": 10,
     "metadata": {},
     "output_type": "execute_result"
    }
   ],
   "source": [
    "title5=[]\n",
    "text5=[]\n",
    "dates5=[]\n",
    "urls5=[]\n",
    "time5=[]\n",
    "publisher5=[]\n",
    "for i in tqdm(range(0,len(startup_paper5.articles))): #len(startup_paper.articles)\n",
    "    brand=startup_paper5.brand\n",
    "    startup_article = startup_paper5.articles[i]\n",
    "    #startup_url = startup_paper.category_urls()[i]\n",
    "    startup_article.download()\n",
    "    d=datetime.today()\n",
    "    tz = timezone(timedelta(hours=6))\n",
    "    new_time = d.astimezone(tz)\n",
    "    \n",
    "    try:\n",
    "        startup_article.parse()\n",
    "    except (newspaper.article.ArticleException,OSError) as e:\n",
    "        print(e)\n",
    "        startup_article.nlp()\n",
    "    if len(startup_article.text) !=0:\n",
    "        title5.append(startup_article.title)\n",
    "        text5.append(startup_article.text)\n",
    "        dates5.append(startup_article.publish_date)\n",
    "        urls5.append(startup_article.url)\n",
    "        time5.append(new_time.strftime('%Y-%m-%d %H:%M:%S'))\n",
    "        publisher5.append(brand)\n",
    "        \n",
    "d5 = {'title': title5, 'text': text5, 'publish_date': dates5, 'urls' : urls5, 'news_collection_time' : time5, 'publisher' :publisher5}\n",
    "df5 = pd.DataFrame(data=d5)\n",
    "df5.to_csv(\"dailysun_daily_news.csv\")\n",
    "df5.head()"
   ]
  },
  {
   "cell_type": "code",
   "execution_count": 11,
   "id": "e38ae103",
   "metadata": {
    "execution": {
     "iopub.execute_input": "2022-09-23T20:50:26.014099Z",
     "iopub.status.busy": "2022-09-23T20:50:26.013749Z",
     "iopub.status.idle": "2022-09-23T20:50:26.019319Z",
     "shell.execute_reply": "2022-09-23T20:50:26.018395Z"
    },
    "papermill": {
     "duration": 0.344895,
     "end_time": "2022-09-23T20:50:26.021985",
     "exception": false,
     "start_time": "2022-09-23T20:50:25.677090",
     "status": "completed"
    },
    "tags": []
   },
   "outputs": [],
   "source": [
    "# title6=[]\n",
    "# text6=[]\n",
    "# dates6=[]\n",
    "# urls6=[]\n",
    "# time6=[]\n",
    "# publisher6=[]\n",
    "# for i in tqdm(range(0,len(startup_paper6.articles))): #len(startup_paper.articles)\n",
    "#     brand=startup_paper6.brand\n",
    "#     startup_article = startup_paper6.articles[i]\n",
    "#     #startup_url = startup_paper.category_urls()[i]\n",
    "#     startup_article.download()\n",
    "#     d=datetime.today()\n",
    "#     tz = timezone(timedelta(hours=6))\n",
    "#     new_time = d.astimezone(tz)\n",
    "#     try:\n",
    "#         startup_article.parse()\n",
    "#     except (newspaper.article.ArticleException,OSError) as e:\n",
    "#         print(e)\n",
    "       \n",
    "#     if len(startup_article.text) !=0:\n",
    "#         title6.append(startup_article.title)\n",
    "#         text6.append(startup_article.text)\n",
    "#         dates6.append(startup_article.publish_date)\n",
    "#         urls6.append(startup_article.url)\n",
    "#         time6.append(new_time.strftime('%Y-%m-%d %H:%M:%S'))\n",
    "#         publisher6.append(brand)\n",
    "        \n",
    "# d6 = {'title': title6, 'text': text6, 'publish_date': dates6, 'urls' : urls6, 'news_collection_time' : time6, 'publisher' :publisher6}\n",
    "# df6 = pd.DataFrame(data=d6)\n",
    "# df6.to_csv(\"theindependentbd_daily_news.csv\")\n",
    "# df6.head()"
   ]
  },
  {
   "cell_type": "code",
   "execution_count": 12,
   "id": "70164f14",
   "metadata": {
    "execution": {
     "iopub.execute_input": "2022-09-23T20:50:26.773576Z",
     "iopub.status.busy": "2022-09-23T20:50:26.772995Z",
     "iopub.status.idle": "2022-09-23T20:50:26.806001Z",
     "shell.execute_reply": "2022-09-23T20:50:26.804929Z"
    },
    "papermill": {
     "duration": 0.369039,
     "end_time": "2022-09-23T20:50:26.807684",
     "exception": false,
     "start_time": "2022-09-23T20:50:26.438645",
     "status": "completed"
    },
    "tags": []
   },
   "outputs": [],
   "source": [
    "df1['publish_date']=pd.to_datetime(df1['publish_date'], utc=True).dt.strftime('%Y-%m-%d %H:%M:%S')\n",
    "df2['publish_date']=pd.to_datetime(df2['publish_date'], utc=True).dt.strftime('%Y-%m-%d %H:%M:%S')\n",
    "df3['publish_date']=pd.to_datetime(df3['publish_date'], utc=True).dt.strftime('%Y-%m-%d %H:%M:%S')\n",
    "df4['publish_date']=pd.to_datetime(df4['publish_date'], utc=True).dt.strftime('%Y-%m-%d %H:%M:%S')\n",
    "df5['publish_date']=pd.to_datetime(df5['publish_date'], utc=True).dt.strftime('%Y-%m-%d %H:%M:%S')\n",
    "# df6['publish_date']=pd.to_datetime(df6['publish_date']).dt.strftime('%Y-%m-%d %H:%M:%S')"
   ]
  },
  {
   "cell_type": "code",
   "execution_count": 13,
   "id": "0493a518",
   "metadata": {
    "execution": {
     "iopub.execute_input": "2022-09-23T20:50:27.480925Z",
     "iopub.status.busy": "2022-09-23T20:50:27.480540Z",
     "iopub.status.idle": "2022-09-23T20:50:27.703661Z",
     "shell.execute_reply": "2022-09-23T20:50:27.702823Z"
    },
    "papermill": {
     "duration": 0.561386,
     "end_time": "2022-09-23T20:50:27.706223",
     "exception": false,
     "start_time": "2022-09-23T20:50:27.144837",
     "status": "completed"
    },
    "tags": []
   },
   "outputs": [],
   "source": [
    "data=pd.concat([df1,df2,df3,df4,df5],ignore_index=True)\n",
    "data.head()\n",
    "data.to_csv(\"bangladeshi_all_engish_newspapers_daily_news_combined_dataset.csv\")"
   ]
  },
  {
   "cell_type": "code",
   "execution_count": 14,
   "id": "ec4deace",
   "metadata": {
    "execution": {
     "iopub.execute_input": "2022-09-23T20:50:28.374426Z",
     "iopub.status.busy": "2022-09-23T20:50:28.374019Z",
     "iopub.status.idle": "2022-09-23T20:50:28.386039Z",
     "shell.execute_reply": "2022-09-23T20:50:28.385237Z"
    },
    "papermill": {
     "duration": 0.346809,
     "end_time": "2022-09-23T20:50:28.387768",
     "exception": false,
     "start_time": "2022-09-23T20:50:28.040959",
     "status": "completed"
    },
    "tags": []
   },
   "outputs": [
    {
     "data": {
      "text/html": [
       "<div>\n",
       "<style scoped>\n",
       "    .dataframe tbody tr th:only-of-type {\n",
       "        vertical-align: middle;\n",
       "    }\n",
       "\n",
       "    .dataframe tbody tr th {\n",
       "        vertical-align: top;\n",
       "    }\n",
       "\n",
       "    .dataframe thead th {\n",
       "        text-align: right;\n",
       "    }\n",
       "</style>\n",
       "<table border=\"1\" class=\"dataframe\">\n",
       "  <thead>\n",
       "    <tr style=\"text-align: right;\">\n",
       "      <th></th>\n",
       "      <th>title</th>\n",
       "      <th>text</th>\n",
       "      <th>publish_date</th>\n",
       "      <th>urls</th>\n",
       "      <th>news_collection_time</th>\n",
       "      <th>publisher</th>\n",
       "    </tr>\n",
       "  </thead>\n",
       "  <tbody>\n",
       "    <tr>\n",
       "      <th>0</th>\n",
       "      <td>Forex market: Six banks apologise for making e...</td>\n",
       "      <td>BB asked them to set aside half of profit for ...</td>\n",
       "      <td>2022-09-23 02:40:00</td>\n",
       "      <td>https://www.thedailystar.net/business/economy/...</td>\n",
       "      <td>2022-09-24 00:55:08</td>\n",
       "      <td>thedailystar</td>\n",
       "    </tr>\n",
       "    <tr>\n",
       "      <th>1</th>\n",
       "      <td>Why do Celtic fans hate the Royal family?</td>\n",
       "      <td>As football fans around the world united to mo...</td>\n",
       "      <td>2022-09-23 15:01:46</td>\n",
       "      <td>https://www.thedailystar.net/shout/news/why-do...</td>\n",
       "      <td>2022-09-24 00:55:10</td>\n",
       "      <td>thedailystar</td>\n",
       "    </tr>\n",
       "    <tr>\n",
       "      <th>2</th>\n",
       "      <td>1 killed as electric pole crashes thru bus win...</td>\n",
       "      <td>1 killed as electric pole crashes thru bus win...</td>\n",
       "      <td>2022-09-23 15:09:04</td>\n",
       "      <td>https://www.thedailystar.net/news/bangladesh/a...</td>\n",
       "      <td>2022-09-24 00:55:12</td>\n",
       "      <td>thedailystar</td>\n",
       "    </tr>\n",
       "    <tr>\n",
       "      <th>3</th>\n",
       "      <td>How Bangladesh can achieve universal health co...</td>\n",
       "      <td>Just a glimpse at the budget allocation for he...</td>\n",
       "      <td>2022-09-22 19:41:59</td>\n",
       "      <td>https://www.thedailystar.net/opinion/views/new...</td>\n",
       "      <td>2022-09-24 00:55:13</td>\n",
       "      <td>thedailystar</td>\n",
       "    </tr>\n",
       "    <tr>\n",
       "      <th>4</th>\n",
       "      <td>Bollywood, sex education, and teaching consent</td>\n",
       "      <td>I found out last Sunday that Ajay Devgn taught...</td>\n",
       "      <td>2022-09-22 18:00:00</td>\n",
       "      <td>https://www.thedailystar.net/opinion/views/new...</td>\n",
       "      <td>2022-09-24 00:55:15</td>\n",
       "      <td>thedailystar</td>\n",
       "    </tr>\n",
       "  </tbody>\n",
       "</table>\n",
       "</div>"
      ],
      "text/plain": [
       "                                               title  \\\n",
       "0  Forex market: Six banks apologise for making e...   \n",
       "1          Why do Celtic fans hate the Royal family?   \n",
       "2  1 killed as electric pole crashes thru bus win...   \n",
       "3  How Bangladesh can achieve universal health co...   \n",
       "4     Bollywood, sex education, and teaching consent   \n",
       "\n",
       "                                                text         publish_date  \\\n",
       "0  BB asked them to set aside half of profit for ...  2022-09-23 02:40:00   \n",
       "1  As football fans around the world united to mo...  2022-09-23 15:01:46   \n",
       "2  1 killed as electric pole crashes thru bus win...  2022-09-23 15:09:04   \n",
       "3  Just a glimpse at the budget allocation for he...  2022-09-22 19:41:59   \n",
       "4  I found out last Sunday that Ajay Devgn taught...  2022-09-22 18:00:00   \n",
       "\n",
       "                                                urls news_collection_time  \\\n",
       "0  https://www.thedailystar.net/business/economy/...  2022-09-24 00:55:08   \n",
       "1  https://www.thedailystar.net/shout/news/why-do...  2022-09-24 00:55:10   \n",
       "2  https://www.thedailystar.net/news/bangladesh/a...  2022-09-24 00:55:12   \n",
       "3  https://www.thedailystar.net/opinion/views/new...  2022-09-24 00:55:13   \n",
       "4  https://www.thedailystar.net/opinion/views/new...  2022-09-24 00:55:15   \n",
       "\n",
       "      publisher  \n",
       "0  thedailystar  \n",
       "1  thedailystar  \n",
       "2  thedailystar  \n",
       "3  thedailystar  \n",
       "4  thedailystar  "
      ]
     },
     "execution_count": 14,
     "metadata": {},
     "output_type": "execute_result"
    }
   ],
   "source": [
    "data.head()"
   ]
  },
  {
   "cell_type": "code",
   "execution_count": null,
   "id": "b5fd8a17",
   "metadata": {
    "papermill": {
     "duration": 0.338563,
     "end_time": "2022-09-23T20:50:29.137622",
     "exception": false,
     "start_time": "2022-09-23T20:50:28.799059",
     "status": "completed"
    },
    "tags": []
   },
   "outputs": [],
   "source": []
  }
 ],
 "metadata": {
  "kernelspec": {
   "display_name": "Python 3",
   "language": "python",
   "name": "python3"
  },
  "language_info": {
   "codemirror_mode": {
    "name": "ipython",
    "version": 3
   },
   "file_extension": ".py",
   "mimetype": "text/x-python",
   "name": "python",
   "nbconvert_exporter": "python",
   "pygments_lexer": "ipython3",
   "version": "3.7.12"
  },
  "papermill": {
   "default_parameters": {},
   "duration": 6986.059055,
   "end_time": "2022-09-23T20:50:32.406492",
   "environment_variables": {},
   "exception": null,
   "input_path": "__notebook__.ipynb",
   "output_path": "__notebook__.ipynb",
   "parameters": {},
   "start_time": "2022-09-23T18:54:06.347437",
   "version": "2.3.4"
  }
 },
 "nbformat": 4,
 "nbformat_minor": 5
}
